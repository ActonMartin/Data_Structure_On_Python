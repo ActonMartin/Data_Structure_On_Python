{
 "cells": [
  {
   "cell_type": "markdown",
   "metadata": {
    "toc": true
   },
   "source": [
    "<h1>Table of Contents<span class=\"tocSkip\"></span></h1>\n",
    "<div class=\"toc\"><ul class=\"toc-item\"><li><span><a href=\"#Depth-of-a-Node\" data-toc-modified-id=\"Depth-of-a-Node-1\"><span class=\"toc-item-num\">1&nbsp;&nbsp;</span>Depth of a Node</a></span></li><li><span><a href=\"#Height-of-a-Tree\" data-toc-modified-id=\"Height-of-a-Tree-2\"><span class=\"toc-item-num\">2&nbsp;&nbsp;</span>Height of a Tree</a></span></li><li><span><a href=\"#Types-of-Binary-Trees\" data-toc-modified-id=\"Types-of-Binary-Trees-3\"><span class=\"toc-item-num\">3&nbsp;&nbsp;</span>Types of Binary Trees</a></span><ul class=\"toc-item\"><li><span><a href=\"#Complete-Binary-Tree\" data-toc-modified-id=\"Complete-Binary-Tree-3.1\"><span class=\"toc-item-num\">3.1&nbsp;&nbsp;</span>Complete Binary Tree</a></span></li><li><span><a href=\"#Full-Binary-Tree\" data-toc-modified-id=\"Full-Binary-Tree-3.2\"><span class=\"toc-item-num\">3.2&nbsp;&nbsp;</span>Full Binary Tree</a></span></li></ul></li><li><span><a href=\"#Implementation\" data-toc-modified-id=\"Implementation-4\"><span class=\"toc-item-num\">4&nbsp;&nbsp;</span>Implementation</a></span></li></ul></div>"
   ]
  },
  {
   "cell_type": "markdown",
   "metadata": {},
   "source": [
    "A binary tree is a tree data structure in which each node has at most two children, which are referred to as the left child and the right child. Have a look at an elementary example of a binary tree:\n",
    "\n",
    "![](image/tree.png)\n",
    "\n",
    "Here is another example of a binary tree that introduces us to other related terminologies:\n",
    "\n",
    "![](image/tree1.png)\n",
    "![](image/tree2.png)\n",
    "![](image/tree3.png)\n",
    "\n",
    "# Depth of a Node #\n",
    "\n",
    "The length of the path from a node, n, to the root node. The depth of the root node is 0.\n",
    "\n",
    "![](image/de1.png)\n",
    "![](image/de2.png)\n",
    "![](image/de3.png)\n",
    "![](image/de4.png)\n",
    "\n",
    "# Height of a Tree #\n",
    "\n",
    "The length of the path from n to its deepest descendant. The height of the tree itself is the height of the root node, and the height of leaf nodes is always 0.\n",
    "\n",
    "![](image/he1.png)\n",
    "![](image/he2.png)\n",
    "![](image/he3.png)\n",
    "![](image/he4.png)\n",
    "![](image/he5.png)\n",
    "\n",
    "# Types of Binary Trees #\n",
    "\n",
    "## Complete Binary Tree ##\n",
    "\n",
    "In a complete binary tree, every level except possibly the last, is completely filled and all nodes in the last level are as far left as possible.\n",
    "\n",
    "![](image/comp.png)\n",
    "\n",
    "## Full Binary Tree ##\n",
    "A full binary tree (sometimes referred to as a proper or plane binary tree) is a tree in which every node has either 0 or 2 children.\n",
    "\n",
    "![](image/full.png)\n",
    "\n",
    "# Implementation #\n",
    "\n",
    "To implement a binary tree in Python, we will first implement the Node class."
   ]
  },
  {
   "cell_type": "code",
   "execution_count": 1,
   "metadata": {},
   "outputs": [],
   "source": [
    "class Node(object):\n",
    "  def __init__(self, value):\n",
    "    self.value = value\n",
    "    self.left = None\n",
    "    self.right = None"
   ]
  },
  {
   "cell_type": "markdown",
   "metadata": {},
   "source": [
    "In the code above, we have defined the Node class with a “new” style of defining classes in Python. The Node class has three attributes:\n",
    "\n",
    "self.value\n",
    "\n",
    "self.left\n",
    "\n",
    "self.right\n",
    "\n",
    "self.value will be equal to the value passed to the constructor while self.left and self.right will contain the nodes which will be the left and the right child of this node.\n",
    "\n",
    "Let’s go ahead and implement BinaryTree class:"
   ]
  },
  {
   "cell_type": "code",
   "execution_count": 2,
   "metadata": {},
   "outputs": [],
   "source": [
    "class Node(object):\n",
    "  def __init__(self, value):\n",
    "    self.value = value\n",
    "    self.left = None\n",
    "    self.right = None\n",
    "    \n",
    "class BinaryTree(object):\n",
    "  def __init__(self, root):\n",
    "    self.root = Node(root)\n",
    "\n",
    "\n",
    "tree = BinaryTree(1)\n",
    "tree.root.left = Node(2)\n",
    "tree.root.right = Node(3)\n",
    "tree.root.left.left = Node(4)\n",
    "tree.root.left.right = Node(5)\n",
    "tree.root.right.left = Node(6)\n",
    "tree.root.right.right = Node(7)"
   ]
  },
  {
   "cell_type": "markdown",
   "metadata": {},
   "source": [
    "The BinaryTree contains root, which is an object of the Node class and contains the value passed as root in the constructor of BinaryTree class. From lines 12-18, we construct an object from the BinaryTree class and populate the tree by creating nodes. The visual representation of that tree will be as follows:\n",
    "\n",
    "![](image/show.png)\n",
    "\n",
    "The implementation of the Binary Tree was pretty straightforward. At this point, we need some way to traverse the tree and visualize through code in Python. In the next lesson, we will go over some of the tree traversal methods."
   ]
  },
  {
   "cell_type": "code",
   "execution_count": null,
   "metadata": {},
   "outputs": [],
   "source": []
  }
 ],
 "metadata": {
  "kernelspec": {
   "display_name": "Python 3",
   "language": "python",
   "name": "python3"
  },
  "language_info": {
   "codemirror_mode": {
    "name": "ipython",
    "version": 3
   },
   "file_extension": ".py",
   "mimetype": "text/x-python",
   "name": "python",
   "nbconvert_exporter": "python",
   "pygments_lexer": "ipython3",
   "version": "3.7.4"
  },
  "toc": {
   "base_numbering": 1,
   "nav_menu": {},
   "number_sections": true,
   "sideBar": true,
   "skip_h1_title": false,
   "title_cell": "Table of Contents",
   "title_sidebar": "Contents",
   "toc_cell": true,
   "toc_position": {},
   "toc_section_display": true,
   "toc_window_display": false
  }
 },
 "nbformat": 4,
 "nbformat_minor": 2
}
