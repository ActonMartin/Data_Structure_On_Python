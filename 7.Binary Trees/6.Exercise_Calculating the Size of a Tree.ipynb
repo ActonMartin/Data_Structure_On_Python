{
 "cells": [
  {
   "cell_type": "markdown",
   "metadata": {
    "toc": true
   },
   "source": [
    "<h1>Table of Contents<span class=\"tocSkip\"></span></h1>\n",
    "<div class=\"toc\"><ul class=\"toc-item\"><li><span><a href=\"#Problem\" data-toc-modified-id=\"Problem-1\"><span class=\"toc-item-num\">1&nbsp;&nbsp;</span>Problem</a></span></li><li><span><a href=\"#Coding-Time!\" data-toc-modified-id=\"Coding-Time!-2\"><span class=\"toc-item-num\">2&nbsp;&nbsp;</span>Coding Time!</a></span></li><li><span><a href=\"#My-solution\" data-toc-modified-id=\"My-solution-3\"><span class=\"toc-item-num\">3&nbsp;&nbsp;</span>My solution</a></span></li><li><span><a href=\"#Official-solution\" data-toc-modified-id=\"Official-solution-4\"><span class=\"toc-item-num\">4&nbsp;&nbsp;</span>Official solution</a></span></li><li><span><a href=\"#Solution-Review:-Calculating-the-Size-of-a-Tree\" data-toc-modified-id=\"Solution-Review:-Calculating-the-Size-of-a-Tree-5\"><span class=\"toc-item-num\">5&nbsp;&nbsp;</span>Solution Review: Calculating the Size of a Tree</a></span></li><li><span><a href=\"#Iterative-Approach\" data-toc-modified-id=\"Iterative-Approach-6\"><span class=\"toc-item-num\">6&nbsp;&nbsp;</span>Iterative Approach</a></span></li><li><span><a href=\"#Recursive-Approach\" data-toc-modified-id=\"Recursive-Approach-7\"><span class=\"toc-item-num\">7&nbsp;&nbsp;</span>Recursive Approach</a></span></li></ul></div>"
   ]
  },
  {
   "cell_type": "markdown",
   "metadata": {},
   "source": [
    "# Problem #\n",
    "The size of the tree is the total number of nodes in a tree. You are required to return the size of a binary tree given the root node of the tree.\n",
    "\n",
    "Below is an example illustrated for you:\n",
    "![](image/sizetree.png)\n",
    "# Coding Time! #\n",
    "\n",
    "In the code below, size_ is a class method of the BinaryTree class. You cannot see the rest of the code as it is hidden. As size_ is a class method, please make sure that you don’t change the indentation of the code provided to you. You are required to write your solution under the method prototype and return the size of the tree from the method.\n",
    "\n",
    "Good luck!"
   ]
  },
  {
   "cell_type": "markdown",
   "metadata": {},
   "source": [
    "# My solution #"
   ]
  },
  {
   "cell_type": "code",
   "execution_count": 1,
   "metadata": {
    "ExecuteTime": {
     "end_time": "2020-04-02T08:00:41.311540Z",
     "start_time": "2020-04-02T08:00:41.305540Z"
    }
   },
   "outputs": [],
   "source": [
    "    def size_(self, node):\n",
    "      if node is None:\n",
    "        return 0\n",
    "      left_count = self.size_(node.left)\n",
    "      right_count = self.size_(node.right)\n",
    "      return 1 + left_count + right_count"
   ]
  },
  {
   "cell_type": "markdown",
   "metadata": {},
   "source": [
    "# Official solution #"
   ]
  },
  {
   "cell_type": "code",
   "execution_count": 2,
   "metadata": {
    "ExecuteTime": {
     "end_time": "2020-04-02T08:05:28.784983Z",
     "start_time": "2020-04-02T08:05:28.778982Z"
    }
   },
   "outputs": [],
   "source": [
    "    def size_(self, node):\n",
    "      if node is None:\n",
    "        return 0\n",
    "      return 1 + self.size_(node.left) + self.size_(node.right)"
   ]
  },
  {
   "cell_type": "markdown",
   "metadata": {},
   "source": [
    "# Solution Review: Calculating the Size of a Tree\n",
    "\n",
    "In this lesson, we will review a solution to the problem of determining the size of a binary tree.\n",
    "\n",
    "The “size” of a binary tree is the total number of nodes present in the binary tree. We will explicitly define this quantity in greater detail and cover a strategy for how one may calculate this quantity in the binary tree data structure we have been building in this chapter.\n",
    "\n",
    "We will discuss an iterative and a recursive approach for solving this challenge.\n",
    "\n",
    "# Iterative Approach #\n",
    "In the iterative solution, we’ll make use of a stack on which we can push the starting node and increment size by 1. Next, we’ll pop elements and push their children on to the stack if they have any. For every push, we’ll increment size by 1. When the stack becomes empty, the count for the size will also be final. Have a look at the slides below to check out the algorithm:\n",
    "\n",
    "![](image/solu_2020-04-02_16-01-50.png)\n",
    "![](image/solu_2020-04-02_16-01-59.png)\n",
    "![](image/solu_2020-04-02_16-02-07.png)\n",
    "![](image/solu_2020-04-02_16-02-13.png)\n",
    "![](image/solu_2020-04-02_16-02-21.png)\n",
    "![](image/solu_2020-04-02_16-02-29.png)\n",
    "![](image/solu_2020-04-02_16-02-37.png)\n",
    "![](image/solu_2020-04-02_16-02-44.png)"
   ]
  },
  {
   "cell_type": "markdown",
   "metadata": {},
   "source": [
    "Here is the implementation of the algorithm illustrated above in Python:"
   ]
  },
  {
   "cell_type": "code",
   "execution_count": 3,
   "metadata": {
    "ExecuteTime": {
     "end_time": "2020-04-02T08:19:25.282827Z",
     "start_time": "2020-04-02T08:19:25.274827Z"
    }
   },
   "outputs": [],
   "source": [
    "def size(self):\n",
    "  if self.root is None:\n",
    "      return 0\n",
    "\n",
    "  stack = Stack()\n",
    "  stack.push(self.root)\n",
    "  size = 1\n",
    "  while stack:\n",
    "    node = stack.pop()\n",
    "    if node.left:\n",
    "      size += 1\n",
    "      stack.push(node.left)\n",
    "    if node.right:\n",
    "      size += 1\n",
    "      stack.push(node.right)\n",
    "  return size"
   ]
  },
  {
   "cell_type": "markdown",
   "metadata": {},
   "source": [
    "Lines 2-3 contain the edge case which checks for an empty tree and returns 0 in that case. On line 5, we declare stack to a Stack object and push the root node on to the stack on line 6. After the push, we initialize size to 1 as we have a node present in the stack.\n",
    "\n",
    "Next, we have a while loop which runs as long as stack is not empty. On line 9, we pop from the stack and store the popped element in node. On lines 10-15, we check if node has a left or right child and push the child on to the stack while also incrementing the size by 1. Finally, when stack is empty, the while loop terminates, and size is returned on line 16."
   ]
  },
  {
   "cell_type": "markdown",
   "metadata": {},
   "source": [
    "# Recursive Approach #\n",
    "We will recursively traverse the nodes and keep track of the count of the nodes visited. Check out the implementation below:"
   ]
  },
  {
   "cell_type": "code",
   "execution_count": 4,
   "metadata": {
    "ExecuteTime": {
     "end_time": "2020-04-02T08:20:09.859377Z",
     "start_time": "2020-04-02T08:20:09.854377Z"
    }
   },
   "outputs": [],
   "source": [
    "def size_(self, node):\n",
    "  if node is None:\n",
    "      return 0\n",
    "  return 1 + self.size_(node.left) + self.size_(node.right)"
   ]
  },
  {
   "cell_type": "markdown",
   "metadata": {},
   "source": [
    "Recursively speaking, the size of the tree is the size of the left subtree of the root node + the size of the right subtree of the root node + 1 (for the root node).\n",
    "\n",
    "The base case is that an empty binary tree has a size of 0 so when node becomes None, we return 0 as a count. Otherwise, we return 1 plus the count from the recursive call on the left and the right subtree.\n",
    "\n",
    "Now, this was pretty straightforward. In the code widget below, you can play around with the entire implementation of BinaryTree that we have covered so far in this chapter."
   ]
  },
  {
   "cell_type": "code",
   "execution_count": 5,
   "metadata": {
    "ExecuteTime": {
     "end_time": "2020-04-02T08:22:04.343925Z",
     "start_time": "2020-04-02T08:22:04.245920Z"
    }
   },
   "outputs": [
    {
     "name": "stdout",
     "output_type": "stream",
     "text": [
      "5\n",
      "5\n"
     ]
    }
   ],
   "source": [
    "class Stack(object):\n",
    "    def __init__(self):\n",
    "        self.items = []\n",
    "\n",
    "    def __len__(self):\n",
    "        return self.size()\n",
    "     \n",
    "    def size(self):\n",
    "        return len(self.items)\n",
    "\n",
    "    def push(self, item):\n",
    "        self.items.append(item)\n",
    "\n",
    "    def pop(self):  \n",
    "        if not self.is_empty():\n",
    "            return self.items.pop()\n",
    "\n",
    "    def peek(self):\n",
    "        if not self.is_empty():\n",
    "            return self.items[-1]\n",
    "\n",
    "    def is_empty(self):\n",
    "        return len(self.items) == 0\n",
    "\n",
    "    def __str__(self):\n",
    "        s = \"\"\n",
    "        for i in range(len(self.items)):\n",
    "            s += str(self.items[i].value) + \"-\"\n",
    "        return s\n",
    "\n",
    "\n",
    "class Queue(object):\n",
    "    def __init__(self):\n",
    "        self.items = []\n",
    "\n",
    "    def __len__(self):\n",
    "        return self.size()\n",
    "\n",
    "    def enqueue(self, item):\n",
    "        self.items.insert(0, item)\n",
    "\n",
    "    def dequeue(self):\n",
    "        if not self.is_empty():\n",
    "            return self.items.pop()\n",
    "\n",
    "    def size(self):\n",
    "        return len(self.items)\n",
    "\n",
    "    def is_empty(self):\n",
    "        return len(self.items) == 0\n",
    "\n",
    "    def peek(self):\n",
    "        if not self.is_empty():\n",
    "            return self.items[-1].value\n",
    "\n",
    "\n",
    "class Node(object):\n",
    "    def __init__(self, value):\n",
    "        self.value = value\n",
    "        self.left = None\n",
    "        self.right = None\n",
    "\n",
    "\n",
    "class BinaryTree(object):\n",
    "    def __init__(self, root):\n",
    "        self.root = Node(root)\n",
    "\n",
    "    def search(self, find_val, traversal_type):\n",
    "        if traversal_type == \"preorder\":\n",
    "            return self.preorder_search(tree.root, find_val)\n",
    "        elif traversal_type == \"inorder\":\n",
    "            return self.inorder_search(tree.root, find_val)\n",
    "        elif traversal_type == \"postorder\":\n",
    "            return self.postorder_search(tree.root, find_val)\n",
    "        else:\n",
    "            print(\"Traversal type \" + str(traversal_type) + \" not recognized.\")\n",
    "            return False\n",
    "\n",
    "    def print_tree(self, traversal_type):\n",
    "        # Recursive traversals\n",
    "        if traversal_type == \"preorder\":\n",
    "            return self.preorder_print(tree.root, \"\")\n",
    "        elif traversal_type == \"inorder\":\n",
    "            return self.inorder_print(tree.root, \"\")\n",
    "        elif traversal_type == \"postorder\":\n",
    "            return self.postorder_print(tree.root, \"\")\n",
    "\n",
    "        # Iterative traversals\n",
    "        elif traversal_type == \"levelorder\":\n",
    "            return self.levelorder_print(tree.root)\n",
    "        elif traversal_type == \"inorder_iterative\":\n",
    "            return self.inorder_iterative(tree.root)\n",
    "        elif traversal_type == \"preorder_iterative\":\n",
    "            return self.preorder_iterative(tree.root)\n",
    "        elif traversal_type == \"postorder_iterative\":\n",
    "            return self.postorder_iterative(tree.root)\n",
    "        else:\n",
    "            print(\"Traversal type \" + str(traversal_type) + \" not recognized.\")\n",
    "            return False\n",
    "\n",
    "    def levelorder_print(self, start):\n",
    "        if start is None:\n",
    "            return\n",
    "        queue = Queue()\n",
    "        queue.enqueue(start)\n",
    "\n",
    "        traversal = \"\"\n",
    "        while len(queue) > 0:\n",
    "            traversal += str(queue.peek()) + \"-\"\n",
    "            node = queue.dequeue()\n",
    "\n",
    "            if node.left:\n",
    "                queue.enqueue(node.left)\n",
    "            if node.right:\n",
    "                queue.enqueue(node.right)\n",
    "\n",
    "        return traversal\n",
    "\n",
    "    def preorder_search(self, start, find_val):\n",
    "        if start:\n",
    "            if start.value == find_val:\n",
    "                return True\n",
    "            else:\n",
    "                return self.preorder_search(start.left, find_val) or \\\n",
    "                       self.preorder_search(start.right, find_val)\n",
    "        return False\n",
    "\n",
    "    def preorder_print(self, start, traversal):\n",
    "        \"\"\"Root->Left-Right\"\"\"\n",
    "        if start:\n",
    "            traversal += (str(start.value) + \"-\")\n",
    "            traversal = self.preorder_print(start.left, traversal)\n",
    "            traversal = self.preorder_print(start.right, traversal)\n",
    "        return traversal\n",
    "\n",
    "    def inorder_print(self, start, traversal):\n",
    "        \"\"\"Left->Root->Right\"\"\"\n",
    "        if start:\n",
    "            traversal = self.inorder_print(start.left, traversal)\n",
    "            traversal += (str(start.value) + \"-\")\n",
    "            traversal = self.inorder_print(start.right, traversal)\n",
    "        return traversal\n",
    "\n",
    "    def postorder_print(self, start, traversal):\n",
    "        \"\"\"Left->Right->Root\"\"\"\n",
    "        if start:\n",
    "            traversal = self.postorder_print(start.left, traversal)\n",
    "            traversal = self.postorder_print(start.right, traversal)\n",
    "            traversal += (str(start.value) + \"-\")\n",
    "        return traversal\n",
    "\n",
    "    def preorder_iterative(self, start):\n",
    "        stack = Stack()\n",
    "\n",
    "        cur = start\n",
    "        is_done = False\n",
    "\n",
    "        traversal = \"\"\n",
    "        while not is_done:\n",
    "            if cur is not None:\n",
    "                traversal += str(cur.value) + \"-\"\n",
    "                stack.push(cur)\n",
    "                cur = cur.left\n",
    "            else:\n",
    "                if len(stack) > 0:\n",
    "                    cur = stack.pop()\n",
    "                    cur = cur.right\n",
    "                else:\n",
    "                    is_done = True\n",
    "        return traversal\n",
    "\n",
    "    def inorder_iterative(self, start):\n",
    "        s = Stack()\n",
    "\n",
    "        cur = start\n",
    "        is_done = False\n",
    "\n",
    "        traversal = \"\"\n",
    "        while not is_done:\n",
    "            if cur is not None:\n",
    "                s.push(cur)\n",
    "                cur = cur.left\n",
    "            else:\n",
    "                if len(s) > 0:\n",
    "                    cur = s.pop()\n",
    "                    traversal += str(cur.value) + \"-\"\n",
    "                    cur = cur.right\n",
    "                else:\n",
    "                    is_done = True\n",
    "        return traversal\n",
    "\n",
    "    def postorder_iterative(self, start):\n",
    "        s = Stack()\n",
    "\n",
    "        cur = start\n",
    "        is_done = False\n",
    "\n",
    "        traversal = \"\"\n",
    "        while not is_done:\n",
    "             \n",
    "            if cur is not None:\n",
    "                s.push(cur)\n",
    "                cur = cur.left\n",
    "            else:\n",
    "                if len(s) > 0:\n",
    "                    cur = s.pop()\n",
    "                    traversal += str(cur.value) + \"-\"\n",
    "                    cur = cur.right\n",
    "                else:\n",
    "                    is_done = True\n",
    "\n",
    "        return traversal\n",
    "\n",
    "    def height(self, node):\n",
    "        if node is None:\n",
    "            return -1\n",
    "        left_height = self.height(node.left)\n",
    "        right_height = self.height(node.right)\n",
    "\n",
    "        return 1 + max(left_height, right_height)\n",
    "\n",
    "    def size_(self, node):\n",
    "        if node is None:\n",
    "            return 0\n",
    "        return 1 + self.size_(node.left) + self.size_(node.right)\n",
    "\n",
    "    def size(self):\n",
    "        if self.root is None:\n",
    "            return 0\n",
    "\n",
    "        stack = Stack()\n",
    "        stack.push(self.root)\n",
    "        size = 1\n",
    "        while stack:\n",
    "            node = stack.pop()\n",
    "            if node.left:\n",
    "                size += 1\n",
    "                stack.push(node.left)\n",
    "            if node.right:\n",
    "                size += 1\n",
    "                stack.push(node.right)\n",
    "        return size\n",
    "\n",
    "# Calculate size of binary tree:\n",
    "#     1\n",
    "#    / \\\n",
    "#   2  3\n",
    "#  / \\\n",
    "# 4  5\n",
    "# \n",
    "tree = BinaryTree(1)\n",
    "tree.root.left = Node(2)\n",
    "tree.root.right = Node(3)\n",
    "tree.root.left.left = Node(4)\n",
    "tree.root.left.right = Node(5)\n",
    "\n",
    "print(tree.size())\n",
    "print(tree.size_(tree.root))"
   ]
  },
  {
   "cell_type": "markdown",
   "metadata": {},
   "source": [
    "I hope you had fun learning about Binary Trees. In the next chapter, we have a different type of binary tree​, i.e., the binary search tree. Stay tuned to find out more!"
   ]
  },
  {
   "cell_type": "code",
   "execution_count": null,
   "metadata": {},
   "outputs": [],
   "source": []
  }
 ],
 "metadata": {
  "kernelspec": {
   "display_name": "Python 3",
   "language": "python",
   "name": "python3"
  },
  "language_info": {
   "codemirror_mode": {
    "name": "ipython",
    "version": 3
   },
   "file_extension": ".py",
   "mimetype": "text/x-python",
   "name": "python",
   "nbconvert_exporter": "python",
   "pygments_lexer": "ipython3",
   "version": "3.7.7"
  },
  "toc": {
   "base_numbering": 1,
   "nav_menu": {},
   "number_sections": true,
   "sideBar": false,
   "skip_h1_title": false,
   "title_cell": "Table of Contents",
   "title_sidebar": "Contents",
   "toc_cell": true,
   "toc_position": {},
   "toc_section_display": true,
   "toc_window_display": false
  }
 },
 "nbformat": 4,
 "nbformat_minor": 4
}
