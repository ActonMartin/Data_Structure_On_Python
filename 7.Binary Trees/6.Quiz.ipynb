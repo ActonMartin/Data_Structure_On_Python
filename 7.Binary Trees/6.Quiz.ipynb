{
 "cells": [
  {
   "cell_type": "markdown",
   "metadata": {
    "toc": true
   },
   "source": [
    "<h1>Table of Contents<span class=\"tocSkip\"></span></h1>\n",
    "<div class=\"toc\"><ul class=\"toc-item\"><li><span><a href=\"#What-is-the-total-number-of-edges-from-a-particular-node-to-its-deepest-descendant-in-a-tree?\" data-toc-modified-id=\"What-is-the-total-number-of-edges-from-a-particular-node-to-its-deepest-descendant-in-a-tree?-1\"><span class=\"toc-item-num\">1&nbsp;&nbsp;</span>What is the total number of edges from a particular node to its deepest descendant in a tree?</a></span></li><li><span><a href=\"#Fill-in-the-blank:-A-binary-tree-in-which-every-node-has-either-0-or-2-children-is-called\" data-toc-modified-id=\"Fill-in-the-blank:-A-binary-tree-in-which-every-node-has-either-0-or-2-children-is-called-2\"><span class=\"toc-item-num\">2&nbsp;&nbsp;</span>Fill in the blank: A binary tree in which every node has either 0 or 2 children is called</a></span></li><li><span><a href=\"#The-Level-Order-Traversal-is-a-type-of-depth-first-traversal.\" data-toc-modified-id=\"The-Level-Order-Traversal-is-a-type-of-depth-first-traversal.-3\"><span class=\"toc-item-num\">3&nbsp;&nbsp;</span>The Level Order Traversal is a type of depth-first traversal.</a></span></li><li><span><a href=\"#What-is-the-output-of-the-following-code?\" data-toc-modified-id=\"What-is-the-output-of-the-following-code?-4\"><span class=\"toc-item-num\">4&nbsp;&nbsp;</span>What is the output of the following code?</a></span></li><li><span><a href=\"#What-is-the-time-complexity-of-the-depth-first-traversals-of-a-tree-containing-nn-nodes?\" data-toc-modified-id=\"What-is-the-time-complexity-of-the-depth-first-traversals-of-a-tree-containing-nn-nodes?-5\"><span class=\"toc-item-num\">5&nbsp;&nbsp;</span>What is the time complexity of the depth-first traversals of a tree containing nn nodes?</a></span></li></ul></div>"
   ]
  },
  {
   "cell_type": "markdown",
   "metadata": {},
   "source": [
    "It's quiz time! Test yourself by solving these questions about binary trees.\n",
    "\n",
    "# What is the total number of edges from a particular node to its deepest descendant in a tree? #\n",
    "\n",
    "**The height of that particular node**\n",
    "\n",
    "# Fill in the blank: A binary tree in which every node has either 0 or 2 children is called #\n",
    "\n",
    "**a full binary tree**\n",
    "\n",
    "# The Level Order Traversal is a type of depth-first traversal. #\n",
    "\n",
    "**False**\n",
    "\n",
    "# What is the output of the following code? #\n",
    "```python\n",
    "tree = BinaryTree(12)\n",
    "tree.root.left = Node(32)\n",
    "tree.root.right = Node(37)\n",
    "tree.root.left.left = Node(24)\n",
    "tree.root.left.right = Node(5)\n",
    "tree.root.right.left = Node(100)\n",
    "tree.root.right.right = Node(75)\n",
    " \n",
    "print(tree.print_tree(\"postorder\"))\n",
    "```\n",
    "**24-5-32-100-75-37-12-**\n",
    "\n",
    "# What is the time complexity of the depth-first traversals of a tree containing nn nodes? #\n",
    "\n",
    "**O(n)**"
   ]
  },
  {
   "cell_type": "code",
   "execution_count": null,
   "metadata": {},
   "outputs": [],
   "source": []
  }
 ],
 "metadata": {
  "kernelspec": {
   "display_name": "Python 3",
   "language": "python",
   "name": "python3"
  },
  "language_info": {
   "codemirror_mode": {
    "name": "ipython",
    "version": 3
   },
   "file_extension": ".py",
   "mimetype": "text/x-python",
   "name": "python",
   "nbconvert_exporter": "python",
   "pygments_lexer": "ipython3",
   "version": "3.7.7"
  },
  "toc": {
   "base_numbering": 1,
   "nav_menu": {},
   "number_sections": true,
   "sideBar": false,
   "skip_h1_title": false,
   "title_cell": "Table of Contents",
   "title_sidebar": "Contents",
   "toc_cell": true,
   "toc_position": {},
   "toc_section_display": true,
   "toc_window_display": false
  }
 },
 "nbformat": 4,
 "nbformat_minor": 4
}
