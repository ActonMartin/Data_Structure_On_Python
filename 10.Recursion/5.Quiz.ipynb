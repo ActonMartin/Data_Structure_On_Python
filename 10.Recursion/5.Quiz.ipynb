{
 "cells": [
  {
   "cell_type": "markdown",
   "metadata": {
    "toc": true
   },
   "source": [
    "<h1>Table of Contents<span class=\"tocSkip\"></span></h1>\n",
    "<div class=\"toc\"><ul class=\"toc-item\"></ul></div>"
   ]
  },
  {
   "cell_type": "markdown",
   "metadata": {},
   "source": [
    "Recursive implementations are always less space-consuming then iterative implementations.\n",
    "\n",
    "False\n",
    "\n",
    "\n",
    "Fill in the blank for the following recursive function which calculates the power of a base raised to an exponent:\n",
    "```python\n",
    "def pow(base,exp):\n",
    "    if exp == 0: \n",
    "        return 1\n",
    "    else:\n",
    "        return ___________\n",
    "```\n",
    "base * pow(base, exp - 1)\n",
    "\n",
    "What is the output of the following code?\n",
    "```python\n",
    "def fibonacci(n):\n",
    "    if n==1:\n",
    "        return 0\n",
    "    elif n==2:\n",
    "        return 1\n",
    "    else:\n",
    "        return fibonacci(n-1)+fibonacci(n-2) \n",
    "print(fibonacci(7)) \n",
    "```\n",
    "\n",
    "8\n",
    "\n",
    "Only recursively defined functions can be implemented recursively.\n",
    "\n",
    "False"
   ]
  },
  {
   "cell_type": "code",
   "execution_count": null,
   "metadata": {},
   "outputs": [],
   "source": []
  }
 ],
 "metadata": {
  "kernelspec": {
   "display_name": "Python 3",
   "language": "python",
   "name": "python3"
  },
  "language_info": {
   "codemirror_mode": {
    "name": "ipython",
    "version": 3
   },
   "file_extension": ".py",
   "mimetype": "text/x-python",
   "name": "python",
   "nbconvert_exporter": "python",
   "pygments_lexer": "ipython3",
   "version": "3.7.7"
  },
  "toc": {
   "base_numbering": 1,
   "nav_menu": {},
   "number_sections": true,
   "sideBar": false,
   "skip_h1_title": false,
   "title_cell": "Table of Contents",
   "title_sidebar": "Contents",
   "toc_cell": true,
   "toc_position": {},
   "toc_section_display": true,
   "toc_window_display": false
  }
 },
 "nbformat": 4,
 "nbformat_minor": 4
}
