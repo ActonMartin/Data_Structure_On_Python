{
 "cells": [
  {
   "cell_type": "markdown",
   "metadata": {
    "toc": true
   },
   "source": [
    "<h1>Table of Contents<span class=\"tocSkip\"></span></h1>\n",
    "<div class=\"toc\"><ul class=\"toc-item\"><li><span><a href=\"#Iterative-Approach\" data-toc-modified-id=\"Iterative-Approach-1\"><span class=\"toc-item-num\">1&nbsp;&nbsp;</span>Iterative Approach</a></span></li><li><span><a href=\"#Recursive-Approach\" data-toc-modified-id=\"Recursive-Approach-2\"><span class=\"toc-item-num\">2&nbsp;&nbsp;</span>Recursive Approach</a></span></li></ul></div>"
   ]
  },
  {
   "cell_type": "markdown",
   "metadata": {},
   "source": [
    "In this lesson, we focus on the following problem:\n",
    "\n",
    "Given a string, calculate the number of consonants present.\n",
    "\n",
    "The vowels are the following letters:\n",
    "\n",
    "a e i o u\n",
    "\n",
    "Any other letter that is not a vowel is a consonant.\n",
    "\n",
    "Let’s have a look at an example:\n",
    "\n",
    "Welcome to Educative!\n",
    "\n",
    "has 9 consonants.\n",
    "\n",
    "\n",
    "Before you dive into the implementation, consider the edge cases such as spaces and exclamation marks. This implies that if a character is not a vowel, it has to be a letter to be considered a consonant.\n",
    "\n",
    "# Iterative Approach #\n",
    "Check out the iterative approach in the snippet below:"
   ]
  },
  {
   "cell_type": "code",
   "execution_count": 1,
   "metadata": {
    "ExecuteTime": {
     "end_time": "2020-04-05T01:27:28.980793Z",
     "start_time": "2020-04-05T01:27:28.967793Z"
    }
   },
   "outputs": [],
   "source": [
    "vowels = \"aeiou\"\n",
    "\n",
    "def iterative_count_consonants(input_str):\n",
    "    consonant_count = 0\n",
    "    for i in range(len(input_str)):\n",
    "        if input_str[i].lower() not in vowels and input_str[i].isalpha():\n",
    "            consonant_count += 1\n",
    "    return consonant_count"
   ]
  },
  {
   "cell_type": "markdown",
   "metadata": {},
   "source": [
    "On line 1, we define vowels globally to be \"aeiou\". input_str is the given string passed to iterative_count_consonants function which we have to process to calculate the number of consonants. consonant_count is initialized to 0 on line 4 and then the input_str is traversed character by character using a for loop on line 5. Note that input_str[i] is changed to lowercase using lower() because vowels contains all the vowels in lowercase so that we can compare them correctly on line 6. As discussed before, we check if input_str[i].lower() is present in vowels or not. Additionally, input_str[i].isalpha() should also be True for the condition on line 6 to be True. Thus, if input_str[i] is not a vowel and an alphabet, then consonant_count is incremented by 1 on line 7. After the condition on line 6 is evaluated for every character in input_str, the final count of consonant_count is returned from the function on line 8.\n",
    "\n",
    "The running time complexity for the iterative approach is $O(n)$ because, for each character in the input string of length nn, we spend a constant amount of effort.\n",
    "\n",
    "# Recursive Approach #\n",
    "The implementation of the recursive approach will be very similar to the recursive implementations we have covered in the previous lessons. Check it out below:\n",
    "\n"
   ]
  },
  {
   "cell_type": "code",
   "execution_count": 2,
   "metadata": {
    "ExecuteTime": {
     "end_time": "2020-04-05T01:30:21.837680Z",
     "start_time": "2020-04-05T01:30:21.823679Z"
    }
   },
   "outputs": [],
   "source": [
    "vowels = \"aeiou\"\n",
    "\n",
    "def recursive_count_consonants(input_str):\n",
    "    if input_str == '':\n",
    "        return 0\n",
    "\n",
    "    if input_str[0].lower() not in vowels and input_str[0].isalpha():\n",
    "        return 1 + recursive_count_consonants(input_str[1:])\n",
    "    else:\n",
    "        return recursive_count_consonants(input_str[1:])"
   ]
  },
  {
   "cell_type": "markdown",
   "metadata": {},
   "source": [
    "Here, vowels is again defined globally on line 1. Now let’s come to recursive_count_consonants function on line 3. If input_str is empty, 0 is returned from the function. This is the base case for recursive_count_consonants.\n",
    "\n",
    "On line 7, we have the same condition as in the iterative implementation. If the condition on line 7 evaluates to True, we add 1 in addition to the count returned from the recursive call where a truncated string is passed using the slice notation (line 8). Otherwise, if the condition on line 7 is not True and input_str[0] is not a consonant, 1 is not added to the count, but a recursive call is made by passing input_str[1:] on line 10. At every recursive call, the first character is evaluated while the rest of the characters are passed into the next recursive calls.\n",
    "\n",
    "The running time complexity for the recursive approach is O(n)O(n) because, for each character in the input string of length nn, we make a recursive call and each recursive call has constant time complexity.\n",
    "\n",
    "In the code widget below, you can find both the implementations. Go ahead and play around with them using your test cases."
   ]
  },
  {
   "cell_type": "code",
   "execution_count": 3,
   "metadata": {
    "ExecuteTime": {
     "end_time": "2020-04-05T01:30:35.788478Z",
     "start_time": "2020-04-05T01:30:35.762477Z"
    }
   },
   "outputs": [
    {
     "name": "stdout",
     "output_type": "stream",
     "text": [
      "abc de\n",
      "3\n",
      "LuCiDPrograMMiNG\n",
      "11\n"
     ]
    }
   ],
   "source": [
    "vowels = \"aeiou\"\n",
    "\n",
    "def iterative_count_consonants(input_str):\n",
    "    consonant_count = 0\n",
    "    for i in range(len(input_str)):\n",
    "        if input_str[i].lower() not in vowels and input_str[i].isalpha():\n",
    "            consonant_count += 1\n",
    "    return consonant_count\n",
    "\n",
    "\n",
    "def recursive_count_consonants(input_str):\n",
    "    if input_str == '':\n",
    "        return 0\n",
    "\n",
    "    if input_str[0].lower() not in vowels and input_str[0].isalpha():\n",
    "        return 1 + recursive_count_consonants(input_str[1:])\n",
    "    else:\n",
    "        return recursive_count_consonants(input_str[1:])\n",
    "\n",
    "input_str = \"abc de\"\n",
    "print(input_str)\n",
    "print(iterative_count_consonants(input_str))\n",
    "input_str = \"LuCiDPrograMMiNG\"\n",
    "print(input_str)\n",
    "print(recursive_count_consonants(input_str))"
   ]
  },
  {
   "cell_type": "code",
   "execution_count": null,
   "metadata": {},
   "outputs": [],
   "source": []
  }
 ],
 "metadata": {
  "kernelspec": {
   "display_name": "Python 3",
   "language": "python",
   "name": "python3"
  },
  "language_info": {
   "codemirror_mode": {
    "name": "ipython",
    "version": 3
   },
   "file_extension": ".py",
   "mimetype": "text/x-python",
   "name": "python",
   "nbconvert_exporter": "python",
   "pygments_lexer": "ipython3",
   "version": "3.7.7"
  },
  "toc": {
   "base_numbering": 1,
   "nav_menu": {},
   "number_sections": true,
   "sideBar": false,
   "skip_h1_title": false,
   "title_cell": "Table of Contents",
   "title_sidebar": "Contents",
   "toc_cell": true,
   "toc_position": {},
   "toc_section_display": true,
   "toc_window_display": false
  }
 },
 "nbformat": 4,
 "nbformat_minor": 4
}
