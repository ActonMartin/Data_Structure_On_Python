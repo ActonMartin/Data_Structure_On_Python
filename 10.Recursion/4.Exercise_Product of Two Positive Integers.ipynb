{
 "cells": [
  {
   "cell_type": "markdown",
   "metadata": {
    "toc": true
   },
   "source": [
    "<h1>Table of Contents<span class=\"tocSkip\"></span></h1>\n",
    "<div class=\"toc\"><ul class=\"toc-item\"><li><span><a href=\"#Problem\" data-toc-modified-id=\"Problem-1\"><span class=\"toc-item-num\">1&nbsp;&nbsp;</span>Problem</a></span></li><li><span><a href=\"#hint\" data-toc-modified-id=\"hint-2\"><span class=\"toc-item-num\">2&nbsp;&nbsp;</span>hint</a></span></li><li><span><a href=\"#Coding-Time!\" data-toc-modified-id=\"Coding-Time!-3\"><span class=\"toc-item-num\">3&nbsp;&nbsp;</span>Coding Time!</a></span></li><li><span><a href=\"#Solution-Review:-Product-of-Two-Positive-Integers\" data-toc-modified-id=\"Solution-Review:-Product-of-Two-Positive-Integers-4\"><span class=\"toc-item-num\">4&nbsp;&nbsp;</span>Solution Review: Product of Two Positive Integers</a></span></li><li><span><a href=\"#Implementation\" data-toc-modified-id=\"Implementation-5\"><span class=\"toc-item-num\">5&nbsp;&nbsp;</span>Implementation</a></span></li><li><span><a href=\"#Explanation\" data-toc-modified-id=\"Explanation-6\"><span class=\"toc-item-num\">6&nbsp;&nbsp;</span>Explanation</a></span></li></ul></div>"
   ]
  },
  {
   "cell_type": "markdown",
   "metadata": {},
   "source": [
    "# Problem #\n",
    "Given two numbers, find their product using recursion. In Python, we usually use the * operator to multiply two numbers, but you have to use recursion to solve this challenge. Make use of the hint given below.\n",
    "\n",
    "# hint #\n",
    "\n",
    "5 * 3 = 5 + 5 + 5 = 15\n",
    "\n",
    "# Coding Time! #\n",
    "\n",
    "Your task is to return the product of the two positive integers x and y from the function recursive_multiply(x,y) given in the code widget below. Make sure that you don’t use the built-in multiplication operator of Python.\n"
   ]
  },
  {
   "cell_type": "code",
   "execution_count": 1,
   "metadata": {
    "ExecuteTime": {
     "end_time": "2020-04-05T01:59:20.493126Z",
     "start_time": "2020-04-05T01:59:20.466124Z"
    }
   },
   "outputs": [
    {
     "data": {
      "text/plain": [
       "6669996"
      ]
     },
     "execution_count": 1,
     "metadata": {},
     "output_type": "execute_result"
    }
   ],
   "source": [
    "def recursive_multiply(x, y):\n",
    "  if x < y:\n",
    "        return recursive_multiply(y, x)\n",
    "  if y ==0:\n",
    "    return 0\n",
    "  return x + recursive_multiply(x,y-1)\n",
    "\n",
    "recursive_multiply(3,2223332)"
   ]
  },
  {
   "cell_type": "markdown",
   "metadata": {},
   "source": [
    "# Solution Review: Product of Two Positive Integers #\n",
    "Let’s discuss the solution to the challenge in the previous lesson. The problem was to find the product of two positive integers.\n",
    "\n",
    "# Implementation #\n",
    "Let’s have a look at the implementation below:\n",
    "\n"
   ]
  },
  {
   "cell_type": "code",
   "execution_count": 2,
   "metadata": {
    "ExecuteTime": {
     "end_time": "2020-04-05T02:00:45.714000Z",
     "start_time": "2020-04-05T02:00:45.691999Z"
    }
   },
   "outputs": [
    {
     "name": "stdout",
     "output_type": "stream",
     "text": [
      "1000000\n",
      "1000000\n"
     ]
    }
   ],
   "source": [
    "def recursive_multiply(x, y):\n",
    "\n",
    "    # This cuts down on the total number of\n",
    "    # recursive calls:\n",
    "    if x < y:\n",
    "        return recursive_multiply(y, x)\n",
    "    if y == 0:\n",
    "        return 0\n",
    "    return x + recursive_multiply(x, y-1)\n",
    "\n",
    "x = 500\n",
    "y = 2000\n",
    "\n",
    "print(x * y)\n",
    "print(recursive_multiply(x, y))"
   ]
  },
  {
   "cell_type": "markdown",
   "metadata": {},
   "source": [
    "# Explanation #\n",
    "\n",
    "The hint indicated the following:\n",
    "\n",
    "5 * 3 = 5 + 5 + 5 = 15\n",
    "\n",
    "We make use of the hint in the implementation. Let’s skip the code on lines 5-6 for a while and discuss the code afterward. On line 7, we check if y equals 0. If it does, 0 is returned on line 8. Otherwise, x is added to the sum returned from the recursive call on line 9. y-1 is passed to the next recursive call as x is added once in the current recursive call. So overall, x will be added together y times in all the recursive calls. This will return the product of x and y at the end of all the recursive calls.\n",
    "\n",
    "Now, in the implementation provided above, we make y recursive calls so if x equals 500 and y equals 2000, we get the following error:\n",
    "\n",
    "RecursionError: maximum recursion depth exceeded in comparison\n",
    "\n",
    "if we skip the lines 5-6 from the above implementation. Check out the code below:"
   ]
  },
  {
   "cell_type": "code",
   "execution_count": 3,
   "metadata": {
    "ExecuteTime": {
     "end_time": "2020-04-05T02:02:17.664259Z",
     "start_time": "2020-04-05T02:02:17.651258Z"
    }
   },
   "outputs": [
    {
     "name": "stdout",
     "output_type": "stream",
     "text": [
      "1000000\n",
      "1000000\n"
     ]
    }
   ],
   "source": [
    "def recursive_multiply(x, y):\n",
    "\n",
    "    # This cuts down on the total number of\n",
    "    # recursive calls:\n",
    "    if y == 0:\n",
    "        return 0\n",
    "    return x + recursive_multiply(x, y-1)\n",
    "\n",
    "x = 500\n",
    "y = 2000\n",
    "\n",
    "print(x * y)\n",
    "print(recursive_multiply(x, y))"
   ]
  },
  {
   "cell_type": "markdown",
   "metadata": {},
   "source": [
    "We get maximum recursion depth exceeded in comparison whenever the depth of the recursion tree exceeds a limit.\n",
    "\n",
    "Therefore, we add the following lines:\n",
    "\n",
    "```python\n",
    "if x < y:\n",
    "        return recursive_multiply(y, x)\n",
    "```\n",
    "\n",
    "In the code above, we swap y and x to cut down on the number of recursive calls in case x is less than y. However, there isn’t anything we can do if both x and y are large enough to cause the Recursion Error: maximum recursion depth exceeded in comparison.\n",
    "\n",
    "With this, we come to an end to the chapter on recursion. In the next chapter, we’ll explore quite a few problems on string processing.\n"
   ]
  },
  {
   "cell_type": "code",
   "execution_count": null,
   "metadata": {},
   "outputs": [],
   "source": []
  }
 ],
 "metadata": {
  "kernelspec": {
   "display_name": "Python 3",
   "language": "python",
   "name": "python3"
  },
  "language_info": {
   "codemirror_mode": {
    "name": "ipython",
    "version": 3
   },
   "file_extension": ".py",
   "mimetype": "text/x-python",
   "name": "python",
   "nbconvert_exporter": "python",
   "pygments_lexer": "ipython3",
   "version": "3.7.7"
  },
  "toc": {
   "base_numbering": 1,
   "nav_menu": {},
   "number_sections": true,
   "sideBar": false,
   "skip_h1_title": false,
   "title_cell": "Table of Contents",
   "title_sidebar": "Contents",
   "toc_cell": true,
   "toc_position": {},
   "toc_section_display": true,
   "toc_window_display": false
  }
 },
 "nbformat": 4,
 "nbformat_minor": 4
}
