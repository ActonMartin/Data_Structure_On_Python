{
 "cells": [
  {
   "cell_type": "markdown",
   "metadata": {
    "toc": true
   },
   "source": [
    "<h1>Table of Contents<span class=\"tocSkip\"></span></h1>\n",
    "<div class=\"toc\"><ul class=\"toc-item\"><li><span><a href=\"#Iterative-Approach\" data-toc-modified-id=\"Iterative-Approach-1\"><span class=\"toc-item-num\">1&nbsp;&nbsp;</span>Iterative Approach</a></span></li><li><span><a href=\"#Recursive-Approach\" data-toc-modified-id=\"Recursive-Approach-2\"><span class=\"toc-item-num\">2&nbsp;&nbsp;</span>Recursive Approach</a></span></li></ul></div>"
   ]
  },
  {
   "cell_type": "markdown",
   "metadata": {},
   "source": [
    "In this lesson, given a string, we develop an algorithm to return the first occurring uppercase letter. We will solve this problem using an iterative and recursive approach:\n",
    "\n",
    "For instance, for the strings:\n",
    "```\n",
    "str_1 = \"lucidProgramming\"\n",
    "str_2 = \"LucidProgramming\"\n",
    "str_3 = \"lucidprogramming\"\n",
    "```\n",
    "The algorithm should return P L, and output a message indicating that no capital letter was found for str_1, str_2, and str_3, respectively.\n",
    "\n",
    "# Iterative Approach #\n",
    "\n",
    "Let’s have a look at the code in Python, which uses the iterative approach:"
   ]
  },
  {
   "cell_type": "code",
   "execution_count": 1,
   "metadata": {
    "ExecuteTime": {
     "end_time": "2020-04-04T08:48:09.649633Z",
     "start_time": "2020-04-04T08:48:09.634632Z"
    }
   },
   "outputs": [],
   "source": [
    "def find_uppercase_iterative(input_str):\n",
    "    for i in range(len(input_str)):\n",
    "        if input_str[i].isupper():\n",
    "                return input_str[i]\n",
    "    return \"No uppercase character found\""
   ]
  },
  {
   "cell_type": "markdown",
   "metadata": {},
   "source": [
    "The for loop on line 2 runs for all the characters present in input_str. By using the built-in function isupper(), every character of input_str, i.e., input_str[i] is checked if it is uppercase or not. If the condition on line 3 evaluates to True for some input_str[i], then that character is returned from the function on line 4. However, if the condition does not evaluate to True in any iteration of the for loop, \"No uppercase character found\" is returned from the function on line 5 to indicate that there was no uppercase in input_str.\n",
    "\n",
    "# Recursive Approach #\n",
    "\n",
    "The iterative approach was very straightforward. Let’s look at the recursive approach in the snippet below:"
   ]
  },
  {
   "cell_type": "code",
   "execution_count": 2,
   "metadata": {
    "ExecuteTime": {
     "end_time": "2020-04-04T08:49:11.227155Z",
     "start_time": "2020-04-04T08:49:11.215154Z"
    }
   },
   "outputs": [],
   "source": [
    "def find_uppercase_recursive(input_str, idx=0):\n",
    "  if input_str[idx].isupper():\n",
    "    return input_str[idx]\n",
    "  if idx == len(input_str) - 1:\n",
    "    return \"No uppercase character found\"\n",
    "  return find_uppercase_recursive(input_str, idx+1)"
   ]
  },
  {
   "cell_type": "markdown",
   "metadata": {},
   "source": [
    "find_uppercase_recursive() takes in input_str and idx as input parameters. To provide some starting point, the second parameter is written as idx = 0 which will set idx to 0 if no second parameter is provided when the function is called.\n",
    "\n",
    "The base case is present on line 2 which returns input_str[i] if it is an uppercase. On the other hand, if we reach somewhere in the recursive calls where idx is equal to len(input_str) - 1, i.e., we have reached the end of the string but didn’t find any character which was uppercase. Therefore, we return \"No uppercase character found\" to indicate so. However, if both the conditions on line 2 and line 4 are not True, we make a recursive call on line 6 and pass input_str and idx + 1 so that the next character is evaluated.\n",
    "\n",
    "Let’s go ahead and run these two codes in the code widget below."
   ]
  },
  {
   "cell_type": "code",
   "execution_count": 1,
   "metadata": {
    "ExecuteTime": {
     "end_time": "2020-04-04T08:52:52.353803Z",
     "start_time": "2020-04-04T08:52:52.321801Z"
    }
   },
   "outputs": [
    {
     "name": "stdout",
     "output_type": "stream",
     "text": [
      "P\n",
      "L\n",
      "No uppercase character found\n",
      "P\n",
      "L\n",
      "No uppercase character found\n"
     ]
    }
   ],
   "source": [
    "def find_uppercase_iterative(input_str):\n",
    "    for i in range(len(input_str)):\n",
    "        if input_str[i].isupper():\n",
    "            return input_str[i]\n",
    "    return \"No uppercase character found\"\n",
    "\n",
    "def find_uppercase_recursive(input_str, idx=0):\n",
    "    if input_str[idx].isupper():\n",
    "        return input_str[idx]\n",
    "    if idx == len(input_str) - 1:\n",
    "        return \"No uppercase character found\"\n",
    "    return find_uppercase_recursive(input_str, idx+1)\n",
    "\n",
    "input_str_1 = \"lucidProgRamming\"\n",
    "input_str_2 = \"LucidProgramming\"\n",
    "input_str_3 = \"lucidprogramming\"\n",
    "\n",
    "print(find_uppercase_iterative(input_str_1))\n",
    "print(find_uppercase_iterative(input_str_2))\n",
    "print(find_uppercase_iterative(input_str_3))\n",
    "\n",
    "print(find_uppercase_recursive(input_str_1))\n",
    "print(find_uppercase_recursive(input_str_2))\n",
    "print(find_uppercase_recursive(input_str_3))"
   ]
  },
  {
   "cell_type": "markdown",
   "metadata": {},
   "source": [
    "这个代码有一个弊端，就是在发现第一个大写字母之后，他就不会再去检测后面的字母是否含有大写的字母了。"
   ]
  },
  {
   "cell_type": "code",
   "execution_count": null,
   "metadata": {},
   "outputs": [],
   "source": []
  }
 ],
 "metadata": {
  "kernelspec": {
   "display_name": "Python 3",
   "language": "python",
   "name": "python3"
  },
  "language_info": {
   "codemirror_mode": {
    "name": "ipython",
    "version": 3
   },
   "file_extension": ".py",
   "mimetype": "text/x-python",
   "name": "python",
   "nbconvert_exporter": "python",
   "pygments_lexer": "ipython3",
   "version": "3.7.7"
  },
  "toc": {
   "base_numbering": 1,
   "nav_menu": {},
   "number_sections": true,
   "sideBar": false,
   "skip_h1_title": false,
   "title_cell": "Table of Contents",
   "title_sidebar": "Contents",
   "toc_cell": true,
   "toc_position": {},
   "toc_section_display": true,
   "toc_window_display": false
  }
 },
 "nbformat": 4,
 "nbformat_minor": 4
}
