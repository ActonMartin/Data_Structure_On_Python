{
 "cells": [
  {
   "cell_type": "markdown",
   "metadata": {
    "toc": true
   },
   "source": [
    "<h1>Table of Contents<span class=\"tocSkip\"></span></h1>\n",
    "<div class=\"toc\"><ul class=\"toc-item\"><li><span><a href=\"#Iterative-Approach\" data-toc-modified-id=\"Iterative-Approach-1\"><span class=\"toc-item-num\">1&nbsp;&nbsp;</span>Iterative Approach</a></span></li><li><span><a href=\"#Recursive-Approach\" data-toc-modified-id=\"Recursive-Approach-2\"><span class=\"toc-item-num\">2&nbsp;&nbsp;</span>Recursive Approach</a></span></li></ul></div>"
   ]
  },
  {
   "cell_type": "markdown",
   "metadata": {},
   "source": [
    "In this lesson, we focus on the following problem:\n",
    "\n",
    "Given a string, calculate its length.\n",
    "\n",
    "If you are preparing for an interview or trying to understand the notion of recursion to solve a problem, I hope this lesson is helpful to you.\n",
    "\n",
    "Python has a built-in len() function which returns the length of a string. This is the standard way to obtain the length of a string in Python."
   ]
  },
  {
   "cell_type": "code",
   "execution_count": 1,
   "metadata": {
    "ExecuteTime": {
     "end_time": "2020-04-04T08:59:39.234075Z",
     "start_time": "2020-04-04T08:59:39.212073Z"
    }
   },
   "outputs": [
    {
     "name": "stdout",
     "output_type": "stream",
     "text": [
      "16\n"
     ]
    }
   ],
   "source": [
    "input_str = \"LucidProgramming\"\n",
    "print(len(input_str))"
   ]
  },
  {
   "cell_type": "markdown",
   "metadata": {},
   "source": [
    "# Iterative Approach #\n",
    "\n",
    "Now we are going to code the same functionality ourselves in Python. Let’s begin with the iterative approach."
   ]
  },
  {
   "cell_type": "code",
   "execution_count": 2,
   "metadata": {
    "ExecuteTime": {
     "end_time": "2020-04-04T09:00:19.110356Z",
     "start_time": "2020-04-04T09:00:19.102355Z"
    }
   },
   "outputs": [],
   "source": [
    "# Iterative length calculation: O(n)\n",
    "def iterative_str_len(input_str):\n",
    "    input_str_len = 0\n",
    "    for i in range(len(input_str)):\n",
    "        input_str_len += 1\n",
    "    return input_str_len"
   ]
  },
  {
   "cell_type": "markdown",
   "metadata": {},
   "source": [
    "On line 3, input_str_len is initialized to 0. Then using a for loop on line 4, input_str is iterated character by character and input_str_len is incremented by 1 in each iteration on line 5. Finally, the final value of input_str_len is returned from the function on line 6. As the entire length of the string is traversed once, the time complexity for this solution is thus O(n)O(n) where nn is the length of the string."
   ]
  },
  {
   "cell_type": "markdown",
   "metadata": {},
   "source": [
    "# Recursive Approach #\n",
    "\n",
    "Let’s go ahead and have a look at the recursive approach:"
   ]
  },
  {
   "cell_type": "code",
   "execution_count": 3,
   "metadata": {
    "ExecuteTime": {
     "end_time": "2020-04-04T09:04:45.300581Z",
     "start_time": "2020-04-04T09:04:45.291580Z"
    }
   },
   "outputs": [],
   "source": [
    "# Recursive length calculation: O(n)\n",
    "def recursive_str_len(input_str):\n",
    "    if input_str == '':\n",
    "        return 0\n",
    "    return 1 + recursive_str_len(input_str[1:])"
   ]
  },
  {
   "cell_type": "markdown",
   "metadata": {},
   "source": [
    "The base case for this function is when an empty string is encountered. If input_str is empty, 0 is returned to make a count of 0 for the empty string. Otherwise, 1 is added to whatever is returned from the recursive call on line 5 which takes in input_str[1:]. The slicing notation in input_str[1:] indicates that all the characters except at the 0th index are passed into the recursive call. Therefore, every recursive call keeps shortening input_str by one character, which is being counted in that recursive call. As there will be nn recursive calls, each expending a constant amount of computational effort, the time complexity for this solution is O(n)O(n) where nn is the length of the string. Wasn’t this pretty simple? I hope you are clear about everything that we have studied so far.\n",
    "\n",
    "In the code widget below, you can run and play with both the iterative and recursive implementations."
   ]
  },
  {
   "cell_type": "code",
   "execution_count": 4,
   "metadata": {
    "ExecuteTime": {
     "end_time": "2020-04-04T09:05:01.852527Z",
     "start_time": "2020-04-04T09:05:01.832526Z"
    }
   },
   "outputs": [
    {
     "name": "stdout",
     "output_type": "stream",
     "text": [
      "16\n",
      "16\n"
     ]
    }
   ],
   "source": [
    "# Iterative length calculation: O(n)\n",
    "def iterative_str_len(input_str):\n",
    "    input_str_len = 0\n",
    "    for i in range(len(input_str)):\n",
    "        input_str_len += 1\n",
    "    return input_str_len\n",
    "\n",
    "# Recursive length calculation: O(n)\n",
    "def recursive_str_len(input_str):\n",
    "    if input_str == '':\n",
    "        return 0\n",
    "    return 1 + recursive_str_len(input_str[1:])\n",
    "\n",
    "input_str = \"LucidProgramming\"\n",
    "\n",
    "print(iterative_str_len(input_str))\n",
    "print(recursive_str_len(input_str))"
   ]
  },
  {
   "cell_type": "code",
   "execution_count": null,
   "metadata": {},
   "outputs": [],
   "source": []
  }
 ],
 "metadata": {
  "kernelspec": {
   "display_name": "Python 3",
   "language": "python",
   "name": "python3"
  },
  "language_info": {
   "codemirror_mode": {
    "name": "ipython",
    "version": 3
   },
   "file_extension": ".py",
   "mimetype": "text/x-python",
   "name": "python",
   "nbconvert_exporter": "python",
   "pygments_lexer": "ipython3",
   "version": "3.7.7"
  },
  "toc": {
   "base_numbering": 1,
   "nav_menu": {},
   "number_sections": true,
   "sideBar": false,
   "skip_h1_title": false,
   "title_cell": "Table of Contents",
   "title_sidebar": "Contents",
   "toc_cell": true,
   "toc_position": {},
   "toc_section_display": true,
   "toc_window_display": false
  }
 },
 "nbformat": 4,
 "nbformat_minor": 4
}
