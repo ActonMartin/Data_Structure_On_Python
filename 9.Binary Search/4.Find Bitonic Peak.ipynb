{
 "cells": [
  {
   "cell_type": "markdown",
   "metadata": {
    "toc": true
   },
   "source": [
    "<h1>Table of Contents<span class=\"tocSkip\"></span></h1>\n",
    "<div class=\"toc\"><ul class=\"toc-item\"><li><span><a href=\"#Implementation\" data-toc-modified-id=\"Implementation-1\"><span class=\"toc-item-num\">1&nbsp;&nbsp;</span>Implementation</a></span></li><li><span><a href=\"#Explanation\" data-toc-modified-id=\"Explanation-2\"><span class=\"toc-item-num\">2&nbsp;&nbsp;</span>Explanation</a></span></li></ul></div>"
   ]
  },
  {
   "cell_type": "markdown",
   "metadata": {},
   "source": [
    "In this lesson, we will be given an array that is bitonically sorted, an array that starts off with increasing terms and then concludes with decreasing terms. In any such sequence, there is a “peak” element which is the largest element in the sequence. We will be writing a solution to help us find the peak element of a bitonic sequence.\n",
    "\n",
    "A bitonic sequence is a sequence of integers such that: $x_0$ < ... < $x_k$ > ... > $x_{n-1}$\n",
    "for some k, 0 <= k < n\n",
    "\n",
    "Notice that the sequence for this problem does not contain any duplicates.\n",
    "\n",
    "For example:\n",
    "\n",
    " 1, 2, 3, 4, 5, 4, 3, 2, 1\n",
    " \n",
    " is a bitonic sequence. In the example above, the peak element is 5.\n",
    " \n",
    " We assume that a “peak” element will always exist.\n",
    " \n",
    " Let’s look at some other examples.\n",
    " \n",
    "![](image/peak_2020-04-03_11-02-39.png)\n",
    "![](image/peak_2020-04-03_11-02-48.png)\n",
    "\n",
    "We can think about a naive way to solve this problem which checks the elements to the left and right of a given element to see if they satisfy the peak requirement. The peak requirement is as follows:\n",
    "\n",
    "**The element to the left of the peak element is less than the peak element.**\n",
    "\n",
    "**The element to the right of the peak element is less than the peak element.**\n",
    "\n",
    "Let’s say we start at the beginning of the array and go sequentially checking every element for the peak property until we arrive at an element that​ satisfies the requirement of being a peak element. This approach is going to give us a kind of linear runtime complexity.\n",
    "\n",
    "Now let’s think in terms of binary search. Think about the basis on which we can divide the array for search.\n",
    "\n",
    "We have illustrated two examples for you so that you get an idea of how we will decrease the search space.\n",
    "\n",
    "![](image/peake_2020-04-03_11-04-44.png)\n",
    "![](image/peake_2020-04-03_11-04-51.png)\n",
    "![](image/peake_2020-04-03_11-04-57.png)\n",
    "![](image/peake_2020-04-03_11-05-03.png)\n",
    "![](image/peake_2020-04-03_11-05-09.png)\n",
    "![](image/peake_2020-04-03_11-05-17.png)\n",
    "\n",
    "# Implementation #\n",
    "\n"
   ]
  },
  {
   "cell_type": "markdown",
   "metadata": {},
   "source": [
    "If you understand the slides above, then the problem becomes simple to solve using a binary search. Let’s find out more by looking at the implementation in Python below:"
   ]
  },
  {
   "cell_type": "code",
   "execution_count": 1,
   "metadata": {
    "ExecuteTime": {
     "end_time": "2020-04-03T03:08:04.670088Z",
     "start_time": "2020-04-03T03:08:04.643086Z"
    }
   },
   "outputs": [
    {
     "name": "stdout",
     "output_type": "stream",
     "text": [
      "5\n",
      "6\n",
      "None\n",
      "5\n"
     ]
    }
   ],
   "source": [
    "def find_highest_number(A):\n",
    "    low = 0\n",
    "    high = len(A) - 1\n",
    "\n",
    "    # Require at least 3 elements for a bitonic sequence.\n",
    "    if len(A) < 3:\n",
    "        return None\n",
    "\n",
    "    while low <= high:\n",
    "        mid = (low + high)//2\n",
    "\n",
    "        mid_left = A[mid - 1] if mid - 1 > 0 else float(\"-inf\")\n",
    "        mid_right = A[mid + 1] if mid + 1 < len(A) else float(\"inf\")\n",
    "\n",
    "        if mid_left < A[mid] and mid_right > A[mid]:\n",
    "            low = mid + 1\n",
    "        elif mid_left > A[mid] and mid_right < A[mid]:\n",
    "            high = mid - 1\n",
    "        elif mid_left < A[mid] and mid_right < A[mid]:\n",
    "            return A[mid]\n",
    "    return None\n",
    "\n",
    "# Peak element is \"5\".\n",
    "A = [1, 2, 3, 4, 5, 4, 3, 2, 1]\n",
    "print(find_highest_number(A))\n",
    "A = [1, 6, 5, 4, 3, 2, 1]\n",
    "print(find_highest_number(A))\n",
    "A = [1, 2, 3, 4, 5]\n",
    "print(find_highest_number(A))\n",
    "A = [5, 4, 3, 2, 1]\n",
    "print(find_highest_number(A))"
   ]
  },
  {
   "cell_type": "markdown",
   "metadata": {},
   "source": [
    "# Explanation #\n",
    "\n",
    "As always in the case of Binary Search, low and high are set to 0 and len(A) - 1 on lines 2-3. On line 6, we have an edge case that checks if the incoming array can be bitonic or not. For an array to be bitonic, it must have at least three elements. Therefore, on line 7, None is returned from the function in case A has less than three elements.\n",
    "\n",
    "In the while loop, after calculating mid on line 10, the left and right elements to the midpoint are stored in mid_left and mid_right (lines 12-13). Before accessing the left and the right positions to the midpoint, we need to make sure that these positions are within the array. This is done by shorthand in Python. If you have only one statement to execute, one for if, and one for else, you can put it all on the same line which we have done on lines 12-13. If mid - 1 > 0 is True, mid_left is set to A[mid - 1]. Otherwise, it will set to float(\"-inf\").\n",
    "\n",
    "On the other hand, if mid + 1 < len(A) evaluates to True, mid_right is set equal to A[mid + 1], otherwise it is set equal to float(\"inf\"). From line 15 to line 20, we check if A[mid] satisfies the peak property or not as specified in the slides. Based on the conditions discussed in the slides, we discard the left or the right side, but if the elements on both the sides of A[mid] are less than A[mid] i.e., the condition on line 19 evaluates to True, we have found the peak element which is returned from the function on line 20.\n",
    "\n",
    "I hope you are enjoying implementing the binary search for various problems. In the next lesson, we will learn how to find the first entry of an element in a list with duplicates. Happy learning!"
   ]
  },
  {
   "cell_type": "code",
   "execution_count": null,
   "metadata": {},
   "outputs": [],
   "source": []
  }
 ],
 "metadata": {
  "kernelspec": {
   "display_name": "Python 3",
   "language": "python",
   "name": "python3"
  },
  "language_info": {
   "codemirror_mode": {
    "name": "ipython",
    "version": 3
   },
   "file_extension": ".py",
   "mimetype": "text/x-python",
   "name": "python",
   "nbconvert_exporter": "python",
   "pygments_lexer": "ipython3",
   "version": "3.7.7"
  },
  "toc": {
   "base_numbering": 1,
   "nav_menu": {},
   "number_sections": true,
   "sideBar": false,
   "skip_h1_title": false,
   "title_cell": "Table of Contents",
   "title_sidebar": "Contents",
   "toc_cell": true,
   "toc_position": {},
   "toc_section_display": true,
   "toc_window_display": false
  }
 },
 "nbformat": 4,
 "nbformat_minor": 4
}
