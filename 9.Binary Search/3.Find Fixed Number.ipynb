{
 "cells": [
  {
   "cell_type": "markdown",
   "metadata": {
    "toc": true
   },
   "source": [
    "<h1>Table of Contents<span class=\"tocSkip\"></span></h1>\n",
    "<div class=\"toc\"><ul class=\"toc-item\"><li><span><a href=\"#Implementation\" data-toc-modified-id=\"Implementation-1\"><span class=\"toc-item-num\">1&nbsp;&nbsp;</span>Implementation</a></span></li><li><span><a href=\"#Explanation\" data-toc-modified-id=\"Explanation-2\"><span class=\"toc-item-num\">2&nbsp;&nbsp;</span>Explanation</a></span></li></ul></div>"
   ]
  },
  {
   "cell_type": "markdown",
   "metadata": {},
   "source": [
    "In this lesson, we will be solving the following problem:\n",
    "\n",
    "Given an array of nn distinct integers sorted in ascending order, write a function that returns a fixed point in the array. If there is not a fixed point, return None.\n",
    "```\n",
    "A fixed point in an array A is an index i such that A[i] is equal to i.\n",
    "```\n",
    "The naive approach to solving this problem is pretty simple. You iterate through the list and check if each element matches its index. If you find a match, you return that element. Otherwise, you return None if you don’t find a match by the end of the for loop. Have a look at the code below:\n",
    "\n",
    "```\n",
    "# Time Complexity: O(n)\n",
    "# Space Complexity: O(1)\n",
    "def find_fixed_point_linear(A):\n",
    "    for i in range(len(A)):\n",
    "        if A[i] == i:\n",
    "            return A[i]\n",
    "    return None\n",
    "```\n",
    "\n",
    "As the entire list is traversed once to find the fixed point, spending constant time on each element, the time complexity for the linear implementation above is O(n)O(n). As we haven’t used any additional space in the implementation above, the space complexity is O(1)O(1). Now we need to think about how we can improve the solution above. We can use the following two facts to our advantage:\n",
    "\n",
    "**The list is sorted.**\n",
    "\n",
    "**The list contains distinct elements.**\n",
    "\n",
    "Let’s look at the slides below to get a rough idea of how we have taken advantage of the above facts.\n",
    "\n",
    "![](image/findfix_2020-04-03_10-42-38.png)\n",
    "![](image/findfix_2020-04-03_10-42-55.png)\n",
    "![](image/findfix_2020-04-03_10-43-04.png)\n",
    "![](image/findfix_2020-04-03_10-43-12.png)\n",
    "![](image/findfix_2020-04-03_10-43-19.png)\n",
    "![](image/findfix_2020-04-03_10-43-27.png)\n",
    "![](image/findfix_2020-04-03_10-43-34.png)\n",
    "![](image/findfix_2020-04-03_10-43-41.png)\n",
    "![](image/findfix_2020-04-03_10-43-49.png)\n",
    "\n",
    "# Implementation #\n",
    "If you have gone through the slides, the implementation must be pretty clear to you. Let’s jump to the implementation in Python:"
   ]
  },
  {
   "cell_type": "code",
   "execution_count": 1,
   "metadata": {
    "ExecuteTime": {
     "end_time": "2020-04-03T02:46:36.426404Z",
     "start_time": "2020-04-03T02:46:36.418404Z"
    }
   },
   "outputs": [],
   "source": [
    "# Time Complexity: O(log n)\n",
    "# Space Complexity: O(1)\n",
    "def find_fixed_point(A):\n",
    "    low = 0\n",
    "    high = len(A) - 1\n",
    "\n",
    "    while low <= high:\n",
    "        mid = (low + high)//2\n",
    "\n",
    "        if A[mid] < mid:\n",
    "            low = mid + 1\n",
    "        elif A[mid] > mid:\n",
    "            high = mid - 1\n",
    "        else:\n",
    "            return A[mid]\n",
    "    return None"
   ]
  },
  {
   "cell_type": "markdown",
   "metadata": {},
   "source": [
    "# Explanation #\n",
    "\n",
    "On lines 4-5, we define low and high in the same way we have always defined them for Binary Search. The next few lines (lines 7-8) are also the same as the code in a binary search. On line 10, we check if A[mid] is less than mid to decide which portion of the array to discard in further search. If the condition on line 10 evaluates to True, execution jumps to line 11 where low is set to mid+1 to discard the portion to the left of mid. However, if the condition on line 10 evaluates to False, the condition on line 12 is evaluated. If A[mid] is greater than mid, i.e., high is set to mid-1 to disregard the portion to the right of the midpoint. If both the conditions on line 10 and line 11 are False, it implies that A[mid] is equal to mid. We have found a fixed point! In this case, A[mid] is returned from the function on line 15. To cater to the case if there is no fixed point in the array, we return None on line 16 after the while loop terminates.\n",
    "\n",
    "As we have employed a binary search to write the above code, the time complexity for the code above is $O(logn)$ while the space complexity is $O(1)$.\n",
    "\n",
    "The solution above was pretty straightforward. You can run the linear and binary search solution in the code widget below."
   ]
  },
  {
   "cell_type": "code",
   "execution_count": 2,
   "metadata": {
    "ExecuteTime": {
     "end_time": "2020-04-03T02:48:23.229513Z",
     "start_time": "2020-04-03T02:48:23.200512Z"
    }
   },
   "outputs": [
    {
     "name": "stdout",
     "output_type": "stream",
     "text": [
      "Linear Approach\n",
      "[-10, -5, 0, 3, 7]\n",
      "3\n",
      "[0, 2, 5, 8, 17]\n",
      "0\n",
      "[-10, -5, 3, 4, 7, 9]\n",
      "None\n",
      "Binary Search Approach\n",
      "[-10, -5, 0, 3, 7]\n",
      "3\n",
      "[0, 2, 5, 8, 17]\n",
      "0\n",
      "[-10, -5, 3, 4, 7, 9]\n",
      "None\n"
     ]
    }
   ],
   "source": [
    "# Time Complexity: O(n)\n",
    "# Space Complexity: O(1)\n",
    "def find_fixed_point_linear(A):\n",
    "    for i in range(len(A)):\n",
    "        if A[i] == i:\n",
    "            return A[i]\n",
    "    return None\n",
    "\n",
    "\n",
    "# Time Complexity: O(log n)\n",
    "# Space Complexity: O(1)\n",
    "def find_fixed_point(A):\n",
    "    low = 0\n",
    "    high = len(A) - 1\n",
    "\n",
    "    while low <= high:\n",
    "        mid = (low + high)//2\n",
    "\n",
    "        if A[mid] < mid:\n",
    "            low = mid + 1\n",
    "        elif A[mid] > mid:\n",
    "            high = mid - 1\n",
    "        else:\n",
    "            return A[mid]\n",
    "    return None\n",
    "\n",
    "# Fixed point is 3:\n",
    "A1 = [-10, -5, 0, 3, 7]\n",
    "\n",
    "# Fixed point is 0:\n",
    "A2 = [0, 2, 5, 8, 17]\n",
    "\n",
    "# No fixed point. Return \"None\":\n",
    "A3 = [-10, -5, 3, 4, 7, 9]\n",
    "print(\"Linear Approach\")\n",
    "print(A1)\n",
    "print(find_fixed_point_linear(A1))\n",
    "print(A2)\n",
    "print(find_fixed_point_linear(A2))\n",
    "print(A3)\n",
    "print(find_fixed_point_linear(A3))\n",
    "print(\"Binary Search Approach\")\n",
    "print(A1)\n",
    "print(find_fixed_point(A1))\n",
    "print(A2)\n",
    "print(find_fixed_point(A2))\n",
    "print(A3)\n",
    "print(find_fixed_point(A3))"
   ]
  },
  {
   "cell_type": "code",
   "execution_count": null,
   "metadata": {},
   "outputs": [],
   "source": []
  }
 ],
 "metadata": {
  "kernelspec": {
   "display_name": "Python 3",
   "language": "python",
   "name": "python3"
  },
  "language_info": {
   "codemirror_mode": {
    "name": "ipython",
    "version": 3
   },
   "file_extension": ".py",
   "mimetype": "text/x-python",
   "name": "python",
   "nbconvert_exporter": "python",
   "pygments_lexer": "ipython3",
   "version": "3.7.7"
  },
  "toc": {
   "base_numbering": 1,
   "nav_menu": {},
   "number_sections": true,
   "sideBar": false,
   "skip_h1_title": false,
   "title_cell": "Table of Contents",
   "title_sidebar": "Contents",
   "toc_cell": true,
   "toc_position": {},
   "toc_section_display": true,
   "toc_window_display": false
  }
 },
 "nbformat": 4,
 "nbformat_minor": 4
}
