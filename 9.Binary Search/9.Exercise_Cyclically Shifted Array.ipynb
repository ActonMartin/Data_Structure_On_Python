{
 "cells": [
  {
   "cell_type": "markdown",
   "metadata": {
    "toc": true
   },
   "source": [
    "<h1>Table of Contents<span class=\"tocSkip\"></span></h1>\n",
    "<div class=\"toc\"><ul class=\"toc-item\"><li><span><a href=\"#Problem\" data-toc-modified-id=\"Problem-1\"><span class=\"toc-item-num\">1&nbsp;&nbsp;</span>Problem</a></span></li><li><span><a href=\"#Coding-Time!\" data-toc-modified-id=\"Coding-Time!-2\"><span class=\"toc-item-num\">2&nbsp;&nbsp;</span>Coding Time!</a></span></li></ul></div>"
   ]
  },
  {
   "cell_type": "markdown",
   "metadata": {},
   "source": [
    "# Problem #\n",
    "\n",
    "You are required to write a function that determines the index of the smallest element of the cyclically shifted array.\n",
    "\n",
    "An array is “cyclically shifted” if it is possible to shift its entries cyclically so that it becomes sorted.\n",
    "\n",
    "The following list is an example of a cyclically shifted array:\n",
    "\n",
    "  A = [4, 5, 6, 7, 1, 2, 3]\n",
    "  \n",
    "  Below are all the possible cyclic shifts of an array:\n",
    "  \n",
    "![](image/csa_2020-04-04_15-13-39.png)\n",
    "\n",
    "# Coding Time! #\n",
    "\n",
    "Your task is to return the index of the smallest number in the list A (cyclically shifted array) from the function find(A) given in the code widget below.\n",
    "\n",
    "Good luck!\n"
   ]
  },
  {
   "cell_type": "code",
   "execution_count": 3,
   "metadata": {
    "ExecuteTime": {
     "end_time": "2020-04-04T07:31:46.211475Z",
     "start_time": "2020-04-04T07:31:46.177473Z"
    }
   },
   "outputs": [
    {
     "data": {
      "text/plain": [
       "4"
      ]
     },
     "execution_count": 3,
     "metadata": {},
     "output_type": "execute_result"
    }
   ],
   "source": [
    "def find(A):\n",
    "  low = 0\n",
    "  high = len(A) - 1\n",
    "\n",
    "  while low < high:\n",
    "    mid = (low + high) // 2\n",
    "    \n",
    "    if A[mid] > A[high]:\n",
    "        low = mid + 1\n",
    "    elif A[mid] <= A[high]:\n",
    "        high = mid\n",
    "\n",
    "  return low\n",
    "\n",
    "A = [4, 5, 6, 7, 1, 2, 3]\n",
    "\n",
    "find(A)"
   ]
  },
  {
   "cell_type": "code",
   "execution_count": null,
   "metadata": {},
   "outputs": [],
   "source": []
  }
 ],
 "metadata": {
  "kernelspec": {
   "display_name": "Python 3",
   "language": "python",
   "name": "python3"
  },
  "language_info": {
   "codemirror_mode": {
    "name": "ipython",
    "version": 3
   },
   "file_extension": ".py",
   "mimetype": "text/x-python",
   "name": "python",
   "nbconvert_exporter": "python",
   "pygments_lexer": "ipython3",
   "version": "3.7.7"
  },
  "toc": {
   "base_numbering": 1,
   "nav_menu": {},
   "number_sections": true,
   "sideBar": false,
   "skip_h1_title": false,
   "title_cell": "Table of Contents",
   "title_sidebar": "Contents",
   "toc_cell": true,
   "toc_position": {},
   "toc_section_display": true,
   "toc_window_display": false
  }
 },
 "nbformat": 4,
 "nbformat_minor": 4
}
