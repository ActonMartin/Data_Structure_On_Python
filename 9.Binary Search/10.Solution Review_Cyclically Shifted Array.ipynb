{
 "cells": [
  {
   "cell_type": "markdown",
   "metadata": {
    "toc": true
   },
   "source": [
    "<h1>Table of Contents<span class=\"tocSkip\"></span></h1>\n",
    "<div class=\"toc\"><ul class=\"toc-item\"></ul></div>"
   ]
  },
  {
   "cell_type": "markdown",
   "metadata": {},
   "source": [
    "Let’s reiterate the problem statement from the previous challenge.\n",
    "\n",
    "You are required to write a function that determines the index of the smallest element of the cyclically shifted array.\n",
    "\n",
    "An array is “cyclically shifted” if it is possible to shift its entries cyclically so that it becomes sorted.\n",
    "\n",
    "# Algorithm #\n",
    "\n",
    "Now we need to come up with a strategy to eliminate parts of the search space. Have a look at the slides below to take note of some observations\n",
    "\n",
    "![](image/srcsa_2020-04-04_15-41-22.png)\n",
    "![](image/srcsa_2020-04-04_15-41-30.png)\n",
    "![](image/srcsa_2020-04-04_15-41-38.png)\n",
    "![](image/srcsa_2020-04-04_15-41-45.png)\n",
    "![](image/srcsa_2020-04-04_15-41-52.png)\n",
    "\n",
    "At this point, you will have a basic idea of how to solve this problem. Let’s step more into the algorithm which is applied to Example 1 from the slides above:\n",
    "\n",
    "![](image/srcsabs_2020-04-04_15-42-53.png)\n",
    "![](image/srcsabs_2020-04-04_15-43-01.png)\n",
    "![](image/srcsabs_2020-04-04_15-43-08.png)\n",
    "![](image/srcsabs_2020-04-04_15-43-15.png)\n",
    "\n",
    "# Implementation #\n",
    "Now that you have a complete idea of the algorithm, let’s jump to the implementation in Python:\n"
   ]
  }
 ],
 "metadata": {
  "kernelspec": {
   "display_name": "Python 3",
   "language": "python",
   "name": "python3"
  },
  "language_info": {
   "codemirror_mode": {
    "name": "ipython",
    "version": 3
   },
   "file_extension": ".py",
   "mimetype": "text/x-python",
   "name": "python",
   "nbconvert_exporter": "python",
   "pygments_lexer": "ipython3",
   "version": "3.7.7"
  },
  "toc": {
   "base_numbering": 1,
   "nav_menu": {},
   "number_sections": true,
   "sideBar": false,
   "skip_h1_title": false,
   "title_cell": "Table of Contents",
   "title_sidebar": "Contents",
   "toc_cell": true,
   "toc_position": {},
   "toc_section_display": true,
   "toc_window_display": false
  }
 },
 "nbformat": 4,
 "nbformat_minor": 4
}
