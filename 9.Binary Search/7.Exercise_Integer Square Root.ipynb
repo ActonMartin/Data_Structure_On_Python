{
 "cells": [
  {
   "cell_type": "markdown",
   "metadata": {
    "toc": true
   },
   "source": [
    "<h1>Table of Contents<span class=\"tocSkip\"></span></h1>\n",
    "<div class=\"toc\"><ul class=\"toc-item\"><li><span><a href=\"#Problem\" data-toc-modified-id=\"Problem-1\"><span class=\"toc-item-num\">1&nbsp;&nbsp;</span>Problem</a></span></li><li><span><a href=\"#Coding-Time!\" data-toc-modified-id=\"Coding-Time!-2\"><span class=\"toc-item-num\">2&nbsp;&nbsp;</span>Coding Time!</a></span></li></ul></div>"
   ]
  },
  {
   "cell_type": "markdown",
   "metadata": {},
   "source": [
    "# Problem #\n",
    "You are required to write a function that takes a non-negative integer, k, and returns the largest integer whose square is less than or equal to the specified integer k.\n",
    "\n",
    "Let’s have a look at some examples:\n",
    "\n",
    "![](image/isr_2020-04-04_14-08-30.png)\n",
    "![](image/isr_2020-04-04_14-08-51.png)\n",
    "\n",
    "# Coding Time! #\n",
    "Your task is to return the largest integer whose square is less than or equal to the k from the function integer_square_root(k) given in the code widget below. The input parameter k is a non-negative integer. Make use of a binary search strategy in your solution.\n",
    "\n",
    "Good luck!"
   ]
  },
  {
   "cell_type": "markdown",
   "metadata": {},
   "source": [
    "#  Myself solution #"
   ]
  },
  {
   "cell_type": "code",
   "execution_count": 1,
   "metadata": {
    "ExecuteTime": {
     "end_time": "2020-04-04T06:42:49.394499Z",
     "start_time": "2020-04-04T06:42:49.387498Z"
    }
   },
   "outputs": [],
   "source": [
    "def integer_square_root(k):\n",
    "    low = 0\n",
    "    high = k\n",
    "\n",
    "    while low <= high:\n",
    "        mid = (low + high) // 2\n",
    "        if (mid * mid) <= k:\n",
    "            low = low + 1\n",
    "        else:\n",
    "            high = high - 1\n",
    "    return high"
   ]
  },
  {
   "cell_type": "markdown",
   "metadata": {},
   "source": [
    "# 一点改进 #\n",
    "不满足要求的时候一次前进后退1，有点浪费。\n",
    "\n",
    "甚至可以使用mid进行前进后退1\n",
    "\n"
   ]
  }
 ],
 "metadata": {
  "kernelspec": {
   "display_name": "Python 3",
   "language": "python",
   "name": "python3"
  },
  "language_info": {
   "codemirror_mode": {
    "name": "ipython",
    "version": 3
   },
   "file_extension": ".py",
   "mimetype": "text/x-python",
   "name": "python",
   "nbconvert_exporter": "python",
   "pygments_lexer": "ipython3",
   "version": "3.7.7"
  },
  "toc": {
   "base_numbering": 1,
   "nav_menu": {},
   "number_sections": true,
   "sideBar": false,
   "skip_h1_title": false,
   "title_cell": "Table of Contents",
   "title_sidebar": "Contents",
   "toc_cell": true,
   "toc_position": {},
   "toc_section_display": true,
   "toc_window_display": false
  }
 },
 "nbformat": 4,
 "nbformat_minor": 4
}
