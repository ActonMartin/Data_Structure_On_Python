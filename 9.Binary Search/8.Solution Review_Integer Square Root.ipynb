{
 "cells": [
  {
   "cell_type": "markdown",
   "metadata": {
    "toc": true
   },
   "source": [
    "<h1>Table of Contents<span class=\"tocSkip\"></span></h1>\n",
    "<div class=\"toc\"><ul class=\"toc-item\"><li><span><a href=\"#Algorithm\" data-toc-modified-id=\"Algorithm-1\"><span class=\"toc-item-num\">1&nbsp;&nbsp;</span>Algorithm</a></span></li><li><span><a href=\"#Implementation\" data-toc-modified-id=\"Implementation-2\"><span class=\"toc-item-num\">2&nbsp;&nbsp;</span>Implementation</a></span></li><li><span><a href=\"#Explanation\" data-toc-modified-id=\"Explanation-3\"><span class=\"toc-item-num\">3&nbsp;&nbsp;</span>Explanation</a></span></li></ul></div>"
   ]
  },
  {
   "cell_type": "markdown",
   "metadata": {},
   "source": [
    "First of all, let’s repeat the problem statement.\n",
    "\n",
    "You are required to write a function that takes a non-negative integer, k, and returns the largest integer whose square is less than or equal to the specified integer k.\n",
    "\n",
    "# Algorithm #\n",
    "The naive approach to solve this problem is to start from 1 and check the square of every number up until k. Have a look at the slides below:\n",
    "\n",
    "![](image/reisr_2020-04-04_14-53-57.png)\n",
    "![](image/reisr_2020-04-04_14-54-05.png)\n",
    "![](image/reisr_2020-04-04_14-54-12.png)\n",
    "![](image/reisr_2020-04-04_14-54-18.png)\n",
    "![](image/reisr_2020-04-04_14-54-25.png)\n",
    "![](image/reisr_2020-04-04_14-54-31.png)\n",
    "![](image/reisr_2020-04-04_14-54-38.png)\n",
    "\n",
    "Now we want to improve things. Let’s think in terms of binary search. One thing that we can note from the above example is that if we are on integer 3, which squares up to 9, decreasing the integer 3 will not take us anywhere near 12. On the other hand, if we are on integer 4, which squares up to 16, increasing the number will not take us closer to 12. We can make use of this observation and tweak the binary search algorithm to solve our problem efficiently. This observation enables us to reduce our search span.\n",
    "\n",
    "# Implementation #\n",
    "\n",
    "Let’s have a look at the code below:\n",
    "\n"
   ]
  },
  {
   "cell_type": "code",
   "execution_count": 1,
   "metadata": {
    "ExecuteTime": {
     "end_time": "2020-04-04T07:06:11.893717Z",
     "start_time": "2020-04-04T07:06:11.875716Z"
    }
   },
   "outputs": [
    {
     "name": "stdout",
     "output_type": "stream",
     "text": [
      "17\n"
     ]
    }
   ],
   "source": [
    "def integer_square_root(k):\n",
    "    \n",
    "    low = 0\n",
    "    high = k \n",
    "\n",
    "    while low <= high:\n",
    "        mid = (low + high) // 2\n",
    "        mid_squared = mid * mid\n",
    "\n",
    "        if mid_squared <= k:\n",
    "            low = mid + 1\n",
    "        else:\n",
    "            high = mid - 1\n",
    "    return low - 1\n",
    "    \n",
    "k = 300\n",
    "print(integer_square_root(k))"
   ]
  },
  {
   "cell_type": "markdown",
   "metadata": {},
   "source": [
    "# Explanation #\n",
    "\n",
    "On lines 3-4, low and high are initialized to 0 and k. The while loop on line 6 will terminate when low becomes greater than high. In the next line, we calculate mid as we have always done while implementing the binary search. Additionally, we take the square of mid and store it in mid_squared on line 8. Now we need to compare mid_squared with k. If mid_squared is less than or equal to k, we have to discard all the numbers less than mid. Therefore, we set low equal to mid + 1. On the other hand, if mid_squared is greater than k, then all the numbers greater than mid will not be useful in our search, so we set high equal to mid-1 (line 13). Finally, after the while loop terminates, low - 1 will be the answer we are looking for, i.e., the largest integer whose square is less than or equal to k.\n",
    "\n",
    "I hope you enjoyed this challenge. We have another waiting for you in the next lesson. All the best!"
   ]
  },
  {
   "cell_type": "code",
   "execution_count": null,
   "metadata": {},
   "outputs": [],
   "source": []
  }
 ],
 "metadata": {
  "kernelspec": {
   "display_name": "Python 3",
   "language": "python",
   "name": "python3"
  },
  "language_info": {
   "codemirror_mode": {
    "name": "ipython",
    "version": 3
   },
   "file_extension": ".py",
   "mimetype": "text/x-python",
   "name": "python",
   "nbconvert_exporter": "python",
   "pygments_lexer": "ipython3",
   "version": "3.7.7"
  },
  "toc": {
   "base_numbering": 1,
   "nav_menu": {},
   "number_sections": true,
   "sideBar": false,
   "skip_h1_title": false,
   "title_cell": "Table of Contents",
   "title_sidebar": "Contents",
   "toc_cell": true,
   "toc_position": {},
   "toc_section_display": true,
   "toc_window_display": false
  }
 },
 "nbformat": 4,
 "nbformat_minor": 4
}
