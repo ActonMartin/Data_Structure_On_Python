{
 "cells": [
  {
   "cell_type": "markdown",
   "metadata": {
    "toc": true
   },
   "source": [
    "<h1>Table of Contents<span class=\"tocSkip\"></span></h1>\n",
    "<div class=\"toc\"><ul class=\"toc-item\"><li><span><a href=\"#Implementation\" data-toc-modified-id=\"Implementation-1\"><span class=\"toc-item-num\">1&nbsp;&nbsp;</span>Implementation</a></span></li><li><span><a href=\"#Explanation\" data-toc-modified-id=\"Explanation-2\"><span class=\"toc-item-num\">2&nbsp;&nbsp;</span>Explanation</a></span></li></ul></div>"
   ]
  },
  {
   "cell_type": "markdown",
   "metadata": {},
   "source": [
    "In this lesson, we will be writing a function that takes an array of sorted integers and a key and returns the index of the first occurrence of that key from the array.\n",
    "\n",
    "For example, for the array:\n",
    "\n",
    "[-14, -10, 2, 108, 108, 243, 285, 285, 285, 401]\n",
    "\n",
    "with\n",
    "\n",
    "target = 108\n",
    "\n",
    "the algorithm would return 3, as the first occurrence of 108 in the above array is located at index 3.\n",
    "\n",
    "The most naive approach to solving this problem is to loop through each element in the array. If you stumble upon the target element, it will be the first occurrence because the array is sorted. Otherwise, if the number does not exist in the array, we return None to indicate that the number is not present in a list."
   ]
  },
  {
   "cell_type": "code",
   "execution_count": 1,
   "metadata": {
    "ExecuteTime": {
     "end_time": "2020-04-03T09:07:29.410520Z",
     "start_time": "2020-04-03T09:07:29.405520Z"
    }
   },
   "outputs": [],
   "source": [
    "def find(A,target):\n",
    "  for i in range(len(A)):\n",
    "    if A[i] == target:\n",
    "      return i\n",
    "    return None"
   ]
  },
  {
   "cell_type": "markdown",
   "metadata": {},
   "source": [
    "The above code will work, but it will take linear time to complete as the time it takes for the code to execute is proportional to the size of the array for the worst-case.\n",
    "\n",
    "Let’s go ahead and apply a binary search to make our lives easier to solve this problem. We can reduce the problem from linear Big O(n)O(n) to O(log n)O(logn) where nn is the size of the array. In our current problem, we have non-distinct entries in sorted order, so we need to tweak the binary search algorithm to solve this variance of the problem.\n",
    "\n",
    "Now we will tweak the binary search so that we can redefine the high point of the array based on whether the entry to the left of the target element is the same or not.\n",
    "\n",
    "# Implementation #\n",
    "Check out the code below:\n",
    "\n"
   ]
  },
  {
   "cell_type": "code",
   "execution_count": 2,
   "metadata": {
    "ExecuteTime": {
     "end_time": "2020-04-03T09:08:13.514043Z",
     "start_time": "2020-04-03T09:08:13.491042Z"
    }
   },
   "outputs": [
    {
     "name": "stdout",
     "output_type": "stream",
     "text": [
      "3\n"
     ]
    }
   ],
   "source": [
    "def find(A, target):\n",
    "    low = 0\n",
    "    high = len(A) - 1\n",
    "\n",
    "    while low <= high:\n",
    "        mid = (low + high) // 2\n",
    "\n",
    "        if A[mid] < target:\n",
    "            low = mid + 1\n",
    "        elif A[mid] > target:\n",
    "            high = mid - 1\n",
    "        else:\n",
    "            if mid - 1 < 0:\n",
    "                return mid\n",
    "            if A[mid - 1] != target:\n",
    "                return mid\n",
    "            high = mid - 1\n",
    "\n",
    "A = [-14, -10, 2, 108, 108, 243, 285, 285, 285, 401]\n",
    "target = 108\n",
    "x = find(A, target)\n",
    "print(x)"
   ]
  },
  {
   "cell_type": "markdown",
   "metadata": {},
   "source": [
    "# Explanation #\n",
    "The code that we have written above is almost the same as the original binary search algorithm with some slight variation in statements on lines 12-17. The binary search will help us find the target element, but our problem is to find the first occurrence of that target element. The code above updates the lower and upper bounds for our search space according to the result of the comparison between the value of target and the value of the midpoint (A[mid]) (lines 8 -11) just as in the original Binary Search. The execution jumps to line 13 when target is equal to A[mid]. Since the array is sorted in ascending order, our target is either the middle element or an element on its left. Now we have to make sure that we return the first occurrence from the function.\n",
    "\n",
    "On line 13, we check if mid - 1 is less than 0, this is an edge case we would deal with if the first occurrence is on the first index. Next, we check if the element to the left of A[mid], i.e., A[mid - 1] is the target element or not (line 15). If it isn’t, the condition on line 15 is True, and this implies that A[mid] is the first occurrence, so we return mid on line 16. However, if the element to the left is also the same as the target element, we update high to mid - 1. In this way, we condense our search space to find the first occurrence of the target which will be to the left of the midpoint.\n",
    "\n",
    "One other way of thinking is to combine the linear approach and the binary search approach to solving this problem. You find your target element using binary search, and once you find it, you can keep going to the left of the array until you hit an element where the left of that element is not the element that we’re looking for. This approach will work, but in the worst case you can have an element or an array consisting of all elements of the same number, and thus this approach will boil down to giving you the same runtime as the initial naive approach that we came up with previously.\n",
    "\n",
    "I hope​ you are clear with everything we have learned so far. In the next lesson, we will have a look at Python’s Bisect method. Stay tuned!"
   ]
  },
  {
   "cell_type": "code",
   "execution_count": null,
   "metadata": {},
   "outputs": [],
   "source": []
  }
 ],
 "metadata": {
  "kernelspec": {
   "display_name": "Python 3",
   "language": "python",
   "name": "python3"
  },
  "language_info": {
   "codemirror_mode": {
    "name": "ipython",
    "version": 3
   },
   "file_extension": ".py",
   "mimetype": "text/x-python",
   "name": "python",
   "nbconvert_exporter": "python",
   "pygments_lexer": "ipython3",
   "version": "3.7.7"
  },
  "toc": {
   "base_numbering": 1,
   "nav_menu": {},
   "number_sections": true,
   "sideBar": false,
   "skip_h1_title": false,
   "title_cell": "Table of Contents",
   "title_sidebar": "Contents",
   "toc_cell": true,
   "toc_position": {},
   "toc_section_display": true,
   "toc_window_display": false
  }
 },
 "nbformat": 4,
 "nbformat_minor": 4
}
