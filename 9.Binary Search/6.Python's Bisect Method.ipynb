{
 "cells": [
  {
   "cell_type": "markdown",
   "metadata": {
    "toc": true
   },
   "source": [
    "<h1>Table of Contents<span class=\"tocSkip\"></span></h1>\n",
    "<div class=\"toc\"><ul class=\"toc-item\"><li><span><a href=\"#bisect_left()\" data-toc-modified-id=\"bisect_left()-1\"><span class=\"toc-item-num\">1&nbsp;&nbsp;</span>bisect_left()</a></span></li><li><span><a href=\"#bisect_right()\" data-toc-modified-id=\"bisect_right()-2\"><span class=\"toc-item-num\">2&nbsp;&nbsp;</span>bisect_right()</a></span></li><li><span><a href=\"#bisect()\" data-toc-modified-id=\"bisect()-3\"><span class=\"toc-item-num\">3&nbsp;&nbsp;</span>bisect()</a></span></li><li><span><a href=\"#insort_left()-and-insort_right\" data-toc-modified-id=\"insort_left()-and-insort_right-4\"><span class=\"toc-item-num\">4&nbsp;&nbsp;</span>insort_left() and insort_right</a></span></li></ul></div>"
   ]
  },
  {
   "cell_type": "markdown",
   "metadata": {},
   "source": [
    "In this lesson, we will learn about a function that takes an array of sorted integers and a key and returns the index of the first occurrence of that key from the array.\n",
    "\n",
    "For example, for the array:\n",
    "\n",
    "[-14, -10, 2, 108, 108, 243, 285, 285, 285, 401]\n",
    "\n",
    "with\n",
    "\n",
    "target = 108\n",
    "\n",
    "the function would return 3, as the first occurrence of 108 in the above array is located at index 3.\n",
    "\n",
    "We introduce to you: the bisect module in Python! Bisect is a built-in binary search method in Python. It can be used to search for an element in a sorted list. Let’s see how we make use of different methods provided by the bisect module."
   ]
  },
  {
   "cell_type": "markdown",
   "metadata": {},
   "source": [
    "# bisect_left() #\n",
    "The bisect_left function finds the index of the target element. In the event where duplicate entries are satisfying the target element, the bisect_left function returns the left-most occurrence. The input parameters to the method are the sorted list and the target element to be searched.\n",
    "\n",
    "Have a look at the examples below:"
   ]
  },
  {
   "cell_type": "code",
   "execution_count": 1,
   "metadata": {
    "ExecuteTime": {
     "end_time": "2020-04-04T05:56:17.241797Z",
     "start_time": "2020-04-04T05:56:17.224796Z"
    }
   },
   "outputs": [
    {
     "name": "stdout",
     "output_type": "stream",
     "text": [
      "1\n",
      "6\n"
     ]
    }
   ],
   "source": [
    "# Import allows us to make use of the bisect module.\n",
    "import bisect\n",
    "\n",
    "# This sorted list will be used throughout this lesson\n",
    "# to showcase the functionality of the \"bisect\" method.\n",
    "A = [-14, -10, 2, 108, 108, 243, 285, 285, 285, 401]\n",
    "\n",
    "# -10 is at index 1\n",
    "print(bisect.bisect_left(A, -10))\n",
    "\n",
    "# First occurrence of 285 is at index 6\n",
    "print(bisect.bisect_left(A, 285))"
   ]
  },
  {
   "cell_type": "markdown",
   "metadata": {},
   "source": [
    "# bisect_right() #\n",
    "\n",
    "The bisect_right function returns the insertion point which comes after, or to the right of, any existing entries of the target element in the list. It takes in a sorted list as the first parameter and the target element to be searched as the second parameter.\n",
    "\n"
   ]
  },
  {
   "cell_type": "code",
   "execution_count": 8,
   "metadata": {
    "ExecuteTime": {
     "end_time": "2020-04-04T05:59:46.419761Z",
     "start_time": "2020-04-04T05:59:46.412761Z"
    }
   },
   "outputs": [
    {
     "name": "stdout",
     "output_type": "stream",
     "text": [
      "2\n",
      "9\n"
     ]
    }
   ],
   "source": [
    "# Import allows us to make use of the bisect module.\n",
    "import bisect\n",
    "\n",
    "# This sorted list will be used throughout this lesson\n",
    "# to showcase the functionality of the \"bisect\" method.\n",
    "A = [-14, -10, 2, 108, 108, 243, 285, 285, 285, 401]\n",
    "\n",
    "# Index position to right of -10 is 2.\n",
    "print(bisect.bisect_right(A, -10)) \n",
    "\n",
    "# Index position after last occurrence of 285 is 9.\n",
    "print(bisect.bisect_right(A, 285))"
   ]
  },
  {
   "cell_type": "markdown",
   "metadata": {},
   "source": [
    "# bisect() #\n",
    "\n",
    "There is also just a regular default bisect function. This function is equivalent to bisect_right and takes a sorted list and the target element to be searched as input parameters:"
   ]
  },
  {
   "cell_type": "code",
   "execution_count": 9,
   "metadata": {
    "ExecuteTime": {
     "end_time": "2020-04-04T06:00:12.505253Z",
     "start_time": "2020-04-04T06:00:12.497253Z"
    }
   },
   "outputs": [
    {
     "name": "stdout",
     "output_type": "stream",
     "text": [
      "2\n",
      "9\n"
     ]
    }
   ],
   "source": [
    "# Import allows us to make use of the bisect module.\n",
    "import bisect\n",
    "\n",
    "# This sorted list will be used throughout this lesson\n",
    "# to showcase the functionality of the \"bisect\" method.\n",
    "A = [-14, -10, 2, 108, 108, 243, 285, 285, 285, 401]\n",
    "\n",
    "# Index position to right of -10 is 2. (Same as bisect_right)\n",
    "print(bisect.bisect(A, -10)) \n",
    "\n",
    "# Index position after last occurrence of 285 is 9. (Same as bisect_right).\n",
    "print(bisect.bisect(A, 285))"
   ]
  },
  {
   "cell_type": "markdown",
   "metadata": {},
   "source": [
    "# insort_left() and insort_right #\n",
    "\n",
    "Given that the list A is sorted, it is possible to insert elements into A so that the list remains sorted. Functions insort_left and insort_right behave in a similar way to bisect_left and bisect_right, only the insort functions insert at the index positions. The input parameters to the method are the sorted list and the element to be inserted at a position so that the list remains sorted.\n",
    "\n"
   ]
  },
  {
   "cell_type": "code",
   "execution_count": 14,
   "metadata": {
    "ExecuteTime": {
     "end_time": "2020-04-04T06:03:48.877629Z",
     "start_time": "2020-04-04T06:03:48.868628Z"
    }
   },
   "outputs": [
    {
     "name": "stdout",
     "output_type": "stream",
     "text": [
      "[-14, -10, 2, 108, 108, 243, 285, 285, 285, 401]\n",
      "[-14, -10, 2, 108, 108, 109, 243, 285, 285, 285, 401]\n",
      "[-14, -10, 2, 107, 108, 108, 109, 243, 285, 285, 285, 401]\n"
     ]
    }
   ],
   "source": [
    "# Import allows us to make use of the bisect module.\n",
    "import bisect\n",
    "\n",
    "# This sorted list will be used throughout this lesson\n",
    "# to showcase the functionality of the \"bisect\" method.\n",
    "A = [-14, -10, 2, 108, 108, 243, 285, 285, 285, 401]\n",
    "\n",
    "\n",
    "print(A)\n",
    "bisect.insort_left(A, 109)\n",
    "print(A)\n",
    "\n",
    "bisect.insort_right(A, 107)\n",
    "print(A)"
   ]
  },
  {
   "cell_type": "markdown",
   "metadata": {},
   "source": [
    "I encourage you to know how to write your own binary search because that’s going to be very useful, especially in the context of an interview. However, if you want to apply the binary search in Python, then you can utilize this module.\n",
    "\n",
    "In the context of an interview, if you mention that you know how to use the bisect module, that could be perhaps a feather in your cap because it shows a bit of maturity with the language and it shows that you know some of lesser-known features of Python.\n",
    "\n",
    "By now, you have had good practice with solving problems using binary search, so let’s get ready for some challenges in the next few lessons!"
   ]
  },
  {
   "cell_type": "code",
   "execution_count": null,
   "metadata": {},
   "outputs": [],
   "source": []
  }
 ],
 "metadata": {
  "kernelspec": {
   "display_name": "Python 3",
   "language": "python",
   "name": "python3"
  },
  "language_info": {
   "codemirror_mode": {
    "name": "ipython",
    "version": 3
   },
   "file_extension": ".py",
   "mimetype": "text/x-python",
   "name": "python",
   "nbconvert_exporter": "python",
   "pygments_lexer": "ipython3",
   "version": "3.7.7"
  },
  "toc": {
   "base_numbering": 1,
   "nav_menu": {},
   "number_sections": true,
   "sideBar": false,
   "skip_h1_title": false,
   "title_cell": "Table of Contents",
   "title_sidebar": "Contents",
   "toc_cell": true,
   "toc_position": {},
   "toc_section_display": true,
   "toc_window_display": false
  }
 },
 "nbformat": 4,
 "nbformat_minor": 4
}
