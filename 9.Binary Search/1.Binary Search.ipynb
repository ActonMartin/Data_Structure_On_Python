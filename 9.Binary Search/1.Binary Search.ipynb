{
 "cells": [
  {
   "cell_type": "markdown",
   "metadata": {
    "toc": true
   },
   "source": [
    "<h1>Table of Contents<span class=\"tocSkip\"></span></h1>\n",
    "<div class=\"toc\"><ul class=\"toc-item\"><li><span><a href=\"#Linear-Search\" data-toc-modified-id=\"Linear-Search-1\"><span class=\"toc-item-num\">1&nbsp;&nbsp;</span>Linear Search</a></span></li><li><span><a href=\"#Binary-Search-(Iterative)\" data-toc-modified-id=\"Binary-Search-(Iterative)-2\"><span class=\"toc-item-num\">2&nbsp;&nbsp;</span>Binary Search (Iterative)</a></span></li><li><span><a href=\"#Binary-Search-(Recursive)\" data-toc-modified-id=\"Binary-Search-(Recursive)-3\"><span class=\"toc-item-num\">3&nbsp;&nbsp;</span>Binary Search (Recursive)</a></span></li></ul></div>"
   ]
  },
  {
   "cell_type": "markdown",
   "metadata": {},
   "source": [
    "In this lesson, you will learn about the Binary Search algorithm and its implementation in Python.\n",
    "\n",
    "In this lesson, we take a look at the well-known Binary Search algorithm in Python. Binary Search is a technique that allows you to search an ordered list of elements using a divide-and-conquer strategy. It’s also an algorithm you’ll want to know very well before you step into your technical interview. Now before we dive into discussing binary search, let’s talk about linear search.\n",
    "\n",
    "# Linear Search #\n",
    "Linear search is when you iterate through an array looking for your target element. Essentially, it means sequentially scanning all the elements in the array one by one until you find your target element.\n",
    "\n",
    "Let’s see how we do this in Python:"
   ]
  },
  {
   "cell_type": "code",
   "execution_count": 1,
   "metadata": {
    "ExecuteTime": {
     "end_time": "2020-04-03T01:53:22.105700Z",
     "start_time": "2020-04-03T01:53:22.099699Z"
    }
   },
   "outputs": [],
   "source": [
    "def linear_search(data, target):\t\n",
    "\tfor i in range(len(data)):\n",
    "\t\tif data[i] == target:\n",
    "\t\t\treturn True\n",
    "\treturn False"
   ]
  },
  {
   "cell_type": "markdown",
   "metadata": {},
   "source": [
    "The for loop on line 2 starts from i equal 0 and runs until i equal len(data) - 1. If in any iteration data[i] equals target, we return True to indicate that we have found target in data. On the other hand, if the for loop terminates and the condition on line 3 never comes out to be True, False is returned from the function (line 5). In the worst case, we might have to scan an entire array and not find what we are looking for. Thus, the worst-case runtime of a linear search would be $O(n)$.\n",
    "\n",
    "This is where binary search comes into play. Binary search is more efficient than the linear search. Let’s find out how.\n",
    "\n",
    "# Binary Search (Iterative) #\n",
    "Binary search assumes that the array on which the search will take place is sorted in ascending order. In binary search, the target element is compared with the middle element of the array following which the next chunk of the array to be searched is decided. If the target matches the middle element, we are successful. Otherwise, since the array is sorted, if the target is smaller than the middle element, it could only be in the left half of the array. Alternatively, if the target is greater than the middle element, it could be in the right half of the array. So, we exclude one half of the array from the further search and repeat the same strategy to the remaining half.\n",
    "\n",
    "Let’s jump to the code below so you get a clearer idea of binary search."
   ]
  },
  {
   "cell_type": "code",
   "execution_count": 2,
   "metadata": {
    "ExecuteTime": {
     "end_time": "2020-04-03T01:54:43.083331Z",
     "start_time": "2020-04-03T01:54:43.075331Z"
    }
   },
   "outputs": [],
   "source": [
    "def binary_search_iterative(data, target):\n",
    "\tlow = 0\n",
    "\thigh = len(data) - 1\n",
    "\n",
    "\twhile low <= high:\n",
    "\t\tmid = (low + high) // 2\n",
    "\t\tif target == data[mid]:\n",
    "\t\t\treturn True\n",
    "\t\telif target < data[mid]:\n",
    "\t\t\thigh = mid - 1\n",
    "\t\telse:\n",
    "\t\t\tlow = mid + 1\n",
    "\treturn False "
   ]
  },
  {
   "cell_type": "markdown",
   "metadata": {},
   "source": [
    "data and target are the input parameters to binary_search_iterative function. data is the array in which we are searching, and target is the value that we are searching for. On lines 2-3, low and high are initialized to 0 and len(data) - 1 respectively. Based on the assumption that data is a sorted list, low and high have been assigned as the indices for the minimum and the maximum values in data.\n",
    "\n",
    "Next, the while loop on line 5 will run until low is less than or equal to high. On line 6, mid is calculated by dividing the sum of low and high by 2 and getting the floored value because of the // operator. As specified before, target will be compared to the middle element, which is what happens on line 7. If target is equal to data[mid] (the middle element), it implies target exists in data and True is returned from the function as an indication. On the other hand, if target is less than the middle element, it means that target is somewhere in the first half of the array as the array is sorted. Therefore, we set high to mid - 1, i.e., the upper bound of the chunk of the array to be searched will be at a position to the left of mid. In contrast, if target is greater than data[mid], target must be in the second half of the array, so the lower bound (low) is set to mid + 1.\n",
    "\n",
    "In general, we keep dividing the array into halves in the binary search instead of iterating through all the elements to search for the target element. This implies that it takes $O(logn)$ steps to divide into halves until we reach a single element. As a result, the worst-case time complexity of a binary search is $O(log n)$.\n",
    "\n",
    "# Binary Search (Recursive) #\n",
    "\n",
    "Now that we have implemented binary search iteratively, let’s go ahead and learn how to implement the algorithm recursively:"
   ]
  },
  {
   "cell_type": "code",
   "execution_count": 3,
   "metadata": {
    "ExecuteTime": {
     "end_time": "2020-04-03T01:56:53.885813Z",
     "start_time": "2020-04-03T01:56:53.876812Z"
    }
   },
   "outputs": [],
   "source": [
    "def binary_search_recursive(data, target, low, high):\n",
    "\tif low > high:\n",
    "\t\treturn False\n",
    "\telse:\n",
    "\t\tmid = (low + high) // 2\n",
    "\t\tif target == data[mid]:\n",
    "\t\t\treturn True\n",
    "\t\telif target < data[mid]:\n",
    "\t\t\treturn binary_search_recursive(data, target, low, mid-1)\n",
    "\t\telse:\n",
    "\t\t\treturn binary_search_recursive(data, target, mid+1, high)"
   ]
  },
  {
   "cell_type": "markdown",
   "metadata": {},
   "source": [
    "In the recursive approach, in addition to data and target, low and high are also passed as input parameters to binary_search_recursive. This is to help us code our base case. The base case for this recursive function will be when low becomes greater than high. If the base case turns out to be True, False is returned from the function to end the recursive calls (lines 2-3). On the other hand, if low is less than or equal to high, execution jumps to line 5 where mid is calculated in the same way as in the iterative function. If target is equal to data[mid], True is returned (line 7). If not, then the condition on line 8 is evaluated. If target is less than data[mid], we make a recursive call to binary_search_recursive and pass mid - 1 which is the high in the scope of the next recursive call. This will reduce the search span as it will be halved with each recursive call. Similarly, if target is greater than data[mid], low needs to be adjusted and so we pass mid + 1 to the recursive call on line 11 which is low in the next recursive call.\n",
    "\n",
    "We keep dividing the array into halves with recursive calls until the base case is reached. As every recursive call takes constant time, the worst-case time complexity of the recursive approach is also $O(log n)$.\n",
    "\n",
    "Below is an executable code with all the functions that we have implemented in this lesson in a sample test case:"
   ]
  },
  {
   "cell_type": "code",
   "execution_count": 4,
   "metadata": {
    "ExecuteTime": {
     "end_time": "2020-04-03T01:58:44.288128Z",
     "start_time": "2020-04-03T01:58:44.260126Z"
    }
   },
   "outputs": [
    {
     "name": "stdout",
     "output_type": "stream",
     "text": [
      "True\n",
      "True\n"
     ]
    }
   ],
   "source": [
    "# Linear Search\n",
    "def linear_search(data, target):\t\n",
    "\tfor i in range(len(data)):\n",
    "\t\tif data[i] == target:\n",
    "\t\t\treturn True\n",
    "\treturn False\n",
    "\n",
    "# Iterative Binary Search \n",
    "def binary_search_iterative(data, target):\n",
    "\tlow = 0\n",
    "\thigh = len(data) - 1\n",
    "\n",
    "\twhile low <= high:\n",
    "\t\tmid = (low + high) // 2\n",
    "\t\tif target == data[mid]:\n",
    "\t\t\treturn True\n",
    "\t\telif target < data[mid]:\n",
    "\t\t\thigh = mid - 1\n",
    "\t\telse:\n",
    "\t\t\tlow = mid + 1\n",
    "\treturn False \n",
    "\n",
    "# Recursive Binary Search \n",
    "def binary_search_recursive(data, target, low, high):\n",
    "\tif low > high:\n",
    "\t\treturn False\n",
    "\telse:\n",
    "\t\tmid = (low + high) // 2\n",
    "\t\tif target == data[mid]:\n",
    "\t\t\treturn True\n",
    "\t\telif target < data[mid]:\n",
    "\t\t\treturn binary_search_recursive(data, target, low, mid-1)\n",
    "\t\telse:\n",
    "\t\t\treturn binary_search_recursive(data, target, mid+1, high)\n",
    "\n",
    "\n",
    "data = [2,4,5,7,8,9,12,14,17,19,22,25,27,28,33,37]\n",
    "target = 37\n",
    "\n",
    "print(binary_search_recursive(data, target, 0, len(data)-1))\n",
    "print(binary_search_iterative(data, target))"
   ]
  },
  {
   "cell_type": "markdown",
   "metadata": {},
   "source": [
    "In the next lesson, we look at a problem and solve it using a binary search."
   ]
  },
  {
   "cell_type": "code",
   "execution_count": null,
   "metadata": {},
   "outputs": [],
   "source": []
  }
 ],
 "metadata": {
  "kernelspec": {
   "display_name": "Python 3",
   "language": "python",
   "name": "python3"
  },
  "language_info": {
   "codemirror_mode": {
    "name": "ipython",
    "version": 3
   },
   "file_extension": ".py",
   "mimetype": "text/x-python",
   "name": "python",
   "nbconvert_exporter": "python",
   "pygments_lexer": "ipython3",
   "version": "3.7.7"
  },
  "toc": {
   "base_numbering": 1,
   "nav_menu": {},
   "number_sections": true,
   "sideBar": false,
   "skip_h1_title": false,
   "title_cell": "Table of Contents",
   "title_sidebar": "Contents",
   "toc_cell": true,
   "toc_position": {},
   "toc_section_display": true,
   "toc_window_display": false
  }
 },
 "nbformat": 4,
 "nbformat_minor": 4
}
