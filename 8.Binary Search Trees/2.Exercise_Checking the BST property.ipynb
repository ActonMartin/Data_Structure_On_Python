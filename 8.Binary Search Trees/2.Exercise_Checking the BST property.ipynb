{
 "cells": [
  {
   "cell_type": "markdown",
   "metadata": {
    "toc": true
   },
   "source": [
    "<h1>Table of Contents<span class=\"tocSkip\"></span></h1>\n",
    "<div class=\"toc\"><ul class=\"toc-item\"><li><span><a href=\"#Problem\" data-toc-modified-id=\"Problem-1\"><span class=\"toc-item-num\">1&nbsp;&nbsp;</span>Problem</a></span></li><li><span><a href=\"#BST-Property\" data-toc-modified-id=\"BST-Property-2\"><span class=\"toc-item-num\">2&nbsp;&nbsp;</span>BST Property</a></span></li><li><span><a href=\"#Coding-Time!\" data-toc-modified-id=\"Coding-Time!-3\"><span class=\"toc-item-num\">3&nbsp;&nbsp;</span>Coding Time!</a></span></li><li><span><a href=\"#Solution-Review:-Checking-the-BST-property\" data-toc-modified-id=\"Solution-Review:-Checking-the-BST-property-4\"><span class=\"toc-item-num\">4&nbsp;&nbsp;</span>Solution Review: Checking the BST property</a></span></li><li><span><a href=\"#Implementation\" data-toc-modified-id=\"Implementation-5\"><span class=\"toc-item-num\">5&nbsp;&nbsp;</span>Implementation</a></span></li><li><span><a href=\"#Explanation\" data-toc-modified-id=\"Explanation-6\"><span class=\"toc-item-num\">6&nbsp;&nbsp;</span>Explanation</a></span></li></ul></div>"
   ]
  },
  {
   "cell_type": "markdown",
   "metadata": {},
   "source": [
    "# Problem #\n",
    "\n",
    "You are required to check and determine whether a tree satisfies the BST property. First of all, let’s define the BST property.\n",
    "\n",
    "# BST Property #\n",
    "\n",
    "The BST property states that every node on the right subtree has to be larger than the current node, and every node on the left subtree has to be smaller than the current node.\n",
    "\n",
    "The binary search tree property (BST property) is a global property that every binary search tree must satisfy.\n",
    "\n",
    "Below are some examples that show which trees satisfy the BST property:\n",
    "\n",
    "![](image/checkbst_2020-04-03_08-45-29.png)\n",
    "\n",
    "Here are some other examples where we check for the BST property:\n",
    "\n",
    "![](image/checkfortheBSTproperty_2020-04-03_08-46-44.png)\n",
    "![](image/checkfortheBSTproperty_2020-04-03_08-47-07.png)\n",
    "![](image/checkfortheBSTproperty_2020-04-03_08-47-20.png)\n",
    "![](image/checkfortheBSTproperty_2020-04-03_08-47-25.png)\n",
    "![](image/checkfortheBSTproperty_2020-04-03_08-47-32.png)\n",
    "![](image/checkfortheBSTproperty_2020-04-03_08-47-45.png)\n",
    "\n",
    "# Coding Time! #\n",
    "\n",
    "In the code below, is_bst_satisfied is a class method of the BST class. You cannot see the rest of the code as it is hidden. As is_bst_satisfied is a class method, please make sure that you don’t change the indentation of the code provided to you. You are required to write your solution under the method prototype and return True or False from the method."
   ]
  },
  {
   "cell_type": "code",
   "execution_count": 1,
   "metadata": {
    "ExecuteTime": {
     "end_time": "2020-04-03T01:07:59.124954Z",
     "start_time": "2020-04-03T01:07:59.115954Z"
    }
   },
   "outputs": [],
   "source": [
    "    def is_bst_satisfied(self):\n",
    "        def helper(node, lower=float('-inf'), upper=float('inf')):\n",
    "            if not node:\n",
    "                return True\n",
    "            \n",
    "            val = node.data\n",
    "            if val <= lower or val >= upper:\n",
    "                return False\n",
    "\n",
    "            if not helper(node.right, val, upper):\n",
    "                return False\n",
    "            if not helper(node.left, lower, val):\n",
    "                return False\n",
    "            return True\n",
    "\n",
    "        return helper(self.root)"
   ]
  },
  {
   "cell_type": "markdown",
   "metadata": {},
   "source": [
    "# Solution Review: Checking the BST property\n",
    "\n",
    "Recall the in-order traversal that we learned in the Binary Trees chapter. The in-order traversal of a Binary Search Tree gives us the list of nodes in sorted order.\n",
    "\n",
    "![](image/inorder_2020-04-03_09-08-39.png)\n",
    "\n",
    "In the code widget below, we have implemented the in-order traversal for BST and you can confirm the traversal in the illustration above."
   ]
  },
  {
   "cell_type": "code",
   "execution_count": 4,
   "metadata": {
    "ExecuteTime": {
     "end_time": "2020-04-03T01:10:37.106990Z",
     "start_time": "2020-04-03T01:10:37.074988Z"
    }
   },
   "outputs": [
    {
     "name": "stdout",
     "output_type": "stream",
     "text": [
      "1\n",
      "2\n",
      "3\n",
      "5\n",
      "7\n",
      "8\n",
      "9\n",
      "10\n"
     ]
    }
   ],
   "source": [
    "class Node(object):\n",
    "  def __init__(self, data):\n",
    "    self.data = data\n",
    "    self.left = None\n",
    "    self.right = None\n",
    "\n",
    "\n",
    "class BST(object):\n",
    "    def __init__(self, root):\n",
    "        self.root = Node(root)\n",
    "\n",
    "    def insert(self, data):\n",
    "        if self.root is None:\n",
    "            self.root = Node(data)\n",
    "        else:\n",
    "            self._insert(data, self.root)\n",
    "\n",
    "    def _insert(self, data, cur_node):\n",
    "        if data < cur_node.data:\n",
    "            if cur_node.left is None:\n",
    "                cur_node.left = Node(data)\n",
    "                cur_node.left.parent = cur_node\n",
    "            else:\n",
    "                self._insert(data, cur_node.left)\n",
    "\n",
    "        elif data > cur_node.data:\n",
    "            if cur_node.right is None:\n",
    "                cur_node.right = Node(data)\n",
    "                cur_node.right.parent = cur_node\n",
    "            else:\n",
    "                self._insert(data, cur_node.right)\n",
    "        else:\n",
    "            print(\"Value already in tree!\")\n",
    "\n",
    "    def inorder_print_tree(self):\n",
    "        if self.root:\n",
    "            self._inorder_print_tree(self.root)\n",
    "\n",
    "    def _inorder_print_tree(self, cur_node):\n",
    "        if cur_node:\n",
    "            self._inorder_print_tree(cur_node.left)\n",
    "            print(str(cur_node.data))\n",
    "            self._inorder_print_tree(cur_node.right)\n",
    "\n",
    "    def find(self, data):\n",
    "        if self.root:\n",
    "            is_found = self._find(data, self.root)\n",
    "            if is_found:\n",
    "                return True\n",
    "            return False\n",
    "        else:\n",
    "            return None\n",
    "\n",
    "    def _find(self, data, cur_node):\n",
    "        if data > cur_node.data and cur_node.right:\n",
    "            return self._find(data, cur_node.right)\n",
    "        elif data < cur_node.data and cur_node.left:\n",
    "            return self._find(data, cur_node.left)\n",
    "        if data == cur_node.data:\n",
    "            return True\n",
    "\n",
    "bst = BST(7)\n",
    "bst.insert(3)\n",
    "bst.insert(10)\n",
    "bst.insert(5)\n",
    "bst.insert(1)\n",
    "bst.insert(8)\n",
    "bst.insert(9)\n",
    "bst.insert(2)\n",
    "\n",
    "bst.inorder_print_tree()            "
   ]
  },
  {
   "cell_type": "markdown",
   "metadata": {},
   "source": [
    "We have discussed in-order traversal above because we’ll be using a similar idea to check whether a tree satisfies the BST property or not. If we traverse a binary tree in-order and it results in a sorted list, then the tree satisfies the BST property.\n",
    "\n",
    "# Implementation #\n",
    "\n",
    "Now let’s discuss the implementation of the solution we provided for the challenge in the previous lesson."
   ]
  },
  {
   "cell_type": "code",
   "execution_count": 5,
   "metadata": {
    "ExecuteTime": {
     "end_time": "2020-04-03T01:18:04.077555Z",
     "start_time": "2020-04-03T01:18:04.068555Z"
    }
   },
   "outputs": [],
   "source": [
    "def is_bst_satisfied(self):\n",
    "    def helper(node, lower=float('-inf'), upper=float('inf')):\n",
    "        if not node:\n",
    "            return True\n",
    "        \n",
    "        val = node.data\n",
    "        if val <= lower or val >= upper:\n",
    "            return False\n",
    "\n",
    "        if not helper(node.right, val, upper):\n",
    "            return False\n",
    "        if not helper(node.left, lower, val):\n",
    "            return False\n",
    "        return True\n",
    "\n",
    "    return helper(self.root)"
   ]
  },
  {
   "cell_type": "markdown",
   "metadata": {},
   "source": [
    "# Explanation #\n",
    "\n",
    "In the is_bst_satisfied method, we define an inner method on line 2,helper, which takes node, lower and upper as input parameters. On line 3, we have the base case which caters to an empty tree or a None node. If node is None, True is returned from the method on line 4. Otherwise, the execution proceeds to line 6 where val is made equal to node.data.\n",
    "\n",
    "Next, we check if val is less or equal to lower or if val is greater or equal to upper on line 7. If any of the two conditions is True, False is returned from the method on line 8. This is because the value of the current node should be greater than all the values of the children in the left subtree, and it should be less than all the values of the children in the right subtree.\n",
    "\n",
    "Now that we have checked the BST property for the current node, it’s time to check it for the subtrees. On line 10, we make a recursive call to the right subtree of the current node.node.right is passed as node, val is passed as lower while upper stays the same.lower is now the lower bound for the right subtree as all the children in the right subtree have to be greater than the value of the current node. If the recursive call returns False, the condition on line 10 will evaluate to True and False will be returned from the method.\n",
    "\n",
    "Similarly, the left subtree is evaluated through a recursive call on line 12. Now val is passed as upper for the recursive call as all the children in the left subtree have to be less than the value of the current node.\n",
    "\n",
    "If none of the conditions before line 14 evaluate to True, True is returned on line 14 declaring that the BST property is satisfied.\n",
    "\n",
    "You can run the following code where we have the entire implementation of the BST class that we discussed in this chapter."
   ]
  },
  {
   "cell_type": "code",
   "execution_count": 6,
   "metadata": {
    "ExecuteTime": {
     "end_time": "2020-04-03T01:21:17.376612Z",
     "start_time": "2020-04-03T01:21:17.332609Z"
    }
   },
   "outputs": [
    {
     "name": "stdout",
     "output_type": "stream",
     "text": [
      "True\n",
      "False\n"
     ]
    }
   ],
   "source": [
    "class Node(object):\n",
    "  def __init__(self, data):\n",
    "    self.data = data\n",
    "    self.left = None\n",
    "    self.right = None\n",
    "\n",
    "\n",
    "class BST(object):\n",
    "    def __init__(self, root):\n",
    "        self.root = Node(root)\n",
    "\n",
    "    def insert(self, data):\n",
    "        if self.root is None:\n",
    "            self.root = Node(data)\n",
    "        else:\n",
    "            self._insert(data, self.root)\n",
    "\n",
    "    def _insert(self, data, cur_node):\n",
    "        if data < cur_node.data:\n",
    "            if cur_node.left is None:\n",
    "                cur_node.left = Node(data)\n",
    "                cur_node.left.parent = cur_node\n",
    "            else:\n",
    "                self._insert(data, cur_node.left)\n",
    "\n",
    "        elif data > cur_node.data:\n",
    "            if cur_node.right is None:\n",
    "                cur_node.right = Node(data)\n",
    "                cur_node.right.parent = cur_node\n",
    "            else:\n",
    "                self._insert(data, cur_node.right)\n",
    "        else:\n",
    "            print(\"Value already in tree!\")\n",
    "\n",
    "    def inorder_print_tree(self):\n",
    "        if self.root:\n",
    "            self._inorder_print_tree(self.root)\n",
    "\n",
    "    def _inorder_print_tree(self, cur_node):\n",
    "        if cur_node:\n",
    "            self._inorder_print_tree(cur_node.left)\n",
    "            print(str(cur_node.data))\n",
    "            self._inorder_print_tree(cur_node.right)\n",
    "\n",
    "    def find(self, data):\n",
    "        if self.root:\n",
    "            is_found = self._find(data, self.root)\n",
    "            if is_found:\n",
    "                return True\n",
    "            return False\n",
    "        else:\n",
    "            return None\n",
    "\n",
    "    def _find(self, data, cur_node):\n",
    "        if data > cur_node.data and cur_node.right:\n",
    "            return self._find(data, cur_node.right)\n",
    "        elif data < cur_node.data and cur_node.left:\n",
    "            return self._find(data, cur_node.left)\n",
    "        if data == cur_node.data:\n",
    "            return True\n",
    "\n",
    "    def is_bst_satisfied(self):\n",
    "        def helper(node, lower=float('-inf'), upper=float('inf')):\n",
    "            if not node:\n",
    "                return True\n",
    "            \n",
    "            val = node.data\n",
    "            if val <= lower or val >= upper:\n",
    "                return False\n",
    "\n",
    "            if not helper(node.right, val, upper):\n",
    "                return False\n",
    "            if not helper(node.left, lower, val):\n",
    "                return False\n",
    "            return True\n",
    "\n",
    "        return helper(self.root) \n",
    "\n",
    "bst = BST(4)\n",
    "bst.insert(2)\n",
    "bst.insert(8)\n",
    "bst.insert(5)\n",
    "bst.insert(10)\n",
    "\n",
    "tree = BST(1)\n",
    "tree.root.left = Node(2)\n",
    "tree.root.right = Node(3)\n",
    "tree.root.left.left = Node(4)\n",
    "tree.root.left.right = Node(5)\n",
    "tree.root.right.left = Node(6)\n",
    "tree.root.right.right = Node(7)\n",
    "tree.root.right.right.right = Node(8)\n",
    "\n",
    "print(bst.is_bst_satisfied())\n",
    "print(tree.is_bst_satisfied())"
   ]
  },
  {
   "cell_type": "markdown",
   "metadata": {},
   "source": [
    "Congratulations! We have completed the Data Structures part of the course. Now, we’ll focus on algorithms in the remaining course. I hope you were able to enjoy learning about data structures. Happy learning!"
   ]
  }
 ],
 "metadata": {
  "kernelspec": {
   "display_name": "Python 3",
   "language": "python",
   "name": "python3"
  },
  "language_info": {
   "codemirror_mode": {
    "name": "ipython",
    "version": 3
   },
   "file_extension": ".py",
   "mimetype": "text/x-python",
   "name": "python",
   "nbconvert_exporter": "python",
   "pygments_lexer": "ipython3",
   "version": "3.7.7"
  },
  "toc": {
   "base_numbering": 1,
   "nav_menu": {},
   "number_sections": true,
   "sideBar": false,
   "skip_h1_title": false,
   "title_cell": "Table of Contents",
   "title_sidebar": "Contents",
   "toc_cell": true,
   "toc_position": {},
   "toc_section_display": true,
   "toc_window_display": false
  }
 },
 "nbformat": 4,
 "nbformat_minor": 4
}
