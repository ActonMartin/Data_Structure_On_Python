{
 "cells": [
  {
   "cell_type": "markdown",
   "metadata": {
    "toc": true
   },
   "source": [
    "<h1>Table of Contents<span class=\"tocSkip\"></span></h1>\n",
    "<div class=\"toc\"><ul class=\"toc-item\"></ul></div>"
   ]
  },
  {
   "cell_type": "markdown",
   "metadata": {},
   "source": [
    "# The worst-case time complexity of insert, search and delete operations in a binary search tree is as follows: #\n",
    "\n",
    "O(n)\n",
    "\n",
    "# BST property: The value of the left child of any node in a binary search tree will be less than whatever value we have in that node, and the value of the right child of a node will be equal to the value in that node. #\n",
    "\n",
    "False\n",
    "\n",
    "# Is the following tree a valid binary search tree? #\n",
    "\n",
    "![](image/istree.png)\n",
    "True\n",
    "\n",
    "# What is the average time complexity of the following code? #\n",
    "\n",
    "```python\n",
    "def search(self, find_val):\n",
    "  return self.search_helper(self.root, find_val)\n",
    " \n",
    "def search_helper(self, current, find_val):\n",
    "  if current:\n",
    "    if current.data == find_val:\n",
    "        return True\n",
    "    elif current.data < find_val:\n",
    "        return self.search_helper(current.right, find_val)\n",
    "    else:\n",
    "        return self.search_helper(current.left, find_val)\n",
    "```\n",
    "O(logn)\n",
    "\n",
    "\n",
    "# Which of the following is a valid implementation of the Node class for a binary search tree? #\n",
    "\n",
    "```python\n",
    "class Node:\n",
    "    def __init__(self, val): \n",
    "        self.val = val\n",
    "        self.leftChild = None \n",
    "        self.rightChild = None\n",
    "```\n"
   ]
  }
 ],
 "metadata": {
  "kernelspec": {
   "display_name": "Python 3",
   "language": "python",
   "name": "python3"
  },
  "language_info": {
   "codemirror_mode": {
    "name": "ipython",
    "version": 3
   },
   "file_extension": ".py",
   "mimetype": "text/x-python",
   "name": "python",
   "nbconvert_exporter": "python",
   "pygments_lexer": "ipython3",
   "version": "3.7.7"
  },
  "toc": {
   "base_numbering": 1,
   "nav_menu": {},
   "number_sections": true,
   "sideBar": false,
   "skip_h1_title": false,
   "title_cell": "Table of Contents",
   "title_sidebar": "Contents",
   "toc_cell": true,
   "toc_position": {},
   "toc_section_display": true,
   "toc_window_display": false
  }
 },
 "nbformat": 4,
 "nbformat_minor": 4
}
