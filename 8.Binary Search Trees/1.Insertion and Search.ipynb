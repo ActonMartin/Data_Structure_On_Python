{
 "cells": [
  {
   "cell_type": "markdown",
   "metadata": {
    "toc": true
   },
   "source": [
    "<h1>Table of Contents<span class=\"tocSkip\"></span></h1>\n",
    "<div class=\"toc\"><ul class=\"toc-item\"><li><span><a href=\"#Introduction---Insertion-and-Search\" data-toc-modified-id=\"Introduction---Insertion-and-Search-1\"><span class=\"toc-item-num\">1&nbsp;&nbsp;</span>Introduction - Insertion and Search</a></span></li><li><span><a href=\"#Insertion\" data-toc-modified-id=\"Insertion-2\"><span class=\"toc-item-num\">2&nbsp;&nbsp;</span>Insertion</a></span></li><li><span><a href=\"#Insertion-of-a-Reverse-Sorted-List\" data-toc-modified-id=\"Insertion-of-a-Reverse-Sorted-List-3\"><span class=\"toc-item-num\">3&nbsp;&nbsp;</span>Insertion of a Reverse Sorted List</a></span></li><li><span><a href=\"#Search\" data-toc-modified-id=\"Search-4\"><span class=\"toc-item-num\">4&nbsp;&nbsp;</span>Search</a></span></li><li><span><a href=\"#Implementation\" data-toc-modified-id=\"Implementation-5\"><span class=\"toc-item-num\">5&nbsp;&nbsp;</span>Implementation</a></span><ul class=\"toc-item\"><li><span><a href=\"#insert\" data-toc-modified-id=\"insert-5.1\"><span class=\"toc-item-num\">5.1&nbsp;&nbsp;</span>insert</a></span></li><li><span><a href=\"#search\" data-toc-modified-id=\"search-5.2\"><span class=\"toc-item-num\">5.2&nbsp;&nbsp;</span>search</a></span></li></ul></li></ul></div>"
   ]
  },
  {
   "cell_type": "markdown",
   "metadata": {},
   "source": [
    "# Introduction - Insertion and Search#\n",
    "\n",
    "In this lesson, we will go over the binary search tree data structure. We will first cover the general idea of what a binary search tree is and how one may go about inserting data into this structure as well as how one searches for data. Once we cover the general idea, we will move over to the implementation of the binary search tree data structure in Python. We will construct two class methods that will implement the search and insertion algorithms.\n",
    "\n",
    "A binary search tree is a tree data structure in which nodes are arranged according to the BST property which is as follows:\n",
    "\n",
    "The value of the left child of any node in a binary search tree will be less than whatever value we have in that node, and the value of the right child of a node will be greater than the value in that node.\n",
    "\n",
    "This type of pattern persists throughout the tree. Let’s look at an example illustrated below:\n",
    "\n",
    "![](image/binary_2020-04-02_16-52-54.png)\n",
    "\n",
    "# Insertion #\n",
    "Let’s see how we can insert elements in a binary search tree. In the illustration below, we have an array of elements where we want to insert all the elements one by one into the binary search tree. The way we go about insertion is to start from the root node and compare the new value to be inserted with the current node’s value. If the new value is less than the value of the current node, then the new value must be inserted in the left subtree of the current node. On the other hand, if it’s greater, it must be inserted in the right subtree to satisfy the BST property. We keep comparing the values as we traverse the tree and insert wherever we find a null position.\n",
    "\n",
    "![](image/binsea_2020-04-02_16-54-08.png)\n",
    "![](image/binsea_2020-04-02_16-54-19.png)\n",
    "![](image/binsea_2020-04-02_16-54-28.png)\n",
    "![](image/binsea_2020-04-02_16-54-35.png)\n",
    "![](image/binsea_2020-04-02_16-54-41.png)\n",
    "![](image/binsea_2020-04-02_16-54-48.png)\n",
    "\n",
    "# Insertion of a Reverse Sorted List #\n",
    "\n",
    "Let’s see what happens if we insert elements from a reverse sorted list one by one in a binary search tree.\n",
    "\n",
    "![](image/InsertionofaReverseSortedList_2020-04-02_17-03-15.png)\n",
    "![](image/InsertionofaReverseSortedList_2020-04-02_17-03-23.png)\n",
    "![](image/InsertionofaReverseSortedList_2020-04-02_17-03-30.png)\n",
    "![](image/InsertionofaReverseSortedList_2020-04-02_17-03-36.png)\n",
    "![](image/InsertionofaReverseSortedList_2020-04-02_17-03-44.png)\n",
    "![](image/InsertionofaReverseSortedList_2020-04-02_17-03-50.png)\n",
    "\n",
    "As you can see, we end up with a linear sort of a binary search tree. In such a case, if you want to find node 1 in the above binary search tree, you might have to traverse down. However, if you have a structure other than the linear one, then you can substantially cut down the number of operations that you would have to do to find node 1. We will look at that sort of a structure when we cover searching. The linear binary search tree is a structure we want to avoid when we perform operations on binary search trees because it kills the purpose of having a binary search tree. If you’re curious about how you can prevent getting the structure from reading data and forming a binary search tree out of it, then you can look into something called an AVL tree. An AVL tree rebalances the nodes so that you get a hierarchically spread-out structure instead of a linear one. However, that is beyond the scope of this lesson."
   ]
  },
  {
   "cell_type": "markdown",
   "metadata": {},
   "source": [
    "# Search #\n",
    "\n",
    "We search using a similar approach as we used in the insertion in a binary search tree. Starting from the root node, we decide which subtree to traverse by comparing the value to be searched with the current node. Then we traverse to the appropriate subtree and discard the other subtree that does not contain the element we are searching for due to the BST property.\n",
    "\n",
    "Have a look at the illustrations to get a fair idea:\n",
    "\n",
    "![](image/search_2020-04-02_17-04-50.png)\n",
    "![](image/search_2020-04-02_17-04-59.png)\n",
    "![](image/search_2020-04-02_17-05-06.png)\n",
    "![](image/search_2020-04-02_17-05-13.png)\n",
    "\n",
    "Now let’s also illustrate an example to search on a linear binary tree.\n",
    "\n",
    "![](image/searchoo_2020-04-02_17-07-38.png)\n",
    "![](image/searchoo_2020-04-02_17-07-46.png)\n",
    "![](image/searchoo_2020-04-02_17-07-53.png)\n",
    "![](image/searchoo_2020-04-02_17-08-01.png)\n",
    "![](image/searchoo_2020-04-02_17-08-07.png)\n",
    "\n",
    "As you can see from the illustration above, we don’t discard anything in a linear structure, so we have to traverse all the nodes to find the node we are looking for. This makes it an operation of $O(n)$ in the worst case. If we have a non-linear structure for a BST, the time complexity significantly improves to $O(log n)$.\n",
    "\n",
    "This table summarizes the time complexities for a BST:\n",
    "\n",
    "Algorithm|Average Case|Worst Case\n",
    "--|:--:|--:\n",
    "Search|O(logn)|O(n)\n",
    "Insert|O(logn)|O(n)\n",
    "Delete|O(logn)|O(n)"
   ]
  },
  {
   "cell_type": "markdown",
   "metadata": {},
   "source": [
    "Now let’s jump to the implementations in Python!\n",
    "\n",
    "# Implementation #\n",
    "\n",
    "The implementation of the BST class is similar to the implementation of the BinaryTree class. The Node class is exactly the same as the Node class in the Binary Trees chapter.\n",
    "\n",
    "Have a look at the implementation below:"
   ]
  },
  {
   "cell_type": "code",
   "execution_count": 1,
   "metadata": {
    "ExecuteTime": {
     "end_time": "2020-04-02T09:17:33.871363Z",
     "start_time": "2020-04-02T09:17:33.863363Z"
    }
   },
   "outputs": [],
   "source": [
    "class Node(object):\n",
    "  def __init__(self, data):\n",
    "    self.data = data\n",
    "    self.left = None\n",
    "    self.right = None\n",
    "\n",
    "\n",
    "class BST(object):\n",
    "  def __init__(self, root):\n",
    "    self.root = Node(root)"
   ]
  },
  {
   "cell_type": "markdown",
   "metadata": {},
   "source": [
    "## insert ##\n",
    "\n",
    "Now we’ll look into the implementation of insert operation in Python."
   ]
  },
  {
   "cell_type": "code",
   "execution_count": 2,
   "metadata": {
    "ExecuteTime": {
     "end_time": "2020-04-02T09:18:15.490744Z",
     "start_time": "2020-04-02T09:18:15.480743Z"
    }
   },
   "outputs": [],
   "source": [
    "def insert(self, new_val):\n",
    "  self.insert_helper(self.root, new_val)\n",
    "\n",
    "def insert_helper(self, current, new_val):\n",
    "  if current.data < new_val:\n",
    "    if current.right:\n",
    "      self.insert_helper(current.right, new_val)\n",
    "    else:\n",
    "      current.right = Node(new_val)\n",
    "  else:\n",
    "      if current.left:\n",
    "        self.insert_helper(current.left, new_val)\n",
    "      else:\n",
    "        current.left = Node(new_val)"
   ]
  },
  {
   "cell_type": "markdown",
   "metadata": {},
   "source": [
    "The insert method on line 1 invokes the helper function (insert_helper) on line 2, while also passing self.root and new_val into that method. In the insert_helper method, we have current and new_val which refer to the current node and the new value to be inserted. In order to find the appropriate location to insert new_value, we compare current.data to new_value. If current.data is less than new_val, then new_val must be placed somewhere in the right subtree. Therefore, we check on line 6 if current.right is None. If it’s not, this implies that we have to traverse the tree further and we recursively call insert_helper on line 7 and pass current.right and new_value to it. On the other hand, if current.right is None, then current must be a leaf node, and we have found an appropriate position to insert the new_val. Then we initialize current.right to a new Node by passing new_val to the constructor on line 9.\n",
    "\n",
    "Let’s talk about when current.data is greater than or equal to new_val. If that’s the case, we repeat what we discussed above about the code in lines 6-9, but replace current.right with current.left as new_val must be placed in the left subtree of the current node.\n",
    "\n",
    "## search ##\n",
    "\n",
    "Let’s discuss the search method:"
   ]
  },
  {
   "cell_type": "code",
   "execution_count": 3,
   "metadata": {
    "ExecuteTime": {
     "end_time": "2020-04-02T09:21:24.752569Z",
     "start_time": "2020-04-02T09:21:24.743568Z"
    }
   },
   "outputs": [],
   "source": [
    "def search(self, find_val):\n",
    "  return self.search_helper(self.root, find_val)\n",
    "\n",
    "def search_helper(self, current, find_val):\n",
    "  if current:\n",
    "    if current.data == find_val:\n",
    "        return True\n",
    "    elif current.data < find_val:\n",
    "        return self.search_helper(current.right, find_val)\n",
    "    else:\n",
    "        return self.search_helper(current.left, find_val)"
   ]
  },
  {
   "cell_type": "markdown",
   "metadata": {},
   "source": [
    "If you get the hang of the insert operation, then the search method is relatively simple to understand. Like the insert method, the search method invokes a helper function (search_helper) and passes the root node and the value to search (find_val) to the helper method. It also returns whatever is returned from the helper method.\n",
    "\n",
    "In search_helper, we check on line 5 if current is None. If it’s not, then the execution jumps to line 6 where the condition acts as a sort of base case to the recursive method. If the value of the current node (current.data) is equal to find_val, then we have found the node that we are supposed to search. True is returned on line 7 to send a confirmation back to the caller method. However, if the condition on line 6 does not evaluate to True, we check on line 8 to see if current.data is less than find_val. If this evaluates to True, find_val must be in the right subtree of the current node to which we make a recursive call on line 9. Otherwise, if current.data is greater than find_val, we make a recursive call to the left subtree on line 11.\n",
    "\n",
    "The entire code that we have implemented can be found below. Make a BST and insert elements to it to verify the insert and the search methods."
   ]
  },
  {
   "cell_type": "code",
   "execution_count": 4,
   "metadata": {
    "ExecuteTime": {
     "end_time": "2020-04-02T09:21:48.655936Z",
     "start_time": "2020-04-02T09:21:48.625934Z"
    }
   },
   "outputs": [
    {
     "name": "stdout",
     "output_type": "stream",
     "text": [
      "True\n",
      "None\n"
     ]
    }
   ],
   "source": [
    "class Node(object):\n",
    "  def __init__(self, data):\n",
    "    self.data = data\n",
    "    self.left = None\n",
    "    self.right = None\n",
    "\n",
    "\n",
    "class BST(object):\n",
    "  def __init__(self, root):\n",
    "    self.root = Node(root)\n",
    "\n",
    "  def insert(self, new_val):\n",
    "    self.insert_helper(self.root, new_val)\n",
    "\n",
    "  def insert_helper(self, current, new_val):\n",
    "    if current.data < new_val:\n",
    "      if current.right:\n",
    "        self.insert_helper(current.right, new_val)\n",
    "      else:\n",
    "        current.right = Node(new_val)\n",
    "    else:\n",
    "        if current.left:\n",
    "          self.insert_helper(current.left, new_val)\n",
    "        else:\n",
    "          current.left = Node(new_val)\n",
    "\n",
    "  def search(self, find_val):\n",
    "    return self.search_helper(self.root, find_val)\n",
    "\n",
    "  def search_helper(self, current, find_val):\n",
    "    if current:\n",
    "      if current.data == find_val:\n",
    "          return True\n",
    "      elif current.data < find_val:\n",
    "          return self.search_helper(current.right, find_val)\n",
    "      else:\n",
    "          return self.search_helper(current.left, find_val)\n",
    "\n",
    "bst = BST(10)\n",
    "bst.insert(3)\n",
    "bst.insert(1)\n",
    "bst.insert(25)\n",
    "bst.insert(9)\n",
    "bst.insert(13)\n",
    "\n",
    "print(bst.search(9))\n",
    "print(bst.search(14))"
   ]
  },
  {
   "cell_type": "code",
   "execution_count": null,
   "metadata": {},
   "outputs": [],
   "source": []
  }
 ],
 "metadata": {
  "kernelspec": {
   "display_name": "Python 3",
   "language": "python",
   "name": "python3"
  },
  "language_info": {
   "codemirror_mode": {
    "name": "ipython",
    "version": 3
   },
   "file_extension": ".py",
   "mimetype": "text/x-python",
   "name": "python",
   "nbconvert_exporter": "python",
   "pygments_lexer": "ipython3",
   "version": "3.7.7"
  },
  "toc": {
   "base_numbering": 1,
   "nav_menu": {},
   "number_sections": true,
   "sideBar": false,
   "skip_h1_title": false,
   "title_cell": "Table of Contents",
   "title_sidebar": "Contents",
   "toc_cell": true,
   "toc_position": {},
   "toc_section_display": true,
   "toc_window_display": false
  }
 },
 "nbformat": 4,
 "nbformat_minor": 4
}
