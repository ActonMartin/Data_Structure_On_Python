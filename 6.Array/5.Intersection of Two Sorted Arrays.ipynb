{
 "cells": [
  {
   "cell_type": "markdown",
   "metadata": {
    "toc": true
   },
   "source": [
    "<h1>Table of Contents<span class=\"tocSkip\"></span></h1>\n",
    "<div class=\"toc\"><ul class=\"toc-item\"><li><span><a href=\"#Algorithm\" data-toc-modified-id=\"Algorithm-1\"><span class=\"toc-item-num\">1&nbsp;&nbsp;</span>Algorithm</a></span></li><li><span><a href=\"#Implementation\" data-toc-modified-id=\"Implementation-2\"><span class=\"toc-item-num\">2&nbsp;&nbsp;</span>Implementation</a></span></li><li><span><a href=\"#Explanation\" data-toc-modified-id=\"Explanation-3\"><span class=\"toc-item-num\">3&nbsp;&nbsp;</span>Explanation</a></span></li></ul></div>"
   ]
  },
  {
   "cell_type": "markdown",
   "metadata": {},
   "source": [
    "In this lesson, we will be solving the following problem:\n",
    "\n",
    "Given two sorted arrays, A and B, determine their intersection. What elements are common to A and B?\n",
    "\n",
    "![](image/intersection.png)\n",
    "\n",
    "There is a one-line solution to this problem in Python that will also work in the event when the arrays are not sorted."
   ]
  },
  {
   "cell_type": "code",
   "execution_count": 1,
   "metadata": {},
   "outputs": [
    {
     "name": "stdout",
     "output_type": "stream",
     "text": [
      "{3, 7}\n"
     ]
    }
   ],
   "source": [
    "A = [2, 3, 3, 5, 7, 11]\n",
    "B = [3, 3, 7, 15, 31]\n",
    "\n",
    "print(set(A).intersection(B))"
   ]
  },
  {
   "cell_type": "markdown",
   "metadata": {},
   "source": [
    "The set function in Python operates on a list and returns a set object that contains the unique elements of that list. A is converted into a set on line 4 by using set(A). Now there is another built-in function in Python called intersection which operates on sets. In the code above, intersection returns a set which is the intersection of A and B. The method intersection is a member of the Set class, but it can accept lists as arguments too. This solution is fine considering it works on unsorted arrays as well. However, since we are aware that the arrays A and B are sorted, we can use this to our advantage and solve the problem in a way that leverages this and gives us a slightly better runtime.\n",
    "\n",
    "# Algorithm #\n",
    "\n",
    "In the algorithm that we’ll use to solve this problem more efficiently, we will make use of two iterators, i and j, one for each array. If the ith element in array1 is less than the jth element in array2, we increment the ith iterator to increase the value so that we can reach a match with array2. On the other hand, if array1[i] is greater than array2[j], j will be incremented so that we can get a larger value from array2. If both the elements pointed to by the iterators are equal, we have found an intersection and both the iterators are incremented.\n",
    "\n",
    "Additionally, we need to cater for an edge case of duplicates. If an intersection is recorded for some elements, we need to make sure that we don’t count another intersection of their duplicates. In the slides below, this algorithm has been illustrated for you.\n",
    "\n",
    "![](image/intersec1.png)\n",
    "![](image/intersec2.png)\n",
    "![](image/intersec3.png)\n",
    "![](image/intersec4.png)\n",
    "![](image/intersec5.png)\n",
    "![](image/intersec6.png)\n",
    "![](image/intersec7.png)\n",
    "![](image/intersec8.png)\n",
    "![](image/intersec9.png)\n",
    "![](image/intersec10.png)\n",
    "![](image/intersec11.png)\n",
    "![](image/intersec12.png)\n",
    "![](image/intersec13.png)\n",
    "\n",
    "# Implementation #\n",
    "\n",
    "As evident from the slides above, the solution will be complete once any iterator is done traversing its respective array. Now all that is left for us is to code the solution in Python. Let’s go!"
   ]
  },
  {
   "cell_type": "code",
   "execution_count": 2,
   "metadata": {},
   "outputs": [
    {
     "name": "stdout",
     "output_type": "stream",
     "text": [
      "[3, 7]\n"
     ]
    }
   ],
   "source": [
    "def intersect_sorted_array(A, B):\n",
    "    i = 0\n",
    "    j = 0\n",
    "    intersection = []\n",
    "\n",
    "    while i < len(A) and j < len(B):\n",
    "        if A[i] == B[j]:\n",
    "            if i == 0 or A[i] != A[i - 1]:\n",
    "                intersection.append(A[i])\n",
    "            i += 1\n",
    "            j += 1\n",
    "        elif A[i] < B[j]:\n",
    "            i += 1\n",
    "        else:\n",
    "            j += 1\n",
    "    return intersection\n",
    "\n",
    "A = [2, 3, 3, 5, 7, 11]\n",
    "B = [3, 3, 7, 15, 31]\n",
    "\n",
    "print(intersect_sorted_array(A, B))"
   ]
  },
  {
   "cell_type": "markdown",
   "metadata": {},
   "source": [
    "# Explanation #\n",
    "\n",
    "i and j have been set to 0 on lines 2-3. intersection has been initialized to an empty list on line 4. The while loop on line 6 is where the crux of the algorithm lies. The while loop will terminate as soon as i or j becomes equal or greater than the length of the arrays they are iterating on. The conditions from lines 7-15 are reflective of the conditions discussed in the algorithm with some slight variations.\n",
    "\n",
    "One of these conditions is when we check for duplicates using the condition (A[i] != A[i - 1]) on line 8. In that case, we need to handle the code when i equals 0. Therefore, we have an additional check on line 8, i.e., i == 0. Therefore, if i equals 0, there is no need to check for the duplicate condition (A[i] != A[i - 1]) given on line 8. Instead, A[i] is appended to intersection if A[i] equals B[j] and i equals 0.\n",
    "\n",
    "After the while loop terminates, intersection is returned from the function on line 16.\n",
    "\n",
    "I hope you have enjoyed the chapter so far. In the next lesson, we have an interesting challenge waiting for you!\n"
   ]
  }
 ],
 "metadata": {
  "kernelspec": {
   "display_name": "Python 3",
   "language": "python",
   "name": "python3"
  },
  "language_info": {
   "codemirror_mode": {
    "name": "ipython",
    "version": 3
   },
   "file_extension": ".py",
   "mimetype": "text/x-python",
   "name": "python",
   "nbconvert_exporter": "python",
   "pygments_lexer": "ipython3",
   "version": "3.7.4"
  },
  "toc": {
   "base_numbering": 1,
   "nav_menu": {},
   "number_sections": true,
   "sideBar": true,
   "skip_h1_title": false,
   "title_cell": "Table of Contents",
   "title_sidebar": "Contents",
   "toc_cell": true,
   "toc_position": {},
   "toc_section_display": true,
   "toc_window_display": false
  }
 },
 "nbformat": 4,
 "nbformat_minor": 2
}
