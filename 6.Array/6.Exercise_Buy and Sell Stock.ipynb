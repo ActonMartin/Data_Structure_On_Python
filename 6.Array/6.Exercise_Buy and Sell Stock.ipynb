{
 "cells": [
  {
   "cell_type": "markdown",
   "metadata": {
    "toc": true
   },
   "source": [
    "<h1>Table of Contents<span class=\"tocSkip\"></span></h1>\n",
    "<div class=\"toc\"><ul class=\"toc-item\"><li><span><a href=\"#Problem\" data-toc-modified-id=\"Problem-1\"><span class=\"toc-item-num\">1&nbsp;&nbsp;</span>Problem</a></span></li><li><span><a href=\"#Coding-Time!\" data-toc-modified-id=\"Coding-Time!-2\"><span class=\"toc-item-num\">2&nbsp;&nbsp;</span>Coding Time!</a></span></li><li><span><a href=\"#Solution-Review:-Buy-and-Sell-Stock\" data-toc-modified-id=\"Solution-Review:-Buy-and-Sell-Stock-3\"><span class=\"toc-item-num\">3&nbsp;&nbsp;</span>Solution Review: Buy and Sell Stock</a></span></li><li><span><a href=\"#Solution-1:-Brute-Force\" data-toc-modified-id=\"Solution-1:-Brute-Force-4\"><span class=\"toc-item-num\">4&nbsp;&nbsp;</span>Solution 1: Brute Force</a></span><ul class=\"toc-item\"><li><span><a href=\"#Implementation\" data-toc-modified-id=\"Implementation-4.1\"><span class=\"toc-item-num\">4.1&nbsp;&nbsp;</span>Implementation</a></span></li><li><span><a href=\"#Explanation\" data-toc-modified-id=\"Explanation-4.2\"><span class=\"toc-item-num\">4.2&nbsp;&nbsp;</span>Explanation</a></span></li><li><span><a href=\"#Solution-2:-Tracking-Min-Price\" data-toc-modified-id=\"Solution-2:-Tracking-Min-Price-4.3\"><span class=\"toc-item-num\">4.3&nbsp;&nbsp;</span>Solution 2: Tracking Min Price</a></span></li><li><span><a href=\"#Implementation\" data-toc-modified-id=\"Implementation-4.4\"><span class=\"toc-item-num\">4.4&nbsp;&nbsp;</span>Implementation</a></span></li><li><span><a href=\"#Explanation\" data-toc-modified-id=\"Explanation-4.5\"><span class=\"toc-item-num\">4.5&nbsp;&nbsp;</span>Explanation</a></span></li></ul></li></ul></div>"
   ]
  },
  {
   "cell_type": "markdown",
   "metadata": {},
   "source": [
    "# Problem #\n",
    "\n",
    "Given an array of numbers consisting of daily stock prices, calculate the maximum amount of profit that can be made from buying on one day and selling on another.\n",
    "\n",
    "In an array of prices, each index represents a day, and the value on that index represents the price of the stocks on that day.\n",
    "\n",
    "Here is the way to calculate the profit:\n",
    "\n",
    "Profit = Selling Price - Buying Price\n",
    "\n",
    "Note that you need to buy the stocks before you sell them so the day (index) indicating the buying price should be before the day (index) indicating the selling price.\n",
    "\n",
    "Have a look at an example illustrated below:\n",
    "\n",
    "![](image/buysell.png)\n",
    "\n",
    "\n",
    "# Coding Time! #\n",
    "\n",
    "\n",
    "Your task is to return the maximum profit from the function buy_and_sell_stock_once(prices) given in the code widget below. The input parameter prices is the array of integers that​ contains the price of stocks at each day where a day is represented by the index.\n",
    "\n",
    "Good luck!"
   ]
  },
  {
   "cell_type": "code",
   "execution_count": 2,
   "metadata": {},
   "outputs": [],
   "source": [
    "def buy_and_sell_stock_once(prices):\n",
    "  max_profit = 0.0\n",
    "  min_price = float('inf')\n",
    "  for price in prices:\n",
    "    min_price = min(min_price, price)\n",
    "    compare_profit = price - min_price\n",
    "    max_profit = max(max_profit, compare_profit)\n",
    "  return max_profit"
   ]
  },
  {
   "cell_type": "markdown",
   "metadata": {},
   "source": [
    "# Solution Review: Buy and Sell Stock\n",
    "\n",
    "In this lesson, we will review the solution to the problem in the last exercise. Let’s go over the problem statement once again:\n",
    "\n",
    "Given an array of numbers consisting of daily stock prices, calculate the maximum amount of profit that can be made from buying on one day and selling on another day.\n",
    "\n",
    "We consider two approaches to this problem. In the first, we consider a brute force approach that solves the problem in $O(N^2)$, where NN is the size of the array of numbers. We then improve upon this solution to take our solution to a time complexity of O(N).\n",
    "\n",
    "# Solution 1: Brute Force #\n",
    "\n",
    "## Implementation ##"
   ]
  },
  {
   "cell_type": "code",
   "execution_count": 4,
   "metadata": {},
   "outputs": [
    {
     "name": "stdout",
     "output_type": "stream",
     "text": [
      "30\n"
     ]
    }
   ],
   "source": [
    "A = [310, 315, 275, 295, 260, 270, 290, 230, 255, 250]\n",
    "# Time Complexity: O(n^2)\n",
    "# Space Complexity: O(1)\n",
    "def buy_and_sell_once(A):\n",
    "  max_profit = 0\n",
    "  for i in range(len(A)-1):\n",
    "    for j in range(i+1, len(A)):\n",
    "      if A[j] - A[i] > max_profit:\n",
    "          max_profit = A[j] - A[i]\n",
    "  return max_profit\n",
    "\n",
    "print(buy_and_sell_once(A))"
   ]
  },
  {
   "cell_type": "markdown",
   "metadata": {},
   "source": [
    "## Explanation ##\n",
    "\n",
    "his brute force solution is an intuitive approach. We set max_profit equal to 0 on line 5. The for loop on line 6 iterates over every element in A. Now for every element of A, we iterate over all the elements in A which are at a greater position than that element in A using the for loop on line 7. In this way, we calculate all possible profits by selling with all possible prices after we buy the stocks. Now if the calculated profit, i.e., A[j] - A[i] is greater than the max_profit, we update max_profit to its new greater value on line 9. Finally, we return max_profit on line 10 which will be the maximum possible profit that we got by buying stocks on each day and selling them on all possible days after the day we buy them. Therefore, this solution has a time complexity of $O(n^2)$ as we generate all the possible buying and selling combinations using nested for loops. Now we need to think of a better solution. Let’s check out Solution 2.\n",
    "\n",
    "## Solution 2: Tracking Min Price ##\n",
    "In solution 2, for each index, we calculate the most profit we can make by selling at that time. So, for a given day, the maximum profit can be made if the stock were bought at the minimum price on an earlier day. Therefore, we maintain the minimum price seen so far and subtract it from every future price to keep track of the maximum profit.\n",
    "\n",
    "We iterate the array once and keep track of the minimum buying price and the maximum profit. We calculate the profit at each iteration by subtracting the minimum buying price seen so far from the current price in each iteration and updating the maximum profit accordingly.\n",
    "\n",
    "Have a look at the slides below to understand the algorithm:\n",
    "\n",
    "![](image/ss1.png)\n",
    "![](image/ss2.png)\n",
    "![](image/ss3.png)\n",
    "![](image/ss4.png)\n",
    "![](image/ss5.png)\n",
    "![](image/ss6.png)\n",
    "![](image/ss7.png)\n",
    "![](image/ss8.png)\n",
    "![](image/ss9.png)\n",
    "![](image/ss10.png)\n",
    "![](image/ss11.png)\n",
    "![](image/ss12.png)\n",
    "\n",
    "## Implementation ##"
   ]
  },
  {
   "cell_type": "code",
   "execution_count": 5,
   "metadata": {},
   "outputs": [
    {
     "name": "stdout",
     "output_type": "stream",
     "text": [
      "30\n"
     ]
    }
   ],
   "source": [
    "A = [310, 315, 275, 295, 260, 270, 290, 230, 255, 250]\n",
    "\n",
    "# Time Complexity: O(n)\n",
    "# Space Complexity: O(1)\n",
    "def buy_and_sell_once(prices):\n",
    "  max_profit = 0.0\n",
    "  min_price = float('inf')\n",
    "  for price in prices:\n",
    "    min_price = min(min_price, price)\n",
    "    compare_profit = price - min_price\n",
    "    max_profit = max(max_profit, compare_profit)\n",
    "  return max_profit\n",
    "\n",
    "print(buy_and_sell_once(A))"
   ]
  },
  {
   "cell_type": "markdown",
   "metadata": {},
   "source": [
    "## Explanation ##\n",
    "\n",
    "We set max_profit and min_price to 0 and infinity respectively (lines 6-7). The list prices is iterated using a for loop on line 8. As we are supposed to keep track of the minimum price, we update min_price using the min function on line 9 where min_price is the minimum amount between min_price and price of the current iteration. In the next line, we store the calculated profit (price - min_price) in compare_profit. As we also need to keep a check on the max_profit, we update max_profit to the maximum value between max_profit and compare_profit on line 11. After we are done with the iteration of prices, we return max_profit on line 12.\n",
    "\n",
    "I hope everything is clear so far and you were able to enjoy the exciting problems regarding arrays in Python in this chapter.\n",
    "\n",
    "Up next we have Binary Trees. Stay tuned!"
   ]
  },
  {
   "cell_type": "code",
   "execution_count": null,
   "metadata": {},
   "outputs": [],
   "source": []
  }
 ],
 "metadata": {
  "kernelspec": {
   "display_name": "Python 3",
   "language": "python",
   "name": "python3"
  },
  "language_info": {
   "codemirror_mode": {
    "name": "ipython",
    "version": 3
   },
   "file_extension": ".py",
   "mimetype": "text/x-python",
   "name": "python",
   "nbconvert_exporter": "python",
   "pygments_lexer": "ipython3",
   "version": "3.7.4"
  },
  "toc": {
   "base_numbering": 1,
   "nav_menu": {},
   "number_sections": true,
   "sideBar": true,
   "skip_h1_title": false,
   "title_cell": "Table of Contents",
   "title_sidebar": "Contents",
   "toc_cell": true,
   "toc_position": {},
   "toc_section_display": true,
   "toc_window_display": false
  }
 },
 "nbformat": 4,
 "nbformat_minor": 2
}
