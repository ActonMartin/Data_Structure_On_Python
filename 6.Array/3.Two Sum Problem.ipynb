{
 "cells": [
  {
   "cell_type": "markdown",
   "metadata": {
    "toc": true
   },
   "source": [
    "<h1>Table of Contents<span class=\"tocSkip\"></span></h1>\n",
    "<div class=\"toc\"><ul class=\"toc-item\"><li><span><a href=\"#Solution-1\" data-toc-modified-id=\"Solution-1-1\"><span class=\"toc-item-num\">1&nbsp;&nbsp;</span>Solution 1</a></span></li><li><span><a href=\"#Implementation\" data-toc-modified-id=\"Implementation-2\"><span class=\"toc-item-num\">2&nbsp;&nbsp;</span>Implementation</a></span></li><li><span><a href=\"#Explanation\" data-toc-modified-id=\"Explanation-3\"><span class=\"toc-item-num\">3&nbsp;&nbsp;</span>Explanation</a></span></li><li><span><a href=\"#Solution-2\" data-toc-modified-id=\"Solution-2-4\"><span class=\"toc-item-num\">4&nbsp;&nbsp;</span>Solution 2</a></span></li><li><span><a href=\"#Implementation\" data-toc-modified-id=\"Implementation-5\"><span class=\"toc-item-num\">5&nbsp;&nbsp;</span>Implementation</a></span></li><li><span><a href=\"#Explanation\" data-toc-modified-id=\"Explanation-6\"><span class=\"toc-item-num\">6&nbsp;&nbsp;</span>Explanation</a></span></li><li><span><a href=\"#Solution-3\" data-toc-modified-id=\"Solution-3-7\"><span class=\"toc-item-num\">7&nbsp;&nbsp;</span>Solution 3</a></span></li><li><span><a href=\"#Implementation\" data-toc-modified-id=\"Implementation-8\"><span class=\"toc-item-num\">8&nbsp;&nbsp;</span>Implementation</a></span></li><li><span><a href=\"#Explanation\" data-toc-modified-id=\"Explanation-9\"><span class=\"toc-item-num\">9&nbsp;&nbsp;</span>Explanation</a></span></li></ul></div>"
   ]
  },
  {
   "cell_type": "markdown",
   "metadata": {},
   "source": [
    "In this lesson, we are going to be solving the “Two-Sum Problem”. Let’s begin by defining the problem. Given an array of integers, return True or False if the array has two numbers that add up to a specific target. You may assume that each input would have exactly one solution.\n",
    "\n",
    "![](image/sum.png)\n",
    "\n",
    "We investigate three different approaches to solving this problem.\n",
    "\n",
    "# Solution 1 #\n",
    "\n",
    "A brute-force approach that takes $O(n^2)$ time to solve with O(1) space where we loop through the array and create all possible pairings of elements.\n",
    "\n",
    "# Implementation #\n",
    "\n",
    "Have a look at the code below:"
   ]
  },
  {
   "cell_type": "code",
   "execution_count": 9,
   "metadata": {},
   "outputs": [
    {
     "name": "stdout",
     "output_type": "stream",
     "text": [
      "2 11\n",
      "True\n",
      "False\n"
     ]
    }
   ],
   "source": [
    "# Time Complexity: O(n^2)\n",
    "# Space Complexity: O(1)\n",
    "def two_sum_brute_force(A, target):\n",
    "  for i in range(len(A)-1):\n",
    "    for j in range(i+1, len(A)):\n",
    "      if A[i] + A[j] == target:\n",
    "        print(A[i], A[j])\n",
    "        return True\n",
    "  return False\n",
    "\n",
    "A = [-2, 1, 2, 4, 7, 11]\n",
    "target = 13\n",
    "print(two_sum_brute_force(A,target))\n",
    "target = 20\n",
    "print(two_sum_brute_force(A,target))\n"
   ]
  },
  {
   "cell_type": "markdown",
   "metadata": {},
   "source": [
    "# Explanation #\n",
    "\n",
    "The outer loop on line 4 iterates over all the elements in A while the inner loop on line 5 iterates from the next index of i to the last index of A in every iteration of the outer loop. These nested loops help us form all possible pairs of array elements in every iteration. On line 6, we check if the pair A[i] and A[j] add up to the target. If they do, we have found a solution, and we return True on line 8. Otherwise, we move on to the next pair. If we are unable to find a solution after both the loops terminate, we return False on line 9.\n",
    "\n",
    "This solution is highly inefficient as the code has a time complexity of $O(n^2)$ because of the nested loops. Let’s see if we can improve it.\n",
    "\n",
    "# Solution 2 #\n",
    "\n",
    "A slightly better approach time-wise, taking O(n) time, but worse from a space standpoint, with space complexity of O(n). In this approach, we make use of an auxiliary hash table to keep track of whether it’s possible to construct the target based on the elements we’ve processed thus far in the array.\n",
    "\n",
    "# Implementation #"
   ]
  },
  {
   "cell_type": "code",
   "execution_count": 10,
   "metadata": {},
   "outputs": [
    {
     "name": "stdout",
     "output_type": "stream",
     "text": [
      "2 11\n",
      "True\n"
     ]
    }
   ],
   "source": [
    "# Time Complexity: O(n)\n",
    "# Space Complexity: O(n)\n",
    "def two_sum_hash_table(A, target):\n",
    "  ht = dict()\n",
    "  for i in range(len(A)):\n",
    "    if A[i] in ht:\n",
    "      print(ht[A[i]], A[i])\n",
    "      return True\n",
    "    else:\n",
    "      ht[target - A[i]] = A[i]\n",
    "  return False\n",
    "\n",
    "A = [-2, 1, 2, 4, 7, 11]\n",
    "target = 13\n",
    "\n",
    "print(two_sum_hash_table(A,target))"
   ]
  },
  {
   "cell_type": "markdown",
   "metadata": {},
   "source": [
    "# Explanation #\n",
    "\n",
    "In the code above, we use a Python dictionary and name it ht on line 4. On line 5, using a for loop, we iterate over A and check if the element A[i] is present in ht or not (line 6). If it’s not, we calculate target - A[i] and using that as a key, we store A[i] as its value in ht on line 10. Now it is easy for us to check for the next elements if we ever come across an element which is equal to target - A[i]. If A[i] in any iteration is present as a key in ht, the execution jumps to line 7. Note that we have been storing target - A[i] as keys and A[i] as values in the previous iterations. Therefore, if A[i] of the current iteration is present as a key in ht, we have found a pair as the sum of that key and its value will equal target. In this case, we print out the pair and return True (lines 7-8). On the other hand, if we never come across such a pair after all the iterations of the for loop, we return False on line 11.\n",
    "\n",
    "As we iterate the list once, the time complexity for Solution 2 is O(n)O(n) where n is the length of the list, and as we make an entry in the dictionary for every element in the list, the space complexity is also in O(n)O(n)."
   ]
  },
  {
   "cell_type": "markdown",
   "metadata": {},
   "source": [
    "# Solution 3 #\n",
    "\n",
    "This approach has a time complexity of $O(n)$ and a constant space complexity, O(1). Here, we have two indices that we keep track of, one at the front and one at the back. We move either the left or right indices based on whether the sum of the elements at these indices is either greater than or less than the target element.\n",
    "\n",
    "# Implementation #"
   ]
  },
  {
   "cell_type": "code",
   "execution_count": 11,
   "metadata": {},
   "outputs": [
    {
     "name": "stdout",
     "output_type": "stream",
     "text": [
      "2 11\n",
      "True\n"
     ]
    }
   ],
   "source": [
    "# Time Complexity: O(n)\n",
    "# Space Complexity: O(1)\n",
    "def two_sum(A, target):\n",
    "  i = 0\n",
    "  j = len(A) - 1\n",
    "  while i < j:\n",
    "    if A[i] + A[j] == target:\n",
    "      print(A[i], A[j])\n",
    "      return True\n",
    "    elif A[i] + A[j] < target:\n",
    "      i += 1\n",
    "    else:\n",
    "      j -= 1\n",
    "  return False\n",
    "\n",
    "A = [-2, 1, 2, 4, 7, 11]\n",
    "target = 13\n",
    "\n",
    "print(two_sum(A,target))"
   ]
  },
  {
   "cell_type": "markdown",
   "metadata": {},
   "source": [
    "# Explanation #\n",
    "\n",
    "This approach assumes that the array is **sorted**. So i and j are set to 0 and len(A) - 1 respectively (lines 4-5), i.e., the minimum and the maximum value. On line 6, a while loop is set which will run as long as i < j. If at any iteration, A[i] + A[j] equal target, we have found the pairs and we return True from the function after printing the pairs (line 7-9). However, if the sum of A[i] and A[j] is less than target, we increment i by 1 on line 11, so that A[i] will be a greater value in the next iteration and will produce a greater sum than the current sum. On the other hand, if the sum of A[i] and A[j] is greater than target, we decrement j on line 13 to achieve a lesser sum by moving to an index with a smaller value. After the while loop terminates, we return False (line 14) as we never come across a pair which sums to target during the execution of the while loop.\n",
    "\n",
    "There is no extra data structure to store values which implies that the code has a space complexity of O(1) while the time complexity is $O(n)$ as we traverse the entire list A using i and j.\n",
    "\n",
    "All the above solutions are implemented in the code widget below. Test them on your list and target value!"
   ]
  },
  {
   "cell_type": "code",
   "execution_count": 12,
   "metadata": {},
   "outputs": [
    {
     "name": "stdout",
     "output_type": "stream",
     "text": [
      "2 11\n",
      "True\n",
      "2 11\n",
      "True\n",
      "2 11\n",
      "True\n"
     ]
    }
   ],
   "source": [
    "A = [-2, 1, 2, 4, 7, 11]\n",
    "target = 13\n",
    "\n",
    "# Time Complexity: O(n^2)\n",
    "# Space Complexity: O(1)\n",
    "def two_sum_brute_force(A, target):\n",
    "  for i in range(len(A)-1):\n",
    "    for j in range(i+1, len(A)):\n",
    "      if A[i] + A[j] == target:\n",
    "        print(A[i], A[j])\n",
    "        return True\n",
    "  return False\n",
    "\n",
    "\n",
    "# Time Complexity: O(n)\n",
    "# Space Complexity: O(n)\n",
    "def two_sum_hash_table(A, target):\n",
    "  ht = dict()\n",
    "  for i in range(len(A)):\n",
    "    if A[i] in ht:\n",
    "      print(ht[A[i]], A[i])\n",
    "      return True\n",
    "    else:\n",
    "      ht[target - A[i]] = A[i]\n",
    "  return False\n",
    "\n",
    "\n",
    "# Time Complexity: O(n)\n",
    "# Space Complexity: O(1)\n",
    "def two_sum(A, target):\n",
    "  i = 0\n",
    "  j = len(A) - 1\n",
    "  while i < j:\n",
    "    if A[i] + A[j] == target:\n",
    "      print(A[i], A[j])\n",
    "      return True\n",
    "    elif A[i] + A[j] < target:\n",
    "      i += 1\n",
    "    else:\n",
    "      j -= 1\n",
    "  return False\n",
    "\n",
    "\n",
    "print(two_sum_brute_force(A, target))\n",
    "print(two_sum_hash_table(A, target))\n",
    "print(two_sum(A, target))"
   ]
  },
  {
   "cell_type": "code",
   "execution_count": null,
   "metadata": {},
   "outputs": [],
   "source": []
  }
 ],
 "metadata": {
  "kernelspec": {
   "display_name": "Python 3",
   "language": "python",
   "name": "python3"
  },
  "language_info": {
   "codemirror_mode": {
    "name": "ipython",
    "version": 3
   },
   "file_extension": ".py",
   "mimetype": "text/x-python",
   "name": "python",
   "nbconvert_exporter": "python",
   "pygments_lexer": "ipython3",
   "version": "3.7.4"
  },
  "toc": {
   "base_numbering": 1,
   "nav_menu": {},
   "number_sections": true,
   "sideBar": true,
   "skip_h1_title": false,
   "title_cell": "Table of Contents",
   "title_sidebar": "Contents",
   "toc_cell": true,
   "toc_position": {},
   "toc_section_display": true,
   "toc_window_display": false
  }
 },
 "nbformat": 4,
 "nbformat_minor": 2
}
