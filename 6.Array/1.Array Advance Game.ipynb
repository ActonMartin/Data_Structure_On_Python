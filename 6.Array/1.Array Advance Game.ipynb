{
 "cells": [
  {
   "cell_type": "markdown",
   "metadata": {
    "toc": true
   },
   "source": [
    "<h1>Table of Contents<span class=\"tocSkip\"></span></h1>\n",
    "<div class=\"toc\"><ul class=\"toc-item\"><li><span><a href=\"#Problem\" data-toc-modified-id=\"Problem-1\"><span class=\"toc-item-num\">1&nbsp;&nbsp;</span>Problem</a></span></li><li><span><a href=\"#Algorithm\" data-toc-modified-id=\"Algorithm-2\"><span class=\"toc-item-num\">2&nbsp;&nbsp;</span>Algorithm</a></span><ul class=\"toc-item\"><li><span><a href=\"#Greedy-Approach\" data-toc-modified-id=\"Greedy-Approach-2.1\"><span class=\"toc-item-num\">2.1&nbsp;&nbsp;</span>Greedy Approach</a></span></li></ul></li><li><span><a href=\"#Implementation\" data-toc-modified-id=\"Implementation-3\"><span class=\"toc-item-num\">3&nbsp;&nbsp;</span>Implementation</a></span></li><li><span><a href=\"#Explanation\" data-toc-modified-id=\"Explanation-4\"><span class=\"toc-item-num\">4&nbsp;&nbsp;</span>Explanation</a></span></li></ul></div>"
   ]
  },
  {
   "cell_type": "markdown",
   "metadata": {},
   "source": [
    "In this lesson, we will be considering the “array advance game”. In this game, you are given an array of non-negative integers. For example:\n",
    "\n",
    "[3,3,1,0,2,0,1]\n",
    "\n",
    "Each number in the array represents the maximum you can advance in the array.\n",
    "\n",
    "# Problem #\n",
    "Now the problem is as follows:\n",
    "\n",
    "Is it possible to advance from the start of the array to the last element given that the maximum you can advance from a position is based on the value of the array at the index you are currently present on?\n",
    "\n",
    "We will cover how to solve this problem algorithmically, and then code up a solution to this problem in Python.\n",
    "\n",
    "Let’s start with a simple example. Refer to the slides below:\n",
    "\n",
    "![](image/array1.png)\n",
    "![](image/array2.png)\n",
    "![](image/array3.png)\n",
    "![](image/array4.png)\n",
    "![](image/array5.png)\n",
    "\n",
    "In the example above, we have successfully reached the end of the array. Let’s look at a case that is **unwinnable** where we can’t reach the end of the array.\n",
    "\n",
    "![](image/unwin1.png)\n",
    "![](image/unwin2.png)\n",
    "![](image/unwin3.png)\n",
    "![](image/unwin4.png)\n",
    "![](image/unwin5.png)\n",
    "![](image/unwin6.png)\n",
    "![](image/unwin7.png)\n",
    "![](image/unwin8.png)\n",
    "![](image/unwin9.png)\n",
    "\n",
    "# Algorithm #\n",
    "\n",
    "I hope you are clear about the game and the problem statement at this point. We have to figure out the best way to advance in the array so that we reach the last index.\n",
    "\n",
    "## Greedy Approach ##\n",
    "\n",
    "Let’s try the greedy approach in which we always advance the maximum we can at every index.\n",
    "\n",
    "The example below illustrates the greedy approach.\n",
    "\n",
    "![](image/greed1.png)\n",
    "![](image/greed2.png)\n",
    "![](image/greed3.png)\n",
    "![](image/greed4.png)\n",
    "![](image/greed5.png)\n",
    "![](image/greed6.png)\n",
    "\n",
    "The example above perfectly illustrates that the greedy approach doesn’t work. However, the array is not unwinnable. Have a look at the slides below:\n",
    "\n",
    "![](image/non_greed1.png)\n",
    "![](image/non_greed2.png)\n",
    "![](image/non_greed3.png)\n",
    "![](image/non_greed4.png)\n",
    "![](image/non_greed5.png)\n",
    "\n",
    "As you can see, the greedy algorithm doesn’t work for this solution. Let’s look at the algorithm which will solve the problem:\n",
    "\n",
    "Iterate through each entry in an array, A.\n",
    "\n",
    "Track the furthest we can reach from entry (A[i] + i)\n",
    "\n",
    "If for some i, we don’t reach the end and that is the furthest we can reach, then we can’t reach the last index. Otherwise, the end is reached.\n",
    "\n",
    "i: index processed. Furthest possible to advance from i: A[i] + i\n",
    "\n",
    "The example below will run through each step of the algorithm stated below:\n",
    "\n",
    "![](image/state1.png)\n",
    "![](image/state2.png)\n",
    "![](image/state3.png)\n",
    "![](image/state4.png)\n",
    "![](image/state5.png)\n",
    "![](image/state6.png)\n",
    "![](image/state7.png)\n",
    "\n",
    "The above example was of a win situation. Let’s see how our algorithm works for arrays which are not winnable.\n",
    "\n",
    "![](image/work1.png)\n",
    "![](image/work2.png)\n",
    "![](image/work3.png)\n",
    "![](image/work4.png)\n",
    "![](image/work5.png)\n",
    "![](image/work6.png)\n",
    "\n",
    "# Implementation #\n",
    "\n",
    "Hopefully, by now, you will clearly understand the algorithm. Let’s jump to the implementation in Python, which will be easier to understand once you get the algorithm:"
   ]
  },
  {
   "cell_type": "code",
   "execution_count": 1,
   "metadata": {},
   "outputs": [
    {
     "name": "stdout",
     "output_type": "stream",
     "text": [
      "True\n",
      "False\n"
     ]
    }
   ],
   "source": [
    "def array_advance(A):\n",
    "    furthest_reached = 0\n",
    "    last_idx = len(A) - 1\n",
    "    i = 0\n",
    "    while i <= furthest_reached and furthest_reached < last_idx:\n",
    "        furthest_reached = max(furthest_reached, A[i] + i)\n",
    "        i += 1\n",
    "    return furthest_reached >= last_idx\n",
    "\n",
    "\n",
    "# True: Possible to navigate to last index in A:\n",
    "# Moves: 1,3,2\n",
    "A = [3, 3, 1, 0, 2, 0, 1]\n",
    "print(array_advance(A))\n",
    "\n",
    "# False: Not possible to navigate to last index in A:\n",
    "A = [3, 2, 0, 0, 2, 0, 1]\n",
    "print(array_advance(A))"
   ]
  },
  {
   "cell_type": "markdown",
   "metadata": {},
   "source": [
    "# Explanation #\n",
    "\n",
    "furthest_reached and i are initialized to 0 on line 2 and line 4 respectively. We calculate last_idx on line 3 by subtracting 1 from the length of the array. Next, we proceed to a while loop which terminates on the following conditions:\n",
    "\n",
    "i > furthest_reached: This implies that the end is not reachable.\n",
    "\n",
    "furthest_reached >= last_idx : This implies that the end is reachable.\n",
    "\n",
    "In each iteration of the while loop, we update furthest_reached to the maximum of furthest_reached and (A[i] + i) on line 6. i increments by 1 in the next line.\n",
    "\n",
    "After the while loop terminates, we’ll check for the condition which terminates the while loop. If furthest_reached >= last_idx, then True is returned from the function. Otherwise, False is returned.\n",
    "\n",
    "In the next lesson, we’ll study another interesting and challenging problem. Stay tuned!"
   ]
  },
  {
   "cell_type": "code",
   "execution_count": null,
   "metadata": {},
   "outputs": [],
   "source": []
  }
 ],
 "metadata": {
  "kernelspec": {
   "display_name": "Python 3",
   "language": "python",
   "name": "python3"
  },
  "language_info": {
   "codemirror_mode": {
    "name": "ipython",
    "version": 3
   },
   "file_extension": ".py",
   "mimetype": "text/x-python",
   "name": "python",
   "nbconvert_exporter": "python",
   "pygments_lexer": "ipython3",
   "version": "3.7.4"
  },
  "toc": {
   "base_numbering": 1,
   "nav_menu": {},
   "number_sections": true,
   "sideBar": true,
   "skip_h1_title": false,
   "title_cell": "Table of Contents",
   "title_sidebar": "Contents",
   "toc_cell": true,
   "toc_position": {},
   "toc_section_display": true,
   "toc_window_display": false
  }
 },
 "nbformat": 4,
 "nbformat_minor": 2
}
