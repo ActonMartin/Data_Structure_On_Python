{
 "cells": [
  {
   "cell_type": "markdown",
   "metadata": {
    "toc": true
   },
   "source": [
    "<h1>Table of Contents<span class=\"tocSkip\"></span></h1>\n",
    "<div class=\"toc\"><ul class=\"toc-item\"><li><span><a href=\"#Implementation\" data-toc-modified-id=\"Implementation-1\"><span class=\"toc-item-num\">1&nbsp;&nbsp;</span>Implementation</a></span></li><li><span><a href=\"#Explanation\" data-toc-modified-id=\"Explanation-2\"><span class=\"toc-item-num\">2&nbsp;&nbsp;</span>Explanation</a></span></li></ul></div>"
   ]
  },
  {
   "cell_type": "markdown",
   "metadata": {},
   "source": [
    "In this lesson, we will be solving the following problem:\n",
    "\n",
    "Assign tasks to workers so that the time it takes to complete all the tasks is minimized given a count of workers and an array where each element indicates the duration of a task.\n",
    "\n",
    "We wish to determine the optimal way in which to assign tasks to some workers. Each worker must work on exactly two tasks. Tasks are independent of each other, and each task takes a certain amount of time.\n",
    "\n",
    "In the slides below, we have been given an array of tasks where the value of each element in the array corresponds to the number of hours required for each task.\n",
    "\n",
    "Check out the slides below where an example of assigning tasks optimally to workers has been illustrated:\n",
    "\n",
    "![](image/optimal1.png)\n",
    "![](image/optimal2.png)\n",
    "![](image/optimal3.png)\n",
    "![](image/optimal4.png)\n",
    "![](image/optimal5.png)\n"
   ]
  },
  {
   "cell_type": "markdown",
   "metadata": {},
   "source": [
    "Now let’s think of a general approach. From the above example, we know that we have to make pairs. If we generate all possible pairs, it would not be efficient as enumerating every possible pair would require generating $n(n -1)/2$ pairs where nn is the number of tasks in the given array.\n",
    "\n",
    "Therefore, we are going to make use of a different approach, i.e., the greedy approach.\n",
    "\n",
    "In the greedy approach, we’ll focus on the following rule:\n",
    "\n",
    "Pair the longest task with the shortest one.\n",
    "\n",
    "Let’s find out how to do this in the slides below."
   ]
  },
  {
   "cell_type": "markdown",
   "metadata": {},
   "source": [
    "![](image/slide1.png)\n",
    "![](image/slide2.png)\n",
    "![](image/slide3.png)\n",
    "![](image/slide4.png)\n",
    "![](image/slide5.png)\n",
    "\n",
    "The time complexity for the algorithm depicted in the slides above will $O(nlogn)$ due to sorting."
   ]
  },
  {
   "cell_type": "markdown",
   "metadata": {},
   "source": [
    "# Implementation #\n",
    "\n",
    "Now that you are familiar with the algorithm, let’s jump to the code in Python:"
   ]
  },
  {
   "cell_type": "code",
   "execution_count": 1,
   "metadata": {},
   "outputs": [
    {
     "name": "stdout",
     "output_type": "stream",
     "text": [
      "2 7\n",
      "3 6\n",
      "5 5\n"
     ]
    }
   ],
   "source": [
    "A = [6, 3, 2, 7, 5, 5]\n",
    "\n",
    "A = sorted(A)\n",
    "\n",
    "for i in range(len(A)//2):\n",
    "    print(A[i], A[~i])"
   ]
  },
  {
   "cell_type": "markdown",
   "metadata": {},
   "source": [
    "# Explanation #\n",
    "\n",
    "Yes, the implementation was that simple! After sorting the array using sorted on line 3, the for loop on line 5 iterates for half the length of the array and prints out the pairs using indexing. So ~i on line 6 is the bitwise complement operator which puts a negative sign in front of i. Thus, the negative numbers as indexes mean that you count from the right of the array instead of the left. So, A[-1] refers to the last element, A[-2] is the second-last, and so on. In this way, we are able to pair the numbers from the beginning of the array to the end of the array.\n",
    "\n",
    "That pretty much does it for this lesson! I hope everything’s clear so far. In the next lesson, we’ll have a look at a problem involving sorted arrays. See you there!"
   ]
  },
  {
   "cell_type": "code",
   "execution_count": null,
   "metadata": {},
   "outputs": [],
   "source": []
  }
 ],
 "metadata": {
  "kernelspec": {
   "display_name": "Python 3",
   "language": "python",
   "name": "python3"
  },
  "language_info": {
   "codemirror_mode": {
    "name": "ipython",
    "version": 3
   },
   "file_extension": ".py",
   "mimetype": "text/x-python",
   "name": "python",
   "nbconvert_exporter": "python",
   "pygments_lexer": "ipython3",
   "version": "3.7.4"
  },
  "toc": {
   "base_numbering": 1,
   "nav_menu": {},
   "number_sections": true,
   "sideBar": true,
   "skip_h1_title": false,
   "title_cell": "Table of Contents",
   "title_sidebar": "Contents",
   "toc_cell": true,
   "toc_position": {},
   "toc_section_display": true,
   "toc_window_display": false
  }
 },
 "nbformat": 4,
 "nbformat_minor": 2
}
