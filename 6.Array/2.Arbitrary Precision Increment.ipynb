{
 "cells": [
  {
   "cell_type": "markdown",
   "metadata": {
    "toc": true
   },
   "source": [
    "<h1>Table of Contents<span class=\"tocSkip\"></span></h1>\n",
    "<div class=\"toc\"><ul class=\"toc-item\"><li><span><a href=\"#Algorithm\" data-toc-modified-id=\"Algorithm-1\"><span class=\"toc-item-num\">1&nbsp;&nbsp;</span>Algorithm</a></span><ul class=\"toc-item\"><li><span><a href=\"#example1\" data-toc-modified-id=\"example1-1.1\"><span class=\"toc-item-num\">1.1&nbsp;&nbsp;</span>example1</a></span></li><li><span><a href=\"#example2\" data-toc-modified-id=\"example2-1.2\"><span class=\"toc-item-num\">1.2&nbsp;&nbsp;</span>example2</a></span></li></ul></li><li><span><a href=\"#Implementation\" data-toc-modified-id=\"Implementation-2\"><span class=\"toc-item-num\">2&nbsp;&nbsp;</span>Implementation</a></span></li><li><span><a href=\"#Explanation\" data-toc-modified-id=\"Explanation-3\"><span class=\"toc-item-num\">3&nbsp;&nbsp;</span>Explanation</a></span></li></ul></div>"
   ]
  },
  {
   "cell_type": "markdown",
   "metadata": {},
   "source": [
    "In this lesson, we will be considering the following:\n",
    "\n",
    "Given: An array of non-negative digits that represent a decimal integer.\n",
    "\n",
    "Problem: Add one to the integer. Assume the solution still works even if implemented in a language with finite-precision arithmetic.\n",
    "\n",
    "We will cover how to solve this problem algorithmically, and then code a solution to this question in Python.\n",
    "\n",
    "![](image/arbitrary.png)\n",
    "# Algorithm #\n",
    "\n",
    "1.For an array A,\n",
    "\n",
    "2.Propagate carry throughout the array.\n",
    "\n",
    "This will be similar to the “standard grade school” approach.\n",
    "## example1 ##\n",
    "![](image/arbitrary1.png)\n",
    "![](image/arbitrary2.png)\n",
    "![](image/arbitrary3.png)\n",
    "![](image/arbitrary4.png)\n",
    "![](image/arbitrary5.png)\n",
    "![](image/arbitrary6.png)\n",
    "\n",
    "## example2 ##\n",
    "![](image/ar_example1.png)\n",
    "![](image/ar_example2.png)\n",
    "![](image/ar_example3.png)\n",
    "![](image/ar_example4.png)\n",
    "![](image/ar_example5.png)\n",
    "![](image/ar_example6.png)\n",
    "\n",
    "# Implementation #\n",
    "\n",
    "In Python, you can solve the problem with just one line.\n"
   ]
  },
  {
   "cell_type": "code",
   "execution_count": 7,
   "metadata": {},
   "outputs": [
    {
     "name": "stdout",
     "output_type": "stream",
     "text": [
      "<map object at 0x000002A1F9651308> <class 'map'>\n",
      "[1, 4, 9] <class 'list'>\n",
      "149 <class 'str'>\n",
      "150\n"
     ]
    }
   ],
   "source": [
    "A = [1, 4, 9]\n",
    "s = ''.join(map(str, A))\n",
    "print(map(str, A), type(map(str, A)))\n",
    "print(A, type(A))\n",
    "print(s, type(s))\n",
    "print(int(s) + 1)"
   ]
  },
  {
   "cell_type": "markdown",
   "metadata": {},
   "source": [
    "# Explanation #\n",
    "\n",
    "On line 2, the map function returns a list after converting every element of A into a string. The join function joins the elements of that list and returns a string in which the string elements of the sequence have been joined by a string separator (''). All that is left for us to do is to convert s to an integer type and add 1 to it. This solution is relatively simple, but you will not be asked for it in an interview.\n",
    "\n",
    "Let’s implement the algorithm that we discussed in the slides."
   ]
  },
  {
   "cell_type": "code",
   "execution_count": 13,
   "metadata": {},
   "outputs": [
    {
     "name": "stdout",
     "output_type": "stream",
     "text": [
      "[1, 5, 0]\n",
      "[1, 0, 0, 0]\n"
     ]
    }
   ],
   "source": [
    "A1 = [1, 4, 9]\n",
    "A2 = [9, 9, 9]\n",
    "\n",
    "# s = ''.join(map(str, A))\n",
    "# print(int(s) + 1)\n",
    "\n",
    "\n",
    "def plus_one(A):\n",
    "    A[-1] += 1\n",
    "    for i in reversed(range(1, len(A))):\n",
    "        if A[i] != 10:\n",
    "            break\n",
    "        A[i] = 0\n",
    "        A[i-1] += 1\n",
    "    if A[0] == 10:\n",
    "        A[0] = 1\n",
    "        A.append(0)\n",
    "    return A\n",
    "\n",
    "\n",
    "print(plus_one(A1))\n",
    "print(plus_one(A2))"
   ]
  },
  {
   "cell_type": "markdown",
   "metadata": {},
   "source": [
    "On line 9, we add 1 to the last element of the list A. Now we have to handle the carry as a result of this addition. Therefore, using a for loop on line 10, we iterate the list from the last index to the index 1 through the reversed function. Next, on line 11, we check if we get 10 as a result of adding 1. If not, then the carry from the addition is 0, and we break the loop on line 12. However, if A[i] is 10 then we put 0 in its place and add 1 to the preceding index on lines 13-14. This is repeated for every position in the list from the last index to index 1.\n",
    "\n",
    "Now, we need to handle one other edge case, i.e., the value at the first index is 10. If A[0] is 10, we set A[0] to 1 and append 0 to the list on lines 16-17. A is finally returned from the function on line 18 after being incremented by 1.\n",
    "\n",
    "Hope the above solution was easy to understand! Let’s look at another problem regarding arrays in the next lesson.\n",
    "\n",
    "Mark as Completed\n",
    "←    Back"
   ]
  },
  {
   "cell_type": "code",
   "execution_count": null,
   "metadata": {},
   "outputs": [],
   "source": []
  }
 ],
 "metadata": {
  "kernelspec": {
   "display_name": "Python 3",
   "language": "python",
   "name": "python3"
  },
  "language_info": {
   "codemirror_mode": {
    "name": "ipython",
    "version": 3
   },
   "file_extension": ".py",
   "mimetype": "text/x-python",
   "name": "python",
   "nbconvert_exporter": "python",
   "pygments_lexer": "ipython3",
   "version": "3.7.4"
  },
  "toc": {
   "base_numbering": 1,
   "nav_menu": {},
   "number_sections": true,
   "sideBar": true,
   "skip_h1_title": false,
   "title_cell": "Table of Contents",
   "title_sidebar": "Contents",
   "toc_cell": true,
   "toc_position": {},
   "toc_section_display": true,
   "toc_window_display": false
  }
 },
 "nbformat": 4,
 "nbformat_minor": 2
}
