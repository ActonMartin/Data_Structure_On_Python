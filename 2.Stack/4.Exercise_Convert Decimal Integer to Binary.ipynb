{
 "cells": [
  {
   "cell_type": "markdown",
   "metadata": {},
   "source": [
    "Challenge yourself to solve the problem in this lesson!\n",
    "In this coding exercise, you are required to use the stack data structure to convert integer values to their binary equivalent."
   ]
  },
  {
   "cell_type": "markdown",
   "metadata": {},
   "source": [
    "# Division by 2 Method #\n",
    "The slides below show how to use the division by 2 method to compute the binary equivalent for an integer.\n",
    "\n",
    "![image.png](photo_lib/test1.png)\n",
    "![image.png](photo_lib/test2.png)\n",
    "![image.png](photo_lib/test3.png)\n",
    "![image.png](photo_lib/test4.png)\n",
    "![image.png](photo_lib/test5.png)\n",
    "![image.png](photo_lib/test6.png)\n",
    "![image.png](photo_lib/test7.png)\n",
    "![image.png](photo_lib/test8.png)\n",
    "![image.png](photo_lib/test9.png)\n",
    "![image.png](photo_lib/test10.png)\n"
   ]
  },
  {
   "cell_type": "markdown",
   "metadata": {},
   "source": [
    "# Coding Time! #\n",
    "You can build your solution based on division by 2 method. Your solution should return the correct binary equivalent of dec_num as a string from the convert_int_to_bin(dec_num) in order to pass the tests.\n",
    "\n",
    "Make sure that you use stack while solving this challenge. The stack.py has been imported to the code. You can make use of the implementation while coding your solution. Remove the pass statement if you start implementing your solution.\n",
    "\n",
    "Good luck!"
   ]
  },
  {
   "cell_type": "code",
   "execution_count": 5,
   "metadata": {},
   "outputs": [
    {
     "name": "stdout",
     "output_type": "stream",
     "text": [
      "1001001\n",
      "10\n"
     ]
    }
   ],
   "source": [
    "class Stack():\n",
    "    def __init__(self):\n",
    "        self.items = []\n",
    "\n",
    "    def push(self, item):\n",
    "        self.items.append(item)\t\t\t\t\n",
    "\n",
    "    def pop(self):\n",
    "        return self.items.pop()\n",
    "    \n",
    "    def is_empty(self):\n",
    "        return self.items == []\n",
    "    \n",
    "    def peek(self):\n",
    "        if not self.is_empty():\n",
    "            return self.items[-1]\n",
    "        \n",
    "    def get_stack(self):\n",
    "        return self.items\n",
    "\n",
    "\n",
    "#from stack import Stack\n",
    "\n",
    "def convert_int_to_bin(dec_num):\n",
    "    s = Stack()\n",
    "\n",
    "    while dec_num > 0:\n",
    "      reminder = dec_num % 2\n",
    "      s.push(reminder)\n",
    "      dec_num = dec_num // 2\n",
    "\n",
    "    bin_num = \"\"\n",
    "    while not s.is_empty():\n",
    "      bin_num += str(s.pop())\n",
    "\n",
    "    return bin_num\n",
    "\n",
    "#测试开始\n",
    "print(convert_int_to_bin(73))\n",
    "print(convert_int_to_bin(2))"
   ]
  },
  {
   "cell_type": "code",
   "execution_count": null,
   "metadata": {},
   "outputs": [],
   "source": []
  }
 ],
 "metadata": {
  "kernelspec": {
   "display_name": "Python 3",
   "language": "python",
   "name": "python3"
  },
  "language_info": {
   "codemirror_mode": {
    "name": "ipython",
    "version": 3
   },
   "file_extension": ".py",
   "mimetype": "text/x-python",
   "name": "python",
   "nbconvert_exporter": "python",
   "pygments_lexer": "ipython3",
   "version": "3.7.4"
  },
  "toc": {
   "base_numbering": 1,
   "nav_menu": {},
   "number_sections": true,
   "sideBar": true,
   "skip_h1_title": false,
   "title_cell": "Table of Contents",
   "title_sidebar": "Contents",
   "toc_cell": false,
   "toc_position": {},
   "toc_section_display": true,
   "toc_window_display": true
  }
 },
 "nbformat": 4,
 "nbformat_minor": 2
}
