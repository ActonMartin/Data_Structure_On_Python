{
 "cells": [
  {
   "cell_type": "markdown",
   "metadata": {},
   "source": [
    "This lesson teaches us how to reverse a string using a stack in Python."
   ]
  },
  {
   "cell_type": "markdown",
   "metadata": {},
   "source": [
    "In Python, you can reverse a string very easily. For example,"
   ]
  },
  {
   "cell_type": "code",
   "execution_count": 1,
   "metadata": {},
   "outputs": [
    {
     "name": "stdout",
     "output_type": "stream",
     "text": [
      "evitacudE\n"
     ]
    }
   ],
   "source": [
    "input_str = \"Educative\"\n",
    "print(input_str[::-1])"
   ]
  },
  {
   "cell_type": "markdown",
   "metadata": {},
   "source": [
    "However, if you are required to reverse a string using a stack, you can make use of the following algorithm illustrated in the slides below:\n",
    "# Algorithm #\n",
    "\n",
    "![image.png](photo_lib/reverse1.png)\n",
    "![image.png](photo_lib/reverse2.png)\n",
    "![image.png](photo_lib/reverse3.png)\n",
    "![image.png](photo_lib/reverse4.png)\n",
    "![image.png](photo_lib/reverse5.png)\n",
    "![image.png](photo_lib/reverse6.png)\n",
    "![image.png](photo_lib/reverse7.png)\n",
    "![image.png](photo_lib/reverse8.png)\n",
    "![image.png](photo_lib/reverse9.png)\n",
    "![image.png](photo_lib/reverse10.png)\n",
    "![image.png](photo_lib/reverse11.png)\n",
    "![image.png](photo_lib/reverse12.png)\n",
    "\n",
    "Isn’t the algorithm pretty straightforward? We push all the characters of the string onto the stack, and due to the First-In, Last-Out property of stack, we get all the characters in reverse order when we pop them off the stack.\n",
    "\n",
    "Now all that is left for us is to code the algorithm shown above. Let’s do it!\n",
    "\n",
    "The stack implementation from the first lesson of this chapter has been provided to you in the file stack.py. Check out the code below and feel free to play around with it:"
   ]
  },
  {
   "cell_type": "markdown",
   "metadata": {},
   "source": [
    "# Implementation #"
   ]
  },
  {
   "cell_type": "code",
   "execution_count": 3,
   "metadata": {},
   "outputs": [
    {
     "name": "stdout",
     "output_type": "stream",
     "text": [
      "Welcome to Educative!\n"
     ]
    }
   ],
   "source": [
    "class Stack():\n",
    "    def __init__(self):\n",
    "        self.items = []\n",
    "\n",
    "    def push(self, item):\n",
    "        self.items.append(item)\n",
    "\n",
    "    def pop(self):\n",
    "        return self.items.pop()\n",
    "    \n",
    "    def is_empty(self):\n",
    "        return self.items == []\n",
    "    \n",
    "    def peek(self):\n",
    "        if not self.is_empty():\n",
    "            return self.items[-1]\n",
    "        \n",
    "    def get_stack(self):\n",
    "        return self.items\n",
    "    \n",
    "    \n",
    "#from stack import Stack\n",
    "def reverse_string(stack, input_str):\n",
    "  for i in range(len(input_str)):\n",
    "    stack.push(input_str[i])\n",
    "  rev_str = \"\"\n",
    "  while not stack.is_empty():\n",
    "    rev_str += stack.pop()\n",
    "\n",
    "  return rev_str\n",
    "\n",
    "stack = Stack()\n",
    "input_str = \"!evitacudE ot emocleW\"\n",
    "print(reverse_string(stack, input_str))"
   ]
  },
  {
   "cell_type": "markdown",
   "metadata": {},
   "source": [
    "# Explanation #\n",
    "\n",
    "Let’s discuss the reverse_string function in the code above. The for loop on line 3 iterates over input_str and pushes each character on to stack. Then we initialize rev_str as an empty string. We pop off all the elements from the stack and append them to rev_str one by one on line 7 until the stack becomes empty and terminates the while loop on line 6. We return the rev_str on line 9.\n",
    "\n",
    "Easy, right? You can test your understanding and skills in the exercise in the next lesson."
   ]
  }
 ],
 "metadata": {
  "kernelspec": {
   "display_name": "Python 3",
   "language": "python",
   "name": "python3"
  },
  "language_info": {
   "codemirror_mode": {
    "name": "ipython",
    "version": 3
   },
   "file_extension": ".py",
   "mimetype": "text/x-python",
   "name": "python",
   "nbconvert_exporter": "python",
   "pygments_lexer": "ipython3",
   "version": "3.7.4"
  },
  "toc": {
   "base_numbering": 1,
   "nav_menu": {},
   "number_sections": true,
   "sideBar": true,
   "skip_h1_title": false,
   "title_cell": "Table of Contents",
   "title_sidebar": "Contents",
   "toc_cell": false,
   "toc_position": {},
   "toc_section_display": true,
   "toc_window_display": true
  }
 },
 "nbformat": 4,
 "nbformat_minor": 2
}
