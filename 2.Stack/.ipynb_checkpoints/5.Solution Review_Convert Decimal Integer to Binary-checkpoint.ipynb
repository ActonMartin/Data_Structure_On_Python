{
 "cells": [
  {
   "cell_type": "markdown",
   "metadata": {},
   "source": [
    "This lesson contains the solution review for the challenge of converting integer values to their binary equivalents.\n",
    "Let’s analyze the solution to the exercise in the previous lesson.\n",
    "# Implementation #"
   ]
  },
  {
   "cell_type": "code",
   "execution_count": 2,
   "metadata": {},
   "outputs": [
    {
     "name": "stdout",
     "output_type": "stream",
     "text": [
      "111000\n",
      "10\n",
      "100000\n",
      "1010\n",
      "True\n",
      "57\n"
     ]
    }
   ],
   "source": [
    "class Stack():\n",
    "    def __init__(self):\n",
    "        self.items = []\n",
    "\n",
    "    def push(self, item):\n",
    "        self.items.append(item)\t\t\t\t\n",
    "\n",
    "    def pop(self):\n",
    "        return self.items.pop()\n",
    "    \n",
    "    def is_empty(self):\n",
    "        return self.items == []\n",
    "    \n",
    "    def peek(self):\n",
    "        if not self.is_empty():\n",
    "            return self.items[-1]\n",
    "        \n",
    "    def get_stack(self):\n",
    "        return self.items\n",
    "    \n",
    "    \n",
    "def convert_int_to_bin(dec_num):\n",
    "    s = Stack()\n",
    "\n",
    "    while dec_num > 0:\n",
    "        remainder = dec_num % 2\n",
    "        s.push(remainder)\n",
    "        dec_num = dec_num // 2\n",
    "\n",
    "    bin_num = \"\"\n",
    "    while not s.is_empty():\n",
    "        bin_num += str(s.pop())\n",
    "\n",
    "    return bin_num\n",
    "\n",
    "print(convert_int_to_bin(56))\n",
    "print(convert_int_to_bin(2))\n",
    "print(convert_int_to_bin(32))\n",
    "print(convert_int_to_bin(10))\n",
    "\n",
    "print(int(convert_int_to_bin(56),2)==56)\n",
    "print(int('111001',2))"
   ]
  },
  {
   "cell_type": "markdown",
   "metadata": {},
   "source": [
    "# Explanation #\n",
    "\n",
    "On line 2, we declare a stack and proceed to a while loop on line 4 which executes if dec_num is greater than 0.\n",
    "\n",
    "As stated in the division by 2 method, we calculate the remainder of the division of dec_num by 2 and push it onto the stack (lines 5-6). Then we divide dec_num by 2 using the // operator to dec_num which floors the answer of the division, and we update dec_num with the answer (line 7). We keep executing the code on lines 5-7 as long as dec-num is greater than 0. As soon as dec_num becomes equal to or less than 0, the while loop terminates.\n",
    "\n",
    "On line 9, bin_num is declared as an empty string. The while loop on the very next line executes if the stack s is not empty. If s is not empty, we pop a value from s and append it to the bin_num string on line 11. We keep popping elements from s until it becomes empty and the while loop is terminated.\n",
    "\n",
    "The bin_num is returned from the function on line 13.\n",
    "\n",
    "The following code helps us to evaluate whether our implementation is correct or not:"
   ]
  },
  {
   "cell_type": "code",
   "execution_count": 3,
   "metadata": {},
   "outputs": [
    {
     "name": "stdout",
     "output_type": "stream",
     "text": [
      "True\n"
     ]
    }
   ],
   "source": [
    "print(int(convert_int_to_bin(56),2)==56)"
   ]
  },
  {
   "cell_type": "markdown",
   "metadata": {},
   "source": [
    "The above statement will print True if convert_int_to_bin(56) returns the correct binary equivalent for 56. We convert the returned value from convert_int_to_bin(56) to an integer value by specifying base 2 of the returned value. It will convert to 56 if it’s equal to 56 in binary format. Otherwise, the statement will print False if we get some number other than 56.\n",
    "\n",
    "In this problem, the First-In, Last-Out property of the stack has enabled us to store the binary bits from the MSB (Most Significant Bit) to the LSB (Least Significant Bit), although we get the values in reverse order by the division by 2 method.\n",
    "\n",
    "Below are some slides that will help you understand the code even better:"
   ]
  },
  {
   "cell_type": "markdown",
   "metadata": {},
   "source": [
    "![image.png](photo_lib/trans1.png)\n",
    "![image.png](photo_lib/trans2.png)\n",
    "![image.png](photo_lib/trans3.png)\n",
    "![image.png](photo_lib/trans4.png)\n",
    "![image.png](photo_lib/trans5.png)\n",
    "![image.png](photo_lib/trans6.png)\n",
    "![image.png](photo_lib/trans7.png)\n",
    "![image.png](photo_lib/trans8.png)\n",
    "![image.png](photo_lib/trans9.png)\n",
    "![image.png](photo_lib/trans10.png)\n",
    "![image.png](photo_lib/trans11.png)\n",
    "![image.png](photo_lib/trans12.png)\n",
    "![image.png](photo_lib/trans13.png)\n",
    "![image.png](photo_lib/trans14.png)\n",
    "![image.png](photo_lib/trans15.png)\n",
    "![image.png](photo_lib/trans16.png)\n",
    "![image.png](photo_lib/trans17.png)\n",
    "![image.png](photo_lib/trans18.png)\n",
    "![image.png](photo_lib/trans19.png)\n",
    "![image.png](photo_lib/trans20.png)\n",
    "![image.png](photo_lib/trans21.png)\n",
    "![image.png](photo_lib/trans22.png)\n",
    "![image.png](photo_lib/trans23.png)\n",
    "![image.png](photo_lib/trans24.png)\n",
    "![image.png](photo_lib/trans25.png)\n",
    "![image.png](photo_lib/trans26.png)\n",
    "![image.png](photo_lib/trans27.png)\n",
    "![image.png](photo_lib/trans28.png)\n",
    "![image.png](photo_lib/trans29.png)"
   ]
  },
  {
   "cell_type": "code",
   "execution_count": null,
   "metadata": {},
   "outputs": [],
   "source": []
  }
 ],
 "metadata": {
  "kernelspec": {
   "display_name": "Python 3",
   "language": "python",
   "name": "python3"
  },
  "language_info": {
   "codemirror_mode": {
    "name": "ipython",
    "version": 3
   },
   "file_extension": ".py",
   "mimetype": "text/x-python",
   "name": "python",
   "nbconvert_exporter": "python",
   "pygments_lexer": "ipython3",
   "version": "3.7.4"
  },
  "toc": {
   "base_numbering": 1,
   "nav_menu": {},
   "number_sections": true,
   "sideBar": true,
   "skip_h1_title": false,
   "title_cell": "Table of Contents",
   "title_sidebar": "Contents",
   "toc_cell": false,
   "toc_position": {},
   "toc_section_display": true,
   "toc_window_display": true
  }
 },
 "nbformat": 4,
 "nbformat_minor": 2
}
