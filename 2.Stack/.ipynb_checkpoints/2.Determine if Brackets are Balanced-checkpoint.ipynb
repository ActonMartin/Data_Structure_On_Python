{
 "cells": [
  {
   "cell_type": "markdown",
   "metadata": {},
   "source": [
    "# Determine if Brackets are Balanced #\n",
    "This lesson will teach us how to determine whether or not a string has balanced usage of brackets by using a stack.\n",
    "\n",
    "In this lesson, we’re going to determine whether or not a set of brackets are balanced or not by making use of the stack data structure that we defined in the previous lesson.\n",
    "\n",
    "Let’s first understand what a balanced set of brackets looks like.\n",
    "\n",
    "A balanced set of brackets is one where the number and type of opening and closing brackets match and that is also properly nested within the string of brackets.\n"
   ]
  },
  {
   "cell_type": "markdown",
   "metadata": {},
   "source": [
    "## Examples of Balanced Brackets ##\n",
    "{ }<br>\n",
    "{ } { }<br>\n",
    "( ( { [ ] } ) )<br>\n",
    "\n",
    "## Examples of Unbalanced Brackets ##\n",
    "( ( )<br>\n",
    "{ { { ) } ]<br>\n",
    "[ ] [ ] ] ]<br>\n"
   ]
  },
  {
   "cell_type": "markdown",
   "metadata": {},
   "source": [
    "## Algorithm ##\n",
    "Check out the slides below to have a look at the approach we’ll use to solve this problem:\n",
    "\n",
    "![image.png](photo_lib/balance1.png)\n",
    "![image.png](photo_lib/balance2.png)\n",
    "![image.png](photo_lib/balance3.png)\n",
    "![image.png](photo_lib/balance4.png)\n",
    "![image.png](photo_lib/balance5.png)\n",
    "![image.png](photo_lib/balance6.png)\n",
    "\n",
    "**As shown above, our algorithm is as follows:**\n",
    "\n",
    "1.We iterate through the characters of the string.\n",
    "\n",
    "2.If we get an opening bracket, push it onto the stack.\n",
    "\n",
    "3.If we encounter a closing bracket, pop off an element from the stack and match it with the closing bracket. If it is an opening bracket and of the same type as the closing bracket, we conclude it is a successful match and move on. If it’s not, we will conclude that the set of brackets is not balanced.\n",
    "\n",
    "4.The stack will be empty at the end of iteration for a balanced example of brackets while we’ll be left with some elements in the stack for an unbalanced example.\n",
    "\n",
    "![image.png](photo_lib/unbalance1.png)\n",
    "![image.png](photo_lib/unbalance2.png)\n",
    "![image.png](photo_lib/unbalance3.png)\n",
    "![image.png](photo_lib/unbalance4.png)\n",
    "![image.png](photo_lib/unbalance5.png)\n",
    "\n",
    "We’ve covered an example for both the balanced set of brackets and an unbalanced set of brackets, let’s move on to a special case."
   ]
  },
  {
   "cell_type": "markdown",
   "metadata": {},
   "source": [
    "# Special Case #\n",
    "\n",
    "Example: ) )\n",
    "\n",
    "What if we encounter a closing bracket but don’t have any elements to pop off from the stack? For example, in the case described above, we don’t have an opening parenthesis, but we encounter a closing parenthesis. In this case, we immediately know that the string does not have a balanced usage of brackets. Therefore, we need to watch out for an empty stack in our implementation.\n",
    "\n",
    "Now that you have got a decent idea of the algorithm, we’ll go over the implementation of it in Python.\n",
    "\n",
    "Let’s start with the is_paren_balanced function:\n"
   ]
  },
  {
   "cell_type": "code",
   "execution_count": 1,
   "metadata": {},
   "outputs": [],
   "source": [
    "def is_paren_balanced(paren_string):\n",
    "    s = Stack()\n",
    "    is_balanced = True\n",
    "    index = 0\n",
    "\n",
    "    while index < len(paren_string) and is_balanced:\n",
    "        paren = paren_string[index]\n",
    "        if paren in \"([{\":\n",
    "            s.push(paren)\n",
    "        else:\n",
    "            if s.is_empty():\n",
    "                is_balanced = False\n",
    "            else:\n",
    "                top = s.pop()\n",
    "                if not is_match(top, paren):\n",
    "                    is_balanced = False\n",
    "        index += 1\n",
    "\n",
    "    if s.is_empty() and is_balanced:\n",
    "        return True\n",
    "    else:\n",
    "        return False"
   ]
  },
  {
   "cell_type": "markdown",
   "metadata": {},
   "source": [
    "# Explanation #\n",
    "\n",
    "On lines 2-4, we declare a stack, s and two variables is_balanced and index, which are set to True and 0, respectively.\n",
    "\n",
    "The while loop on line 6 will execute if the index is less than the length of paren-string and is_balanced is equal to True. If any of the conditions evaluate to False, our program will exit the while loop. In the while loop, we iterate over each character of the paren_string by indexing using the index variable and save the indexed element in paren variable.\n",
    "\n",
    "We check on line 8 whether paren is any type of the opening brackets and if it is, we push it onto the stack. If it’s not any type of the opening brackets, we check if stack s is empty and set is_balanced to False. This handles our special case, which we discussed in the previous section.\n",
    "\n",
    "If the stack is not empty, we pop off the top element and check if the current paren, i.e., a closing bracket matches the type of the top element which is supposed to be an opening bracket. If the types don’t match, then we update is_balanced to False.\n",
    "\n",
    "We increment the index for the next iteration. The while loop keeps executing until the index is equal to or greater than the length of paren_string or is_balanced equals False.\n",
    "\n",
    "After we exit the while loop, on line 19, we check if the stack is empty and is_balanced is True, then we return True. Otherwise, we return False.\n",
    "\n",
    "The code given above is a simple implementation of the algorithm you were introduced to."
   ]
  },
  {
   "cell_type": "markdown",
   "metadata": {},
   "source": [
    "**Let’s implement the is_match function now:**"
   ]
  },
  {
   "cell_type": "code",
   "execution_count": 2,
   "metadata": {},
   "outputs": [],
   "source": [
    "def is_match(p1, p2):\n",
    "    if p1 == \"(\" and p2 == \")\":\n",
    "        return True\n",
    "    elif p1 == \"{\" and p2 == \"}\":\n",
    "        return True\n",
    "    elif p1 == \"[\" and p2 == \"]\":\n",
    "        return True\n",
    "    else:\n",
    "        return False"
   ]
  },
  {
   "cell_type": "markdown",
   "metadata": {},
   "source": [
    "# Explanation #\n",
    "\n",
    "The is_match function takes in two characters as p1 and p2 and evaluates whether they are a valid pair of brackets. For p1 and p2 to match, p1 has to be an opening bracket while p2 has to be the corresponding closing bracket. If p1 and p2 don’t fall in any of the valid conditions, we return False.\n",
    "\n",
    "Easy peasy, right?\n",
    "\n",
    "The entire implementation of the solution to determine whether a string has a balanced usage of brackets is given below. Feel free to play around with it!"
   ]
  },
  {
   "cell_type": "code",
   "execution_count": 7,
   "metadata": {},
   "outputs": [
    {
     "name": "stdout",
     "output_type": "stream",
     "text": [
      "String : (((({})))) Balanced or not?\n",
      "True\n",
      "String : [][]]] Balanced or not?\n",
      "False\n",
      "String : [][] Balanced or not?\n",
      "True\n"
     ]
    }
   ],
   "source": [
    "\"\"\"\n",
    "Stack Data Structure.\n",
    "\"\"\"\n",
    "class Stack():\n",
    "    def __init__(self):\n",
    "        self.items = []\n",
    "\n",
    "    def push(self, item):\n",
    "        self.items.append(item)\t\t\t\t\n",
    "\n",
    "    def pop(self):\n",
    "        return self.items.pop()\n",
    "    \n",
    "    def is_empty(self):\n",
    "        return self.items == []\n",
    "    \n",
    "    def peek(self):\n",
    "        if not self.is_empty():\n",
    "            return self.items[-1]\n",
    "        \n",
    "    def get_stack(self):\n",
    "        return self.items\n",
    "\n",
    "# main.py\n",
    "#from stack import Stack\n",
    "\n",
    "def is_match(p1, p2):\n",
    "    if p1 == \"(\" and p2 == \")\":\n",
    "        return True\n",
    "    elif p1 == \"{\" and p2 == \"}\":\n",
    "        return True\n",
    "    elif p1 == \"[\" and p2 == \"]\":\n",
    "        return True\n",
    "    else:\n",
    "        return False\n",
    "\n",
    "\n",
    "def is_paren_balanced(paren_string):\n",
    "    s = Stack()\n",
    "    is_balanced = True\n",
    "    index = 0\n",
    "\n",
    "    while index < len(paren_string) and is_balanced:\n",
    "        paren = paren_string[index]\n",
    "        if paren in \"([{\":\n",
    "            s.push(paren)\n",
    "        else:\n",
    "            if s.is_empty():\n",
    "                is_balanced = False\n",
    "            else:\n",
    "                top = s.pop()\n",
    "                if not is_match(top, paren):\n",
    "                    is_balanced = False\n",
    "        index += 1\n",
    "\n",
    "    if s.is_empty() and is_balanced:\n",
    "        return True\n",
    "    else:\n",
    "        return False\n",
    "\n",
    "print(\"String : (((({})))) Balanced or not?\")\n",
    "print(is_paren_balanced(\"(((({}))))\"))\n",
    "\n",
    "print(\"String : [][]]] Balanced or not?\")\n",
    "print(is_paren_balanced(\"[][]]]\"))\n",
    "\n",
    "print(\"String : [][] Balanced or not?\")\n",
    "print(is_paren_balanced(\"[][]\"))"
   ]
  },
  {
   "cell_type": "code",
   "execution_count": null,
   "metadata": {},
   "outputs": [],
   "source": []
  }
 ],
 "metadata": {
  "kernelspec": {
   "display_name": "Python 3",
   "language": "python",
   "name": "python3"
  },
  "language_info": {
   "codemirror_mode": {
    "name": "ipython",
    "version": 3
   },
   "file_extension": ".py",
   "mimetype": "text/x-python",
   "name": "python",
   "nbconvert_exporter": "python",
   "pygments_lexer": "ipython3",
   "version": "3.7.4"
  },
  "toc": {
   "base_numbering": 1,
   "nav_menu": {},
   "number_sections": true,
   "sideBar": true,
   "skip_h1_title": false,
   "title_cell": "Table of Contents",
   "title_sidebar": "Contents",
   "toc_cell": false,
   "toc_position": {},
   "toc_section_display": true,
   "toc_window_display": true
  }
 },
 "nbformat": 4,
 "nbformat_minor": 2
}
