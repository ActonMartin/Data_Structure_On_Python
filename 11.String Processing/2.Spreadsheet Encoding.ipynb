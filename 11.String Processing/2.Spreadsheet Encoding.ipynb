{
 "cells": [
  {
   "cell_type": "markdown",
   "metadata": {
    "toc": true
   },
   "source": [
    "<h1>Table of Contents<span class=\"tocSkip\"></span></h1>\n",
    "<div class=\"toc\"><ul class=\"toc-item\"><li><span><a href=\"#Implementation\" data-toc-modified-id=\"Implementation-1\"><span class=\"toc-item-num\">1&nbsp;&nbsp;</span>Implementation</a></span></li><li><span><a href=\"#Explanation\" data-toc-modified-id=\"Explanation-2\"><span class=\"toc-item-num\">2&nbsp;&nbsp;</span>Explanation</a></span></li></ul></div>"
   ]
  },
  {
   "cell_type": "markdown",
   "metadata": {},
   "source": [
    "n this lesson, we will be considering how to solve the problem of implementing a function that converts a spreadsheet column ID (i.e., “A”, “B”, “C”, …, “Z”, “AA”, etc.) to the corresponding integer. For example, “A” equals 1 because it represents the first column, while “AA” equals 27 because it represents the 27th column.\n",
    "\n",
    "We will cover how to solve this problem algorithmically, and then code a solution to this question in Python.\n",
    "\n",
    "The key insight is to think of the column IDs as base 26 integers.\n",
    "\n",
    "In the illustration below, you can see how we represent “314” as a base 10 number.\n",
    "\n",
    "![](image/se_2020-04-05_11-12-39.png)\n",
    "\n",
    "From the illustration above, you can easily deduce the general formula. We start from the left-most digit and multiply it with the base raised to the power of (n-1)(n−1) where nn is the number of digits in that number. We continue with the same procedure with the other digits but keep subtracting one from the power of the base, so the power of the base will be 0 for the last digit. Finally, the sum of all the products is equivalent to the original number.\n",
    "\n",
    "Now, let’s go ahead and represent the numbers of base 26 according to the formula above. Here we go:\n",
    "\n",
    "![](image/se2_2020-04-05_11-13-16.png)\n",
    "\n",
    "# Implementation #\n",
    "At this point, the base representation of a number will be pretty clear to you. Let’s make use of it in the implementation in Python, but before we jump to the implementation, let’s get introduced to ord function in Python:"
   ]
  },
  {
   "cell_type": "code",
   "execution_count": 1,
   "metadata": {
    "ExecuteTime": {
     "end_time": "2020-04-05T03:14:30.098060Z",
     "start_time": "2020-04-05T03:14:30.077059Z"
    }
   },
   "outputs": [
    {
     "name": "stdout",
     "output_type": "stream",
     "text": [
      "65\n",
      "66\n",
      "90\n"
     ]
    }
   ],
   "source": [
    "print(ord('A'))\n",
    "print(ord('B'))\n",
    "print(ord('Z'))"
   ]
  },
  {
   "cell_type": "markdown",
   "metadata": {},
   "source": [
    "ord() returns an integer which represents the Unicode code point of the Unicode character passed into the function. For the solution to work, we need to make sure of the following:\n",
    "\n",
    " A = 1, B = 2,..., Z = 26 \n",
    " \n",
    " as we deal with base 26 numbers.\n",
    "\n",
    "To make A represent 1, B represent 2, and so on, we need to determine the relative difference from the result given by the ord function and from the representation we require for base 26 system. Now we know that ord('A') equals 65. So if we find the Unicode code point using ord() of a character, subtract ord('A') from it, and then add 1 to it, we’ll get the representation we want for the base 26 system. For instance, check out the code below for the characters that have been converted with this methodology:"
   ]
  },
  {
   "cell_type": "code",
   "execution_count": 2,
   "metadata": {
    "ExecuteTime": {
     "end_time": "2020-04-05T03:15:16.356706Z",
     "start_time": "2020-04-05T03:15:16.338705Z"
    }
   },
   "outputs": [
    {
     "name": "stdout",
     "output_type": "stream",
     "text": [
      "1\n",
      "2\n",
      "3\n",
      "26\n"
     ]
    }
   ],
   "source": [
    "print(ord('A')- ord('A')+ 1)\n",
    "print(ord('B')- ord('A')+ 1)\n",
    "print(ord('C')- ord('A')+ 1)\n",
    "print(ord('Z')- ord('A')+ 1)"
   ]
  },
  {
   "cell_type": "markdown",
   "metadata": {},
   "source": [
    "Now let’s discuss the actual implementation:"
   ]
  },
  {
   "cell_type": "code",
   "execution_count": 3,
   "metadata": {
    "ExecuteTime": {
     "end_time": "2020-04-05T03:15:44.096293Z",
     "start_time": "2020-04-05T03:15:44.085292Z"
    }
   },
   "outputs": [
    {
     "name": "stdout",
     "output_type": "stream",
     "text": [
      "702\n"
     ]
    }
   ],
   "source": [
    "def spreadsheet_encode_column(col_str):\n",
    "    num = 0\n",
    "    count = len(col_str)-1\n",
    "    for s in col_str:\n",
    "        num += 26**count * (ord(s) - ord('A') + 1)\n",
    "        count -= 1\n",
    "    return num\n",
    "\n",
    "\n",
    "print(spreadsheet_encode_column(\"ZZ\"))"
   ]
  },
  {
   "cell_type": "markdown",
   "metadata": {},
   "source": [
    "# Explanation #\n",
    "num is set to 0 initially on line 2 and returned from the function on line 7. count is initialized to len(col_str) - 1 where col_str is the string representing the columnID that we have to convert into a number. count will help us in determining the power of the base as we convert the columnID into a corresponding integer. On line 4, s will represent each character of col_str in each iteration of the for loop. Let’s jump to line 5 where 26 (base) is raised to the power of count where count is len(col_str) - 1 as indicated in the formula. The result from the power operation (**) is multiplied with the equivalent of s in base 26 system which we find using the ord function. The final answer as a result of these calculations is added to the value of the existing num on line 5. On line 6, count is decremented by 1 as the power of the base decreases by 1 for the digits from left to the right. After the calculations have been done for every character in s, the for loop terminates, and the value of num is returned from the function.\n",
    "\n",
    "That’s all we have for this lesson. Hope you are having a great learning experience. Let’s move on to discussing another problem in the next lesson."
   ]
  },
  {
   "cell_type": "code",
   "execution_count": null,
   "metadata": {},
   "outputs": [],
   "source": []
  }
 ],
 "metadata": {
  "kernelspec": {
   "display_name": "Python 3",
   "language": "python",
   "name": "python3"
  },
  "language_info": {
   "codemirror_mode": {
    "name": "ipython",
    "version": 3
   },
   "file_extension": ".py",
   "mimetype": "text/x-python",
   "name": "python",
   "nbconvert_exporter": "python",
   "pygments_lexer": "ipython3",
   "version": "3.7.7"
  },
  "toc": {
   "base_numbering": 1,
   "nav_menu": {},
   "number_sections": true,
   "sideBar": false,
   "skip_h1_title": false,
   "title_cell": "Table of Contents",
   "title_sidebar": "Contents",
   "toc_cell": true,
   "toc_position": {},
   "toc_section_display": true,
   "toc_window_display": false
  }
 },
 "nbformat": 4,
 "nbformat_minor": 4
}
