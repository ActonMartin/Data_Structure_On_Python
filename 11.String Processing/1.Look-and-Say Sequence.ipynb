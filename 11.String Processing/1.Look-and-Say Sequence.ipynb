{
 "cells": [
  {
   "cell_type": "markdown",
   "metadata": {
    "toc": true
   },
   "source": [
    "<h1>Table of Contents<span class=\"tocSkip\"></span></h1>\n",
    "<div class=\"toc\"><ul class=\"toc-item\"><li><span><a href=\"#Implementation\" data-toc-modified-id=\"Implementation-1\"><span class=\"toc-item-num\">1&nbsp;&nbsp;</span>Implementation</a></span></li><li><span><a href=\"#Explanation\" data-toc-modified-id=\"Explanation-2\"><span class=\"toc-item-num\">2&nbsp;&nbsp;</span>Explanation</a></span></li></ul></div>"
   ]
  },
  {
   "cell_type": "markdown",
   "metadata": {},
   "source": [
    "In this lesson, we will be considering the so-called “Look-and-Say” sequence. The first few terms of the sequence are:\n",
    "\n",
    "1, 11, 21, 1211, 111221, 312211, 13112221, 1113213211, ... \n",
    "\n",
    "\n",
    "To generate a member of the sequence from the previous member, read off the digits of the previous member and record the count of the number of digits in groups of the same digit.\n",
    "\n",
    "For example, 1 is read off as one 1 which implies that the count of 1 is one. As 1 is read off as “one 1”, the next sequence will be written as 11 where 1 replaces one. Now 11 is read off as “two 1s” as the count of “1” is two in this term. Hence, the next term in the sequence becomes 21.\n",
    "\n",
    "Have a look at the slides below where we generate this sequence up to the fifth term.\n",
    "\n",
    "![](image/lns_2020-04-05_11-00-18.png)\n",
    "![](image/lns_2020-04-05_11-00-28.png)\n",
    "![](image/lns_2020-04-05_11-00-34.png)\n",
    "![](image/lns_2020-04-05_11-00-41.png)\n",
    "![](image/lns_2020-04-05_11-00-47.png)\n",
    "\n",
    "Now, you can easily guess the sixth term. There you go:\n",
    "\n",
    "111221 is read off as \"three 1s, two 2s, then one 1\" or 312211.\n",
    "\n",
    "# Implementation #\n",
    "Hopefully, by now, you understand the look-and-say sequence. Let’s have a look at the implementation in Python below:"
   ]
  },
  {
   "cell_type": "code",
   "execution_count": 1,
   "metadata": {
    "ExecuteTime": {
     "end_time": "2020-04-05T03:04:55.077171Z",
     "start_time": "2020-04-05T03:04:55.061170Z"
    }
   },
   "outputs": [],
   "source": [
    "def next_number(s):\n",
    "    result = []\n",
    "    i = 0\n",
    "    while i < len(s):\n",
    "        count = 1\n",
    "        while i + 1 < len(s) and s[i] == s[i+1]:\n",
    "            i += 1\n",
    "            count += 1\n",
    "        result.append(str(count) + s[i])\n",
    "        i += 1\n",
    "    return ''.join(result)"
   ]
  },
  {
   "cell_type": "markdown",
   "metadata": {},
   "source": [
    "# Explanation #\n",
    "\n",
    "In the next_number function, result is initialized to an empty list on line 2. i is set to 0 in the next line so that we can traverse the string, s, from the first character in the while loop on line 4 which runs as long as i is less than the length of s. On line 5, in the outer while loop, count is set to 1 before the execution proceeds to the inner while loop. The inner while loop on line 6 runs until the value of i does not exceed the length of s and the current and next character of s indicated by i are the same. So essentially, in the inner while loop, we are keeping a count of consecutive similar characters as we increment i and count by 1 in each iteration of the inner while loop (lines 7-8).\n",
    "\n",
    "As soon as the inner while loop terminates due to change of character in the string, or the code has reached the end of the string, the execution jumps to line 9. On line 9, count is converted to a string and s[i], which is the number we have the count for, is concatenated and appended to result. i is incremented on line 10 to iterate to the next character in the next iteration of the outer while loop where count resets to 1 once again to count for the next number.\n",
    "\n",
    "After s is traversed entirely, all the elements in result are concatenated using the join function, which joins all the elements in result without any space as specified by the '' separator. Then, a single string is returned from the function next_number.\n",
    "\n",
    "Let’s visualize the execution with the help of the slides below:\n",
    "\n",
    "![](image/lllss_2020-04-05_11-07-25.png)\n",
    "![](image/lllss_2020-04-05_11-07-40.png)\n",
    "![](image/lllss_2020-04-05_11-08-20.png)\n",
    "![](image/lllss_2020-04-05_11-08-29.png)\n",
    "![](image/lllss_2020-04-05_11-08-37.png)\n",
    "![](image/lllss_2020-04-05_11-09-01.png)\n",
    "![](image/lllss_2020-04-05_11-09-16.png)\n",
    "![](image/lllss_2020-04-05_11-09-23.png)\n",
    "![](image/lllss_2020-04-05_11-09-36.png)\n",
    "![](image/lllss_2020-04-05_11-09-50.png)\n",
    "![](image/lllss_2020-04-05_11-10-04.png)\n",
    "![](image/lllss_2020-04-05_11-10-13.png)\n",
    "\n",
    "In the code below, by using a for loop on line 16, we generate the next term of the look-and-say sequence from the previous term and print out a total of four terms.\n",
    "\n"
   ]
  },
  {
   "cell_type": "code",
   "execution_count": 2,
   "metadata": {
    "ExecuteTime": {
     "end_time": "2020-04-05T03:10:54.702740Z",
     "start_time": "2020-04-05T03:10:54.676739Z"
    }
   },
   "outputs": [
    {
     "name": "stdout",
     "output_type": "stream",
     "text": [
      "1\n",
      "11\n",
      "21\n",
      "1211\n"
     ]
    }
   ],
   "source": [
    "def next_number(s):\n",
    "    result = []\n",
    "    i = 0\n",
    "    while i < len(s):\n",
    "        count = 1\n",
    "        while i + 1 < len(s) and s[i] == s[i+1]:\n",
    "            i += 1\n",
    "            count += 1\n",
    "        result.append(str(count) + s[i])\n",
    "        i += 1\n",
    "    return ''.join(result)\n",
    "\n",
    "s = \"1\"\n",
    "print(s)\n",
    "n = 4\n",
    "for i in range(n-1):\n",
    "    s = next_number(s)\n",
    "    print(s)"
   ]
  },
  {
   "cell_type": "code",
   "execution_count": null,
   "metadata": {},
   "outputs": [],
   "source": []
  }
 ],
 "metadata": {
  "kernelspec": {
   "display_name": "Python 3",
   "language": "python",
   "name": "python3"
  },
  "language_info": {
   "codemirror_mode": {
    "name": "ipython",
    "version": 3
   },
   "file_extension": ".py",
   "mimetype": "text/x-python",
   "name": "python",
   "nbconvert_exporter": "python",
   "pygments_lexer": "ipython3",
   "version": "3.7.7"
  },
  "toc": {
   "base_numbering": 1,
   "nav_menu": {},
   "number_sections": true,
   "sideBar": false,
   "skip_h1_title": false,
   "title_cell": "Table of Contents",
   "title_sidebar": "Contents",
   "toc_cell": true,
   "toc_position": {},
   "toc_section_display": true,
   "toc_window_display": false
  }
 },
 "nbformat": 4,
 "nbformat_minor": 4
}
