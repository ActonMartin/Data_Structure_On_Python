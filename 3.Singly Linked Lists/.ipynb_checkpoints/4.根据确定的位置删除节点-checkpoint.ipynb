{
 "cells": [
  {
   "cell_type": "markdown",
   "metadata": {},
   "source": [
    "# Deletion by Position\n",
    "\n",
    "In this lesson, you will learn how to delete a node at a given position in a linked list.\n"
   ]
  },
  {
   "cell_type": "markdown",
   "metadata": {},
   "source": [
    "Again, we’ll consider two cases while writing our code:\n",
    "\n",
    "1.Node to be deleted is at position 0<br>\n",
    "2.Node to be deleted is not at position 0"
   ]
  },
  {
   "cell_type": "markdown",
   "metadata": {},
   "source": [
    "## Implementation\n"
   ]
  },
  {
   "cell_type": "code",
   "execution_count": null,
   "metadata": {},
   "outputs": [],
   "source": [
    "def dalete_node_at_pos(self, pos):\n",
    "    if self.head:\n",
    "        cur_node = self.head\n",
    "        if pos == 0:\n",
    "            self.head = cur_node.next\n",
    "            cur_node = None\n",
    "            return\n",
    "        \n",
    "        prev = None\n",
    "        count = 0\n",
    "        while cur_node and count != pos:\n",
    "            prev = cur_node\n",
    "            cur_node = cur_node.next\n",
    "            count += 1\n",
    "            \n",
    "        if cur_node is None:\n",
    "            return\n",
    "        \n",
    "        prev.next = cur_node.next\n",
    "        cur_node = None"
   ]
  }
 ],
 "metadata": {
  "kernelspec": {
   "display_name": "Python 3",
   "language": "python",
   "name": "python3"
  },
  "language_info": {
   "codemirror_mode": {
    "name": "ipython",
    "version": 3
   },
   "file_extension": ".py",
   "mimetype": "text/x-python",
   "name": "python",
   "nbconvert_exporter": "python",
   "pygments_lexer": "ipython3",
   "version": "3.7.4"
  }
 },
 "nbformat": 4,
 "nbformat_minor": 2
}
