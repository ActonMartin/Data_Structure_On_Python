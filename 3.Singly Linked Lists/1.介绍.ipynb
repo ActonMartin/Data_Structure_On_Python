{
 "cells": [
  {
   "cell_type": "markdown",
   "metadata": {
    "toc": true
   },
   "source": [
    "<h1>Table of Contents<span class=\"tocSkip\"></span></h1>\n",
    "<div class=\"toc\"><ul class=\"toc-item\"><li><span><a href=\"#Introduction\" data-toc-modified-id=\"Introduction-1\"><span class=\"toc-item-num\">1&nbsp;&nbsp;</span>Introduction</a></span></li><li><span><a href=\"#Structure\" data-toc-modified-id=\"Structure-2\"><span class=\"toc-item-num\">2&nbsp;&nbsp;</span>Structure</a></span></li><li><span><a href=\"#Arrays-vs.-Linked-Lists\" data-toc-modified-id=\"Arrays-vs.-Linked-Lists-3\"><span class=\"toc-item-num\">3&nbsp;&nbsp;</span>Arrays vs. Linked Lists</a></span></li><li><span><a href=\"#Insertion/Deletion\" data-toc-modified-id=\"Insertion/Deletion-4\"><span class=\"toc-item-num\">4&nbsp;&nbsp;</span>Insertion/Deletion</a></span></li><li><span><a href=\"#Accessing-Elements\" data-toc-modified-id=\"Accessing-Elements-5\"><span class=\"toc-item-num\">5&nbsp;&nbsp;</span>Accessing Elements</a></span></li><li><span><a href=\"#Contiguous-Memory\" data-toc-modified-id=\"Contiguous-Memory-6\"><span class=\"toc-item-num\">6&nbsp;&nbsp;</span>Contiguous Memory</a></span></li><li><span><a href=\"#Implementation\" data-toc-modified-id=\"Implementation-7\"><span class=\"toc-item-num\">7&nbsp;&nbsp;</span>Implementation</a></span></li></ul></div>"
   ]
  },
  {
   "cell_type": "markdown",
   "metadata": {},
   "source": [
    "# Introduction #\n",
    "\n",
    "This lesson introduces you to the ​singly linked list and implements its structure in Python.\n",
    "\n",
    "For the sake of this course, we will go over the following different types of linked lists and implement them in Python:<BR>\n",
    "**1.Singly Linked Lists<BR>**\n",
    "**2.Doubly Linked Lists<BR>**\n",
    "**3.Circular Linked List<BR>**\n",
    "    \n",
    "**Below is a simple depiction of a singly linked list:<BR>**\n",
    "![image.png](photo_lib/singlylinkedlist.png)"
   ]
  },
  {
   "cell_type": "markdown",
   "metadata": {},
   "source": [
    "# Structure #\n",
    "\n",
    "**Every linked list consists of nodes, as shown in the illustration above. Every node has two components:**<BR>\n",
    "**1.DATA<BR>**\n",
    "**2.NEXT<BR>**\n",
    "The data component allows a node in the linked list to store an element of data that can be of type string, character, number, or any other type of object. In the illustration above, the data elements are A, B, and C which are of character type.<BR>\n",
    "\n",
    "The next component in every node is a pointer that points from one node to another.<BR>\n",
    "\n",
    "The start of the linked list is referred to as the head. head is a pointer that points to the beginning of the linked list, so if we want to traverse the linked list to obtain or access an element of the linked list, we’ll start from head and move along.<BR>\n",
    "\n",
    "The last component of a singly linked list is a notion of null. This null idea terminates the linked list. In Python, we call this None. The last node in a singly linked list points to a null object, and that tells you that it’s the end of the linked list.<BR>"
   ]
  },
  {
   "cell_type": "markdown",
   "metadata": {},
   "source": [
    "# Arrays vs. Linked Lists #\n",
    "\n",
    "Nothing here|Arrays|Linked Lists\n",
    "--|:--:|--:\n",
    "Insertion/Deletion at the<br> beginning of the array or<br>linked list given a value|O(n)|O(1)\n",
    "Access Element|O(1)|O(n)\n",
    "Contiguous Memory|Yes|No\n",
    "\n"
   ]
  },
  {
   "cell_type": "markdown",
   "metadata": {},
   "source": [
    "# Insertion/Deletion #\n",
    "The insertion/deletion operation is in O(n)O(n) operations for insertion/deletion of value at the beginning of the array. Now think if we are given an array and a value to insert at the beginning of an array. For insertion, we have to shift all the elements in the array to the right. The shifting makes room for the element at the beginning of the array. Due to the shifting of the elements, the time complexity is O(n)O(n). The same is the case with the deletion of an element from the beginning of an array. Again, we shift all the elements back by one index. Therefore, this operation also has a cost of O(n)O(n) time complexity.<br>\n",
    "\n",
    "Inserting a node at the head of a linked list given the head node is a constant-time operation as we need to change the orientation of a few pointers. If we are given the exact pointer after which we have to insert another node, it will be a constant-time operation."
   ]
  },
  {
   "cell_type": "markdown",
   "metadata": {},
   "source": [
    "# Accessing Elements #\n",
    "Accessing any element given an index in arrays is better than accessing nth elements in linked lists. It is a constant time operation to access elements in arrays. If given an array and an index, it can immediately give you the element at which the entry is stored. This is because arrays are contiguous.\n",
    "\n",
    "Accessing an nth element in a linked list is an O(n)O(n) operation given that you have access to the head node of the linked list. If we want to access an element, we need to start from the head pointer and traverse the entire linked list before we can get to it."
   ]
  },
  {
   "cell_type": "markdown",
   "metadata": {},
   "source": [
    "# Contiguous Memory #\n",
    "Arrays are contiguous in memory which allows the access time to be constant, whereas, in linked lists, you do not have the luxury of contiguous memory.\n",
    "\n",
    "You should probably keep in mind the table above when it comes to trade-offs between arrays and linked lists. If you’re given a problem, you might want to consider whether or not an array is the preferred data structure. For that assessment, you will need to be aware of the pros and cons of the two data structures.\n"
   ]
  },
  {
   "cell_type": "markdown",
   "metadata": {},
   "source": [
    "# Implementation #\n",
    "Now let’s go ahead and create our classes in Python:\n",
    "\n",
    "**Node class<br>**\n",
    "**LinkedList class**"
   ]
  },
  {
   "cell_type": "code",
   "execution_count": 1,
   "metadata": {},
   "outputs": [],
   "source": [
    "class Node:\n",
    "  def __init__(self, data):\n",
    "    self.data = data\n",
    "    self.next = None\n",
    "\n",
    "class LinkedList:\n",
    "  def __init__(self):\n",
    "    self.head = None"
   ]
  },
  {
   "cell_type": "markdown",
   "metadata": {},
   "source": [
    "We create a class called Node. In the constructor of this class, we give the argument of self and data on line 2. Every node is going to consist of data and next. We define self.data equal to data that is passed into the constructor of the object of class Node (line 3). We set self.next equal to None on line 4. This is something that we’ll set again as we make use of the node, but for now, we just set it to None. That’s pretty much all we need for the Node class right now.\n",
    "\n",
    "On line 6, we define a LinkedList class, and in the constructor, we again pass self. On line 8, we define the head pointer, which will point to the first node in the linked list. Initially, we just set it equal to None.\n",
    "\n",
    "Now that we have defined the classes in our implementation, we’ll learn how to insert elements into a linked list in the next lesson."
   ]
  },
  {
   "cell_type": "code",
   "execution_count": null,
   "metadata": {},
   "outputs": [],
   "source": []
  }
 ],
 "metadata": {
  "kernelspec": {
   "display_name": "Python 3",
   "language": "python",
   "name": "python3"
  },
  "language_info": {
   "codemirror_mode": {
    "name": "ipython",
    "version": 3
   },
   "file_extension": ".py",
   "mimetype": "text/x-python",
   "name": "python",
   "nbconvert_exporter": "python",
   "pygments_lexer": "ipython3",
   "version": "3.7.4"
  },
  "toc": {
   "base_numbering": 1,
   "nav_menu": {},
   "number_sections": true,
   "sideBar": true,
   "skip_h1_title": false,
   "title_cell": "Table of Contents",
   "title_sidebar": "Contents",
   "toc_cell": true,
   "toc_position": {
    "height": "441px",
    "left": "291px",
    "top": "110px",
    "width": "273.188px"
   },
   "toc_section_display": true,
   "toc_window_display": true
  }
 },
 "nbformat": 4,
 "nbformat_minor": 2
}
