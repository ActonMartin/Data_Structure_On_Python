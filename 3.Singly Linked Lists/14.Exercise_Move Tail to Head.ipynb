{
 "cells": [
  {
   "cell_type": "markdown",
   "metadata": {
    "toc": true
   },
   "source": [
    "<h1>Table of Contents<span class=\"tocSkip\"></span></h1>\n",
    "<div class=\"toc\"><ul class=\"toc-item\"><li><span><a href=\"#Problem\" data-toc-modified-id=\"Problem-1\"><span class=\"toc-item-num\">1&nbsp;&nbsp;</span>Problem</a></span></li><li><span><a href=\"#Coding-Time!\" data-toc-modified-id=\"Coding-Time!-2\"><span class=\"toc-item-num\">2&nbsp;&nbsp;</span>Coding Time!</a></span></li><li><span><a href=\"#Solution-Review:-Move-Tail-to-Head\" data-toc-modified-id=\"Solution-Review:-Move-Tail-to-Head-3\"><span class=\"toc-item-num\">3&nbsp;&nbsp;</span>Solution Review: Move Tail to Head</a></span></li><li><span><a href=\"#Implementation\" data-toc-modified-id=\"Implementation-4\"><span class=\"toc-item-num\">4&nbsp;&nbsp;</span>Implementation</a></span></li><li><span><a href=\"#Explanation\" data-toc-modified-id=\"Explanation-5\"><span class=\"toc-item-num\">5&nbsp;&nbsp;</span>Explanation</a></span></li></ul></div>"
   ]
  },
  {
   "cell_type": "markdown",
   "metadata": {},
   "source": [
    "Challenge yourself with an exercise in which you'll move the tail node to the head node in a linked list.\n",
    "\n",
    "# Problem #\n",
    "\n",
    "You are required to solve the Move Tail to Head problem in a linked list. In this exercise, you are supposed to move the tail (or last) node in a singly linked list to the front of the linked list so that it becomes the new head of the linked list.\n",
    "\n",
    "For example, in the illustration below, the tail node (D) moves to the start of the linked list and replaces the head node (A).\n",
    "![image.png](photo_lib/move_tail1.png)\n",
    "![image.png](photo_lib/move_tail2.png)"
   ]
  },
  {
   "cell_type": "markdown",
   "metadata": {},
   "source": [
    "# Coding Time! #\n",
    "\n",
    "In the code below, the move_tail_to_head is a class method of the LinkedList class. You cannot see the rest of the code as it is hidden. As move_tail_to_head is a class method, please make sure that you don’t change the indentation of the code provided to you. You are required to write your solution under the method prototype.\n",
    "\n",
    "For this exercise, you are not required to return anything from the method. Just modify the linked list so that the tail node is moved to the head node, the previous head node shifts ahead, and the tail node is updated to point to None. Remove the pass statement if you start implementing your solution.\n",
    "\n",
    "Good luck!"
   ]
  },
  {
   "cell_type": "code",
   "execution_count": 1,
   "metadata": {},
   "outputs": [],
   "source": [
    "    def move_tail_to_head(self):\n",
    "        if self.head and self.head.next:\n",
    "            last = self.head \n",
    "            second_to_last = None\n",
    "            while last.next:\n",
    "                second_to_last = last\n",
    "                last = last.next\n",
    "            last.next = self.head \n",
    "            second_to_last.next = None \n",
    "            self.head = last"
   ]
  },
  {
   "cell_type": "markdown",
   "metadata": {},
   "source": [
    "# Solution Review: Move Tail to Head\n",
    "\n",
    "For this problem, we will use two pointers where one will keep track of the last node of the linked list, and the other will point to the second-to-last node of the linked list. Let’s have a look at the code below.\n",
    "# Implementation #"
   ]
  },
  {
   "cell_type": "code",
   "execution_count": 2,
   "metadata": {},
   "outputs": [],
   "source": [
    "def move_tail_to_head(self):\n",
    "  if self.head and self.head.next:\n",
    "    last = self.head \n",
    "    second_to_last = None\n",
    "    while last.next:\n",
    "        second_to_last = last\n",
    "        last = last.next\n",
    "    last.next = self.head \n",
    "    second_to_last.next = None \n",
    "    self.head = last\n"
   ]
  },
  {
   "cell_type": "markdown",
   "metadata": {},
   "source": [
    "# Explanation #\n",
    "Let’s go over a line by line explanation of the solution above.\n",
    "\n",
    "Line 2 ensures that the code proceeds to line 3 if there is more than one element in the linked list. This implies self.head and self.head.next is not None. We initialize last and second_to_last to self.head and None on lines 3-4. Now we have to make them point to what they are supposed to point to, i.e., last should point to the last node while second_to_last should point to the second to last node in a linked list. Therefore, we traverse the linked list using the while loop on line 5. The while loop will run until last.next becomes None which implies that last is the last node in the linked list. Before updating last to last.next on line 7, we keep updating second_to_last to last on line 6 so that in the last iteration, when last is the last node in the linked list, second_to_last will be the second to last node in the linked list.\n",
    "\n",
    "Now that the two pointers are rightly positioned, we have to change a few pointers to complete our solution. Therefore, last.next which was previously pointing to None is pointed to self.head on line 8. This makes a circular linked list where the last node points to the first element of the linked list. To make the linked list linear, we make second_to_last.next point to None on line 9. In this way, we have updated the tail pointer of the linked list. At this stage, all that is left is to update the head pointer which we do on line 10, and set self.head equal to last. This completes our solution when we have to move the tail node to the head.\n",
    "\n",
    "You can visualize the solution above with the help of the slides below:\n",
    "![image.png](photo_lib/review_move1.png)\n",
    "![image.png](photo_lib/review_move2.png)\n",
    "![image.png](photo_lib/review_move3.png)\n",
    "![image.png](photo_lib/review_move4.png)\n",
    "![image.png](photo_lib/review_move5.png)\n",
    "![image.png](photo_lib/review_move6.png)\n",
    "![image.png](photo_lib/review_move7.png)\n",
    "![image.png](photo_lib/review_move8.png)\n",
    "![image.png](photo_lib/review_move9.png)\n",
    "![image.png](photo_lib/review_move10.png)\n",
    "![image.png](photo_lib/review_move11.png)\n",
    "![image.png](photo_lib/review_move12.png)\n",
    "![image.png](photo_lib/review_move13.png)\n",
    "![image.png](photo_lib/review_move14.png)\n",
    "![image.png](photo_lib/review_move15.png)\n",
    "![image.png](photo_lib/review_move16.png)\n",
    "![image.png](photo_lib/review_move17.png)\n",
    "\n",
    "I hope the solution was clear to you! Below is the entire implementation of the LinkedList class that we have coded up until now. You can play around with and verify the method move_head_to_tail."
   ]
  },
  {
   "cell_type": "code",
   "execution_count": null,
   "metadata": {},
   "outputs": [],
   "source": []
  }
 ],
 "metadata": {
  "kernelspec": {
   "display_name": "Python 3",
   "language": "python",
   "name": "python3"
  },
  "language_info": {
   "codemirror_mode": {
    "name": "ipython",
    "version": 3
   },
   "file_extension": ".py",
   "mimetype": "text/x-python",
   "name": "python",
   "nbconvert_exporter": "python",
   "pygments_lexer": "ipython3",
   "version": "3.7.4"
  },
  "toc": {
   "base_numbering": 1,
   "nav_menu": {},
   "number_sections": true,
   "sideBar": true,
   "skip_h1_title": false,
   "title_cell": "Table of Contents",
   "title_sidebar": "Contents",
   "toc_cell": true,
   "toc_position": {},
   "toc_section_display": true,
   "toc_window_display": false
  }
 },
 "nbformat": 4,
 "nbformat_minor": 2
}
