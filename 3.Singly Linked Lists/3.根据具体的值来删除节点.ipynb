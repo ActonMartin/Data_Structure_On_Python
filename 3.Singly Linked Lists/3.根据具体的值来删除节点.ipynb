{
 "cells": [
  {
   "cell_type": "markdown",
   "metadata": {
    "toc": true
   },
   "source": [
    "<h1>Table of Contents<span class=\"tocSkip\"></span></h1>\n",
    "<div class=\"toc\"><ul class=\"toc-item\"><li><span><a href=\"#Algorithm\" data-toc-modified-id=\"Algorithm-1\"><span class=\"toc-item-num\">1&nbsp;&nbsp;</span>Algorithm</a></span><ul class=\"toc-item\"><li><span><a href=\"#Case-of-Deleting-Head\" data-toc-modified-id=\"Case-of-Deleting-Head-1.1\"><span class=\"toc-item-num\">1.1&nbsp;&nbsp;</span>Case of Deleting Head</a></span></li><li><span><a href=\"#Case-of-Deleting-Node-Other-Than-the-Head\" data-toc-modified-id=\"Case-of-Deleting-Node-Other-Than-the-Head-1.2\"><span class=\"toc-item-num\">1.2&nbsp;&nbsp;</span>Case of Deleting Node Other Than the Head</a></span></li></ul></li></ul></div>"
   ]
  },
  {
   "cell_type": "markdown",
   "metadata": {},
   "source": [
    "**Deletion by Value**<BR>\n",
    "    \n",
    "In this lesson, we will learn how to delete a node based on a value from a linked list.\n",
    "\n",
    "In this lesson, we will investigate singly-linked lists by focusing on how one might delete a node in the linked list. In summary, to delete a node, we’ll first find the node to be deleted by traversing the linked list. Then, we’ll delete that node and update the rest of the pointers. That’s it!\n",
    "\n",
    "![image.png](photo_lib/delete_node_B_A.png)\n",
    "![image.png](photo_lib/delete_node_B_B.png)"
   ]
  },
  {
   "cell_type": "markdown",
   "metadata": {},
   "source": [
    "# Algorithm #\n",
    "\n",
    "To solve this problem, we need to handle two cases:<BR>\n",
    "    \n",
    "**1.Node to be deleted is head.**<BR>\n",
    "    \n",
    "**2.Node to be deleted is not head.**\n",
    "\n",
    "## Case of Deleting Head ##\n",
    "\n",
    "Let’s look at the illustration below to get a fair idea of the steps that we are going to follow while writing the code.\n",
    "\n",
    "![image.png](photo_lib/Case_of_Deleting_Head1.png)\n",
    "![image.png](photo_lib/Case_of_Deleting_Head2.png)\n",
    "![image.png](photo_lib/Case_of_Deleting_Head3.png)\n",
    "![image.png](photo_lib/Case_of_Deleting_Head4.png)\n",
    "\n",
    "Now let’s go ahead and implement the case illustrated above in Python."
   ]
  },
  {
   "cell_type": "code",
   "execution_count": 1,
   "metadata": {},
   "outputs": [],
   "source": [
    "def delete_node(self, key):\n",
    "  \n",
    "  cur_node = self.head\n",
    "\n",
    "  if cur_node and cur_node.data == key:\n",
    "    self.head = cur_node.next \n",
    "    cur_node = None\n",
    "    return"
   ]
  },
  {
   "cell_type": "markdown",
   "metadata": {},
   "source": [
    "The class method delete_node takes key as an input parameter. On line 3, we’ll declare cur_node as self.head to have a starting point to traverse the linked list. To handle the case of deleting the head, we’ll check if cur_node is not None and if the data in cur_node is equal to key on line 5. Note that cur_node is pointing to the head of the linked list at this point. If key matches cur_node.data, we’ll update the head of the linked list (self.head) to cur_node.next, i.e., the next node of the previous head node (line 6). Once we have updated the head of the linked list, we’ll set the node to be deleted (cur_node) to None (line 7) and return from the method.\n",
    "\n",
    "Now that we have written the code for deleting the head node let’s move on to the other case of deletion, deleting a node from a linked list which is not the head node."
   ]
  },
  {
   "cell_type": "markdown",
   "metadata": {},
   "source": [
    "## Case of Deleting Node Other Than the Head ##\n",
    "In this case, we’ll traverse the linked list to find the node that we are supposed to delete. As we move along, we also need to keep track of the previous node of the node to be removed. Below is a slide for you to visualize the process.\n",
    "\n",
    "![image.png](photo_lib/Case_of_Deleting_Node_Other_Than_the_Head1.png)\n",
    "![image.png](photo_lib/Case_of_Deleting_Node_Other_Than_the_Head2.png)\n",
    "![image.png](photo_lib/Case_of_Deleting_Node_Other_Than_the_Head3.png)\n",
    "![image.png](photo_lib/Case_of_Deleting_Node_Other_Than_the_Head4.png)\n",
    "\n",
    "Now, let’s turn to the code part. Check it out below:"
   ]
  },
  {
   "cell_type": "code",
   "execution_count": 2,
   "metadata": {},
   "outputs": [],
   "source": [
    "def delete_node(self, key):\n",
    "  \n",
    "  cur_node = self.head\n",
    "\n",
    "  if cur_node and cur_node.data == key:\n",
    "    self.head = cur_node.next \n",
    "    cur_node = None\n",
    "    return\n",
    "  \n",
    "  prev = None\n",
    "  while cur_node and cur_node.data != key:\n",
    "    prev = cur_node\n",
    "    cur_node = cur_node.next \n",
    "\n",
    "  if cur_node is None:\n",
    "    return \n",
    "  \n",
    "  prev.next = cur_node.next\n",
    "  cur_node = None"
   ]
  },
  {
   "cell_type": "markdown",
   "metadata": {},
   "source": [
    "We have already discussed the code present in lines 2-8. Now we’ll concern ourselves with the code starting from line 10 where prev is declared and set to None. This will keep track of the previous node of the node to be deleted. On the next line (line 11), we have a while loop which will run until cur_node becomes None. This implies that key doesn’t exist in our linked list. Another occurrence that would stop the loop would be the cur_node.data equaling key which refers to the case where we have found the node to be deleted. In the while loop, we set prev to cur_node on line 12 to keep track of the previous node while cur_node is updated to the next node in the next line.\n",
    "\n",
    "When the while loop terminates, we check using an if-condition on line 15 whether or not it’s because of cur_node being None, which will imply that key did not match any of the data of the current node. If it’s true, then we return from the method as there is no node to delete. However, if cur_node is not None and its data matches with the key, we proceed to line 18. As we kept track of the previous node of the node to be deleted (prev), we now want to point it to the next node of the node to be deleted instead of pointing it to the node that we want to delete (cur_node). Therefore, we set prev.next to cur_node.next. In this way, we have removed the link of the cur.node that was previously in between. Finally, we set the node to be deleted (cur_node) equal to None on line 19.\n"
   ]
  },
  {
   "cell_type": "markdown",
   "metadata": {},
   "source": [
    "\n",
    "Deleting the node based on a value from a linked list was as simple as that! The delete_node has been made a class method in the code widget below. Go ahead and play around with it by making more test cases!"
   ]
  },
  {
   "cell_type": "code",
   "execution_count": 3,
   "metadata": {},
   "outputs": [
    {
     "name": "stdout",
     "output_type": "stream",
     "text": [
      "A\n",
      "C\n",
      "D\n"
     ]
    }
   ],
   "source": [
    "class Node:\n",
    "    def __init__(self, data):\n",
    "        self.data = data\n",
    "        self.next = None\n",
    "\n",
    "\n",
    "class LinkedList:\n",
    "    def __init__(self):\n",
    "        self.head = None\n",
    "\n",
    "    def print_list(self):\n",
    "        cur_node = self.head\n",
    "        while cur_node:\n",
    "            print(cur_node.data)\n",
    "            cur_node = cur_node.next\n",
    "\n",
    "    def append(self, data):\n",
    "        new_node = Node(data)\n",
    "\n",
    "        if self.head is None:\n",
    "            self.head = new_node\n",
    "            return\n",
    "\n",
    "        last_node = self.head\n",
    "        while last_node.next:\n",
    "            last_node = last_node.next\n",
    "        last_node.next = new_node\n",
    "\n",
    "    def prepend(self, data):\n",
    "        new_node = Node(data)\n",
    "\n",
    "        new_node.next = self.head\n",
    "        self.head = new_node\n",
    "\n",
    "    def insert_after_node(self, prev_node, data):\n",
    "\n",
    "        if not prev_node:\n",
    "            print(\"Previous node does not exist.\")\n",
    "            return \n",
    "\n",
    "        new_node = Node(data)\n",
    "\n",
    "        new_node.next = prev_node.next\n",
    "        prev_node.next = new_node\n",
    "\n",
    "    def delete_node(self, key):\n",
    "\n",
    "        cur_node = self.head\n",
    "\n",
    "        if cur_node and cur_node.data == key:\n",
    "            self.head = cur_node.next\n",
    "            cur_node = None\n",
    "            return\n",
    "\n",
    "        prev = None \n",
    "        while cur_node and cur_node.data != key:\n",
    "            prev = cur_node\n",
    "            cur_node = cur_node.next\n",
    "\n",
    "        if cur_node is None:\n",
    "            return \n",
    "\n",
    "        prev.next = cur_node.next\n",
    "        cur_node = None\n",
    "\n",
    "\n",
    "llist = LinkedList()\n",
    "llist.append(\"A\")\n",
    "llist.append(\"B\")\n",
    "llist.append(\"C\")\n",
    "llist.append(\"D\")\n",
    "\n",
    "llist.delete_node(\"B\")\n",
    "llist.delete_node(\"E\")\n",
    "\n",
    "llist.print_list()"
   ]
  },
  {
   "cell_type": "markdown",
   "metadata": {},
   "source": [
    "In the next lesson, we’ll consider another case of deleting a node from a linked list, i.e., we will delete a node based on position rather than value. Let’s find out more in the next lesson!"
   ]
  },
  {
   "cell_type": "code",
   "execution_count": null,
   "metadata": {},
   "outputs": [],
   "source": []
  }
 ],
 "metadata": {
  "kernelspec": {
   "display_name": "Python 3",
   "language": "python",
   "name": "python3"
  },
  "language_info": {
   "codemirror_mode": {
    "name": "ipython",
    "version": 3
   },
   "file_extension": ".py",
   "mimetype": "text/x-python",
   "name": "python",
   "nbconvert_exporter": "python",
   "pygments_lexer": "ipython3",
   "version": "3.7.4"
  },
  "toc": {
   "base_numbering": 1,
   "nav_menu": {},
   "number_sections": true,
   "sideBar": true,
   "skip_h1_title": false,
   "title_cell": "Table of Contents",
   "title_sidebar": "Contents",
   "toc_cell": true,
   "toc_position": {},
   "toc_section_display": true,
   "toc_window_display": true
  }
 },
 "nbformat": 4,
 "nbformat_minor": 2
}
