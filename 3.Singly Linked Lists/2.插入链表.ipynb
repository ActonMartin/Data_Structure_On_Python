{
 "cells": [
  {
   "cell_type": "markdown",
   "metadata": {
    "toc": true
   },
   "source": [
    "<h1>Table of Contents<span class=\"tocSkip\"></span></h1>\n",
    "<div class=\"toc\"><ul class=\"toc-item\"><li><span><a href=\"#Insertion\" data-toc-modified-id=\"Insertion-1\"><span class=\"toc-item-num\">1&nbsp;&nbsp;</span>Insertion</a></span></li><li><span><a href=\"#Append\" data-toc-modified-id=\"Append-2\"><span class=\"toc-item-num\">2&nbsp;&nbsp;</span>Append</a></span></li><li><span><a href=\"#Empty-Linked-List-Case\" data-toc-modified-id=\"Empty-Linked-List-Case-3\"><span class=\"toc-item-num\">3&nbsp;&nbsp;</span>Empty Linked List Case</a></span></li><li><span><a href=\"#Non-empty-Linked-List-Case\" data-toc-modified-id=\"Non-empty-Linked-List-Case-4\"><span class=\"toc-item-num\">4&nbsp;&nbsp;</span>Non-empty Linked List Case</a></span></li><li><span><a href=\"#print_list()\" data-toc-modified-id=\"print_list()-5\"><span class=\"toc-item-num\">5&nbsp;&nbsp;</span>print_list()</a></span></li><li><span><a href=\"#Prepend\" data-toc-modified-id=\"Prepend-6\"><span class=\"toc-item-num\">6&nbsp;&nbsp;</span>Prepend</a></span></li><li><span><a href=\"#Insert-After-Node\" data-toc-modified-id=\"Insert-After-Node-7\"><span class=\"toc-item-num\">7&nbsp;&nbsp;</span>Insert After Node</a></span></li></ul></div>"
   ]
  },
  {
   "cell_type": "markdown",
   "metadata": {},
   "source": [
    "# Insertion #\n",
    "In this lesson, we'll learn how to insert elements in a linked list at different places.<br>\n",
    "In the previous lesson, we defined our Node and LinkedList classes. In this lesson, we’ll implement the class methods to insert elements in a linked list:\n",
    "\n",
    "1.append<br>\n",
    "2.prepend<br>\n",
    "3.insert_after_node<br>\n"
   ]
  },
  {
   "cell_type": "markdown",
   "metadata": {},
   "source": [
    "# Append #\n",
    "The append method will insert an element at the end of the linked list. Below is an illustration which depicts the append functionality:\n",
    "![image.png](./photo_lib/append1.png)\n",
    "![image.png](./photo_lib/append2.png)\n",
    "Now let’s move on to writing some code."
   ]
  },
  {
   "cell_type": "code",
   "execution_count": 1,
   "metadata": {},
   "outputs": [],
   "source": [
    "class Node:\n",
    "  def __init__(self, data):\n",
    "    self.data = data\n",
    "    self.next = None\n",
    "\n",
    "class LinkedList:\n",
    "  def __init__(self):\n",
    "    self.head = None\n",
    "\n",
    "  def append(self, data):\n",
    "    new_node = Node(data)"
   ]
  },
  {
   "cell_type": "markdown",
   "metadata": {},
   "source": [
    "We define a new_node using our Node class on line 11. It consists of the data and the next field. We pass in data to the append method, and the data field in new_node has the entry of data that we passed to the append method."
   ]
  },
  {
   "cell_type": "markdown",
   "metadata": {},
   "source": [
    "# Empty Linked List Case #\n",
    "For the append method, we also need to cater for the case if the linked list is empty."
   ]
  },
  {
   "cell_type": "code",
   "execution_count": 2,
   "metadata": {},
   "outputs": [],
   "source": [
    "class Node:\n",
    "  def __init__(self, data):\n",
    "    self.data = data\n",
    "    self.next = None\n",
    "\n",
    "class LinkedList:\n",
    "  def __init__(self):\n",
    "    self.head = None\n",
    "\n",
    "  def append(self, data):\n",
    "    new_node = Node(data)\n",
    "    if self.head is None:\n",
    "      self.head = new_node\n",
    "      return"
   ]
  },
  {
   "cell_type": "markdown",
   "metadata": {},
   "source": [
    "In the above code, we check if the linked list is empty by checking the head of the linked list. If the self.head is None on line 12, it implies that it’s an empty linked list and there’s nothing there. The head pointer doesn’t point to anything at all, and therefore there is no node in the linked list. If there is no node in the linked list, we set the head pointer to the new_node that we created on line 13. In the next line, we simply return. The case of an empty linked list is relatively easy to handle."
   ]
  },
  {
   "cell_type": "markdown",
   "metadata": {},
   "source": [
    "# Non-empty Linked List Case #\n",
    "Let’s see what we can do if the linked list is not empty. We have new_node that we create, and we want to append it to the linked list. We can start from the head pointer and then move through each of the nodes in the linked list until we get to the end, i.e. None. Once we arrive at the location that we want to insert the new_node at, we insert as shown below:"
   ]
  },
  {
   "cell_type": "code",
   "execution_count": 3,
   "metadata": {},
   "outputs": [],
   "source": [
    "class Node:\n",
    "  def __init__(self, data):\n",
    "    self.data = data\n",
    "    self.next = None\n",
    "\n",
    "class LinkedList:\n",
    "  def __init__(self):\n",
    "    self.head = None\n",
    "\n",
    "  def append(self, data):\n",
    "    new_node = Node(data)\n",
    "    if self.head is None:\n",
    "      self.head = new_node\n",
    "      return\n",
    "    last_node = self.head\n",
    "    while last_node.next:\n",
    "      last_node = last_node.next\n",
    "    last_node.next = new_node"
   ]
  },
  {
   "cell_type": "markdown",
   "metadata": {},
   "source": [
    "On line 15, we define last_node which is initially equal to the head. This implies we’re at the start of the linked list. We have named the variable we defined on line 15 last_node​ because that’s what it will eventually point to. It will start at the beginning of the linked list and move through the linked list as long as the last_node.next doesn’t point to None. We keep moving from node to node on line 17 until we get to the last_node where last_node.next will point to None and will terminate the while loop on line 16. After the while loop concludes, last_node points to the last node. On line 18, we input our new_node into the linked list by setting the next of last_node to new_node which has its own next pointing to None.\n",
    "\n",
    "Now we want some way to verify our append method where we can print out the nodes of the linked list. For this purpose, let’s create a method called print_list()."
   ]
  },
  {
   "cell_type": "markdown",
   "metadata": {},
   "source": [
    "# print_list() #\n",
    "print_list is a class method, so it will take self as an argument and print out the entries of a linked list. We will start from the head pointer and print out the data component of the node and then move to the next node. We’ll keep a check on the next node to make sure it is not None. If it’s not, we move to the next node. This way, we keep printing out data until we’ve hit the null terminating component of the linked list. Let’s implement this in Python!"
   ]
  },
  {
   "cell_type": "code",
   "execution_count": 4,
   "metadata": {},
   "outputs": [
    {
     "name": "stdout",
     "output_type": "stream",
     "text": [
      "A\n",
      "B\n",
      "C\n",
      "D\n"
     ]
    }
   ],
   "source": [
    "class Node:\n",
    "  def __init__(self, data):\n",
    "    self.data = data\n",
    "    self.next = None\n",
    "\n",
    "class LinkedList:\n",
    "  def __init__(self):\n",
    "    self.head = None\n",
    "  \n",
    "  def print_list(self):\n",
    "    cur_node = self.head\n",
    "    while cur_node:\n",
    "      print(cur_node.data)\n",
    "      cur_node = cur_node.next\n",
    "\n",
    "  def append(self, data):\n",
    "    new_node = Node(data)\n",
    "    if self.head is None:\n",
    "      self.head = new_node\n",
    "      return\n",
    "    last_node = self.head\n",
    "    while last_node.next:\n",
    "      last_node = last_node.next\n",
    "    last_node.next = new_node\n",
    "  \n",
    "llist = LinkedList()\n",
    "llist.append(\"A\")\n",
    "llist.append(\"B\")\n",
    "llist.append(\"C\")\n",
    "llist.append(\"D\")\n",
    "\n",
    "\n",
    "llist.print_list()  "
   ]
  },
  {
   "cell_type": "markdown",
   "metadata": {},
   "source": [
    "There you go! We initialize cur_node equal to the head of the linked list. Then we use a while loop which keeps running and printing the data if cur_node is not equal to None.\n",
    "\n",
    "In the code above, we append four elements to the linked list. You can see this for yourself in the output.\n",
    "\n",
    "Now we’ll move on to another method of inserting elements in a linked list."
   ]
  },
  {
   "cell_type": "markdown",
   "metadata": {},
   "source": [
    "# Prepend #\n",
    "The prepend method will insert an element at the beginning of the linked list, as shown in the illustration below:\n",
    "![image.png](./photo_lib/prepend1.png)\n",
    "![image.png](./photo_lib/prepend2.png)\n",
    "We create a new node based on the data that is passed in, which in the above case is “D”. Now we want the next of this node to point to the current head of the linked list and replace the head of the linked list.\n",
    "\n",
    "Let’s go ahead and write this code after which we’ll walk it through step by step."
   ]
  },
  {
   "cell_type": "code",
   "execution_count": 5,
   "metadata": {},
   "outputs": [
    {
     "name": "stdout",
     "output_type": "stream",
     "text": [
      "D\n",
      "A\n",
      "B\n",
      "C\n"
     ]
    }
   ],
   "source": [
    "class Node:\n",
    "  def __init__(self, data):\n",
    "    self.data = data\n",
    "    self.next = None\n",
    "\n",
    "class LinkedList:\n",
    "  def __init__(self):\n",
    "    self.head = None\n",
    "  \n",
    "  def print_list(self):\n",
    "    cur_node = self.head\n",
    "    while cur_node:\n",
    "      print(cur_node.data)\n",
    "      cur_node = cur_node.next\n",
    "\n",
    "  def append(self, data):\n",
    "    new_node = Node(data)\n",
    "    if self.head is None:\n",
    "      self.head = new_node\n",
    "      return\n",
    "    last_node = self.head\n",
    "    while last_node.next:\n",
    "      last_node = last_node.next\n",
    "    last_node.next = new_node\n",
    "\n",
    "  def prepend(self, data):\n",
    "    new_node = Node(data)\n",
    "\n",
    "    new_node.next = self.head\n",
    "    self.head = new_node\n",
    "  \n",
    "  \n",
    "llist = LinkedList()\n",
    "llist.append(\"A\")\n",
    "llist.append(\"B\")\n",
    "llist.append(\"C\")\n",
    "\n",
    "llist.prepend(\"D\")\n",
    "\n",
    "llist.print_list()  "
   ]
  },
  {
   "cell_type": "markdown",
   "metadata": {},
   "source": [
    "We create a method called prepend. This also takes self and data since we need to tell it what to prepend to the linked list. We create a node based on the data passed into the method. Next, on line 29, we point the next of the new_node to the current head of the linked list, and then we set the head of the linked list equal to new_node on line 30. We have now prepended D to llist in the code above which previously only contained A, B, and C. You can play around and verify the prepend method for yourself!"
   ]
  },
  {
   "cell_type": "markdown",
   "metadata": {},
   "source": [
    "# Insert After Node #\n",
    "The last insertion method that we want to consider in this lesson is inserting an element after a given node. In the example illustrated below, we have a linked list that contains A, B, and C elements. Now we want to insert D, which is a new node, after node B.\n",
    "![image.png](./photo_lib/insert_after_node1.png)\n",
    "![image.png](./photo_lib/insert_after_node2.png)\n",
    "![image.png](./photo_lib/insert_after_node3.png)\n",
    "![image.png](./photo_lib/insert_after_node4.png)\n",
    "Let’s break down the steps required for us to do the operation of inserting D after B.\n",
    "\n",
    "First of all, we will create a new node based on the data D. That is step 1 as depicted in the slides. Next, we need to check if the node to be inserted after is in the linked list or not. If it’s not in the linked list, we’ll return; otherwise, we set the next pointer of the new node (D) to point to what the next pointer of the node B is pointing to, i.e. Node C. You can refer to step 2 in the slides above to make this clearer for yourself. Next, to implement step 3, we can change the next pointer of the node B to point to the new node D.\n",
    "Now let’s go ahead and code it!"
   ]
  },
  {
   "cell_type": "code",
   "execution_count": 6,
   "metadata": {},
   "outputs": [
    {
     "name": "stdout",
     "output_type": "stream",
     "text": [
      "A\n",
      "B\n",
      "D\n",
      "C\n"
     ]
    }
   ],
   "source": [
    "class Node:\n",
    "  def __init__(self, data):\n",
    "    self.data = data\n",
    "    self.next = None\n",
    "\n",
    "class LinkedList:\n",
    "  def __init__(self):\n",
    "    self.head = None\n",
    "  \n",
    "  def print_list(self):\n",
    "    cur_node = self.head\n",
    "    while cur_node:\n",
    "      print(cur_node.data)\n",
    "      cur_node = cur_node.next\n",
    "\n",
    "  def append(self, data):\n",
    "    new_node = Node(data)\n",
    "    if self.head is None:\n",
    "      self.head = new_node\n",
    "      return\n",
    "    last_node = self.head\n",
    "    while last_node.next:\n",
    "      last_node = last_node.next\n",
    "    last_node.next = new_node\n",
    "\n",
    "  def prepend(self, data):\n",
    "    new_node = Node(data)\n",
    "\n",
    "    new_node.next = self.head\n",
    "    self.head = new_node\n",
    "  \n",
    "  def insert_after_node(self, prev_node, data):\n",
    "    if not prev_node:\n",
    "      print(\"Previous node does not exist.\")\n",
    "      return\n",
    "    new_node = Node(data)\n",
    "\n",
    "    new_node.next = prev_node.next\n",
    "    prev_node.next = new_node\n",
    "\n",
    "  \n",
    "  \n",
    "llist = LinkedList()\n",
    "llist.append(\"A\")\n",
    "llist.append(\"B\")\n",
    "llist.append(\"C\")\n",
    "\n",
    "\n",
    "llist.insert_after_node(llist.head.next, \"D\")\n",
    "\n",
    "llist.print_list()  "
   ]
  },
  {
   "cell_type": "markdown",
   "metadata": {},
   "source": [
    "In the code above, we create a new method called insert_after_node on line 32. It takes self since it is a class method. It also takes prev_node which is the previous node after which we have to insert the new node and data which we’ll use to make the new_node.\n",
    "\n",
    "As mentioned before, we first want to check if the prev_node is None or not. If prev_node is None or does not exist, then we print the following on line 34:\n",
    "```\n",
    "Previous node does not exist.\n",
    "```\n",
    "\n",
    "and return on line 35.\n",
    "\n",
    "If prev_node is not None, then we create a new node on line 36. Now you need to refer to the illustration for the Insert After Node method. As shown in the illustration on step 2, on line 38, we point the next of the new_node to the next node of the node after which the insertion has to take place.\n",
    "\n",
    "To execute the third step according to the illustration, we set the prev_node.next to the new_node on line 39 so that the new_node now comes after the prev_node.\n",
    "\n",
    "In the code above, we insert D after B and print out the linked list to verify our method. As you have seen, it works!\n",
    "\n",
    "This is as much as we’ll cover about insertion in a linked list, so in the next lessons, we’ll continue to build on this code to run other methods in the LinkedList class. I hope this lesson was helpful. See you in the next lesson!"
   ]
  },
  {
   "cell_type": "code",
   "execution_count": null,
   "metadata": {},
   "outputs": [],
   "source": []
  }
 ],
 "metadata": {
  "kernelspec": {
   "display_name": "Python 3",
   "language": "python",
   "name": "python3"
  },
  "language_info": {
   "codemirror_mode": {
    "name": "ipython",
    "version": 3
   },
   "file_extension": ".py",
   "mimetype": "text/x-python",
   "name": "python",
   "nbconvert_exporter": "python",
   "pygments_lexer": "ipython3",
   "version": "3.7.4"
  },
  "toc": {
   "base_numbering": 1,
   "nav_menu": {},
   "number_sections": true,
   "sideBar": true,
   "skip_h1_title": false,
   "title_cell": "Table of Contents",
   "title_sidebar": "Contents",
   "toc_cell": true,
   "toc_position": {},
   "toc_section_display": true,
   "toc_window_display": true
  }
 },
 "nbformat": 4,
 "nbformat_minor": 2
}
