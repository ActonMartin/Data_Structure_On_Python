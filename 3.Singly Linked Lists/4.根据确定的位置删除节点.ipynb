{
 "cells": [
  {
   "cell_type": "markdown",
   "metadata": {},
   "source": [
    "# Deletion by Position\n",
    "\n",
    "In this lesson, you will learn how to delete a node at a given position in a linked list.\n"
   ]
  },
  {
   "cell_type": "markdown",
   "metadata": {},
   "source": [
    "Again, we’ll consider two cases while writing our code:\n",
    "\n",
    "1.Node to be deleted is at position 0<br>\n",
    "2.Node to be deleted is not at position 0"
   ]
  },
  {
   "cell_type": "markdown",
   "metadata": {},
   "source": [
    "**首先输入每次都需要的代码文件**"
   ]
  },
  {
   "cell_type": "code",
   "execution_count": 1,
   "metadata": {},
   "outputs": [],
   "source": [
    "class Node:\n",
    "  def __init__(self, data):\n",
    "    self.data = data\n",
    "    self.next = None\n",
    "\n",
    "class LinkedList:\n",
    "  def __init__(self):\n",
    "    self.head = None"
   ]
  },
  {
   "cell_type": "markdown",
   "metadata": {},
   "source": [
    "## 下面的才算是这一节的重点"
   ]
  },
  {
   "cell_type": "code",
   "execution_count": 2,
   "metadata": {},
   "outputs": [],
   "source": [
    "def dalete_node_at_pos(self, pos):\n",
    "    if self.head:\n",
    "        cur_node = self.head\n",
    "        if pos == 0:\n",
    "            self.head = cur_node.next\n",
    "            cur_node = None\n",
    "            return\n",
    "        \n",
    "        prev = None\n",
    "        count = 0\n",
    "        while cur_node and count != pos:\n",
    "            prev = cur_node\n",
    "            cur_node = cur_node.next\n",
    "            count += 1\n",
    "            \n",
    "        if cur_node is None:\n",
    "            return\n",
    "        \n",
    "        prev.next = cur_node.next\n",
    "        cur_node = None"
   ]
  },
  {
   "cell_type": "markdown",
   "metadata": {},
   "source": [
    "**下面将是一个实例**"
   ]
  },
  {
   "cell_type": "code",
   "execution_count": 3,
   "metadata": {},
   "outputs": [
    {
     "name": "stdout",
     "output_type": "stream",
     "text": [
      "B\n",
      "C\n",
      "D\n"
     ]
    }
   ],
   "source": [
    "class Node:\n",
    "    def __init__(self, data):\n",
    "        self.data = data\n",
    "        self.next = None\n",
    "\n",
    "\n",
    "class LinkedList:\n",
    "    def __init__(self):\n",
    "        self.head = None\n",
    "\n",
    "    def print_list(self):\n",
    "        cur_node = self.head\n",
    "        while cur_node:\n",
    "            print(cur_node.data)\n",
    "            cur_node = cur_node.next\n",
    "\n",
    "    def append(self, data):\n",
    "        new_node = Node(data)\n",
    "\n",
    "        if self.head is None:\n",
    "            self.head = new_node\n",
    "            return\n",
    "\n",
    "        last_node = self.head\n",
    "        while last_node.next:\n",
    "            last_node = last_node.next\n",
    "        last_node.next = new_node\n",
    "\n",
    "    def prepend(self, data):\n",
    "        new_node = Node(data)\n",
    "\n",
    "        new_node.next = self.head\n",
    "        self.head = new_node\n",
    "\n",
    "    def insert_after_node(self, prev_node, data):\n",
    "\n",
    "        if not prev_node:\n",
    "            print(\"Previous node does not exist.\")\n",
    "            return \n",
    "\n",
    "        new_node = Node(data)\n",
    "\n",
    "        new_node.next = prev_node.next\n",
    "        prev_node.next = new_node\n",
    "\n",
    "    def delete_node(self, key):\n",
    "\n",
    "        cur_node = self.head\n",
    "\n",
    "        if cur_node and cur_node.data == key:\n",
    "            self.head = cur_node.next\n",
    "            cur_node = None\n",
    "            return\n",
    "\n",
    "        prev = None \n",
    "        while cur_node and cur_node.data != key:\n",
    "            prev = cur_node\n",
    "            cur_node = cur_node.next\n",
    "\n",
    "        if cur_node is None:\n",
    "            return \n",
    "\n",
    "        prev.next = cur_node.next\n",
    "        cur_node = None\n",
    "\n",
    "    def delete_node_at_pos(self, pos):\n",
    "        if self.head:\n",
    "            cur_node = self.head\n",
    "\n",
    "            if pos == 0:\n",
    "                self.head = cur_node.next\n",
    "                cur_node = None\n",
    "                return\n",
    "\n",
    "            prev = None\n",
    "            count = 0\n",
    "            while cur_node and count != pos:\n",
    "                prev = cur_node \n",
    "                cur_node = cur_node.next\n",
    "                count += 1\n",
    "\n",
    "            if cur_node is None:\n",
    "                return \n",
    "\n",
    "            prev.next = cur_node.next\n",
    "            cur_node = None\n",
    "\n",
    "\n",
    "llist = LinkedList()\n",
    "llist.append(\"A\")\n",
    "llist.append(\"B\")\n",
    "llist.append(\"C\")\n",
    "llist.append(\"D\")\n",
    "\n",
    "llist.delete_node_at_pos(0)\n",
    "\n",
    "llist.print_list()"
   ]
  },
  {
   "cell_type": "code",
   "execution_count": null,
   "metadata": {},
   "outputs": [],
   "source": []
  }
 ],
 "metadata": {
  "kernelspec": {
   "display_name": "Python 3",
   "language": "python",
   "name": "python3"
  },
  "language_info": {
   "codemirror_mode": {
    "name": "ipython",
    "version": 3
   },
   "file_extension": ".py",
   "mimetype": "text/x-python",
   "name": "python",
   "nbconvert_exporter": "python",
   "pygments_lexer": "ipython3",
   "version": "3.7.4"
  }
 },
 "nbformat": 4,
 "nbformat_minor": 2
}
