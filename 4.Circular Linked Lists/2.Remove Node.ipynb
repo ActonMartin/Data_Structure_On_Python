{
 "cells": [
  {
   "cell_type": "markdown",
   "metadata": {
    "toc": true
   },
   "source": [
    "<h1>Table of Contents<span class=\"tocSkip\"></span></h1>\n",
    "<div class=\"toc\"><ul class=\"toc-item\"><li><span><a href=\"#Implementation\" data-toc-modified-id=\"Implementation-1\"><span class=\"toc-item-num\">1&nbsp;&nbsp;</span>Implementation</a></span></li><li><span><a href=\"#Explanation\" data-toc-modified-id=\"Explanation-2\"><span class=\"toc-item-num\">2&nbsp;&nbsp;</span>Explanation</a></span></li></ul></div>"
   ]
  },
  {
   "cell_type": "markdown",
   "metadata": {},
   "source": [
    "In this lesson, we investigate how to remove nodes in a circular linked list and code the method in Python.\n",
    "\n",
    "There is an assumption that we will make before diving into the implementation:\n",
    "\n",
    "1.The occurrences of nodes will be unique, i.e., there will be no duplicate nodes in the circular linked list that we’ll test on.\n",
    "\n",
    "This is because the code that we will write will only be responsible for removing the first occurrence of the key provided to be deleted.\n",
    "\n",
    "# Implementation #\n",
    "Now let’s go ahead and jump to the implementation of remove in Python:"
   ]
  },
  {
   "cell_type": "code",
   "execution_count": 1,
   "metadata": {},
   "outputs": [],
   "source": [
    "def remove(self, key):\n",
    "  if self.head:\n",
    "    if self.head.data == key:\n",
    "      cur = self.head \n",
    "      while cur.next != self.head:\n",
    "        cur = cur.next \n",
    "      if self.head == self.head.next:      #这里是检查self.head是不是循环链表中唯一的元素\n",
    "        self.head = None\n",
    "      else:\n",
    "        cur.next = self.head.next\n",
    "        self.head = self.head.next\n",
    "    else:\n",
    "      cur = self.head \n",
    "      prev = None \n",
    "      while cur.next != self.head:\n",
    "        prev = cur \n",
    "        cur = cur.next\n",
    "        if cur.data == key:\n",
    "          prev.next = cur.next \n",
    "          cur = cur.next"
   ]
  },
  {
   "cell_type": "markdown",
   "metadata": {},
   "source": [
    "# Explanation #\n",
    "The code is divided into parts based on whether or not we are deleting the head node.\n",
    "\n",
    "If the condition on line 2 is False, it implies that we are dealing with an empty list and we just return from the method. Otherwise, the execution jumps to line 3.\n",
    "\n",
    "If we are deleting the head node, then the condition on line 3 will be true, and the execution will jump to line 4 where we set cur equal to self.head. To delete the head node, we have to update the node that points to the head node and the node that the head node points to. As a result, we set up a while loop on line 5 which will run until cur.next points to self.head. We keep updating cur to cur.next on line 6. After the while loop terminates, cur will be the last node in the linked list which will point to the head node.\n",
    "\n",
    "At this point, we also need to consider if self.head is the only element in the circular linked list. If it is the only element, then self.head is pointing to itself. So, we check on line 7 if that’s the case, then self.head is set to None on line 8. On the other hand, if it’s not the only element and there is another element to replace the head node, we set cur.next equal to self.head.next on line 10. We have updated the node which was previously pointing to the head node. In the next line, we’ll update self.head to self.head.next which removes the previous head from the linked list and updates the head of the linked list.\n",
    "\n",
    "Now we’ll focus on the else part on line 12 which refers to the case where we are not deleting the head node. To traverse the linked list and to keep track of the current and previous nodes, we initialize cur to self.head and prev to None (lines 13-14). On lines 16-17, we update prev to cur and cur to cur.next to keep track of the nodes in the while loop which will traverse the entire linked list once. Next, we have to check for the node to be deleted which we check using the condition on line 18. If we find the node to be deleted, we set the next of the previous node (prev.next) to the next of the current node (cur.next) on line 19 and then set cur to cur.next on line 20 to move along in the linked list.\n",
    "\n",
    "Below is the entire implementation of the circular linked list that we have covered so far. Feel free to play around with it!"
   ]
  },
  {
   "cell_type": "code",
   "execution_count": 2,
   "metadata": {},
   "outputs": [
    {
     "name": "stdout",
     "output_type": "stream",
     "text": [
      "B\n",
      "D\n"
     ]
    }
   ],
   "source": [
    "class Node:\n",
    "    def __init__(self, data):\n",
    "        self.data = data \n",
    "        self.next = None\n",
    "\n",
    "\n",
    "class CircularLinkedList:\n",
    "    def __init__(self):\n",
    "        self.head = None \n",
    "\n",
    "    def prepend(self, data):\n",
    "        new_node = Node(data)\n",
    "        cur = self.head \n",
    "        new_node.next = self.head\n",
    "\n",
    "        if not self.head:\n",
    "            new_node.next = new_node\n",
    "        else:\n",
    "            while cur.next != self.head:\n",
    "                cur = cur.next\n",
    "            cur.next = new_node\n",
    "        self.head = new_node\n",
    "\n",
    "    def append(self, data):\n",
    "        if not self.head:\n",
    "            self.head = Node(data)\n",
    "            self.head.next = self.head\n",
    "        else:\n",
    "            new_node = Node(data)\n",
    "            cur = self.head\n",
    "            while cur.next != self.head:\n",
    "                cur = cur.next\n",
    "            cur.next = new_node\n",
    "            new_node.next = self.head\n",
    "\n",
    "    def print_list(self):\n",
    "        cur = self.head \n",
    "\n",
    "        while cur:\n",
    "            print(cur.data)\n",
    "            cur = cur.next\n",
    "            if cur == self.head:\n",
    "                break\n",
    "\n",
    "    def remove(self, key):\n",
    "        if self.head:\n",
    "            if self.head.data == key:\n",
    "                cur = self.head \n",
    "                while cur.next != self.head:\n",
    "                    cur = cur.next \n",
    "                if self.head == self.head.next:\n",
    "                    self.head = None\n",
    "                else:\n",
    "                    cur.next = self.head.next\n",
    "                    self.head = self.head.next\n",
    "            else:\n",
    "                cur = self.head \n",
    "                prev = None \n",
    "                while cur.next != self.head:\n",
    "                    prev = cur \n",
    "                    cur = cur.next\n",
    "                    if cur.data == key:\n",
    "                        prev.next = cur.next \n",
    "                        cur = cur.next\n",
    "\n",
    "\n",
    "cllist = CircularLinkedList()\n",
    "cllist.append(\"A\")\n",
    "cllist.append(\"B\")\n",
    "cllist.append(\"C\")\n",
    "cllist.append(\"D\")\n",
    "\n",
    "cllist.remove(\"A\")\n",
    "cllist.remove(\"C\")\n",
    "cllist.print_list()"
   ]
  },
  {
   "cell_type": "code",
   "execution_count": null,
   "metadata": {},
   "outputs": [],
   "source": []
  }
 ],
 "metadata": {
  "kernelspec": {
   "display_name": "Python 3",
   "language": "python",
   "name": "python3"
  },
  "language_info": {
   "codemirror_mode": {
    "name": "ipython",
    "version": 3
   },
   "file_extension": ".py",
   "mimetype": "text/x-python",
   "name": "python",
   "nbconvert_exporter": "python",
   "pygments_lexer": "ipython3",
   "version": "3.7.4"
  },
  "toc": {
   "base_numbering": 1,
   "nav_menu": {},
   "number_sections": true,
   "sideBar": true,
   "skip_h1_title": false,
   "title_cell": "Table of Contents",
   "title_sidebar": "Contents",
   "toc_cell": true,
   "toc_position": {},
   "toc_section_display": true,
   "toc_window_display": false
  }
 },
 "nbformat": 4,
 "nbformat_minor": 2
}
