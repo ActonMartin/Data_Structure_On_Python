{
 "cells": [
  {
   "cell_type": "markdown",
   "metadata": {
    "toc": true
   },
   "source": [
    "<h1>Table of Contents<span class=\"tocSkip\"></span></h1>\n",
    "<div class=\"toc\"><ul class=\"toc-item\"><li><span><a href=\"#Introduction\" data-toc-modified-id=\"Introduction-1\"><span class=\"toc-item-num\">1&nbsp;&nbsp;</span>Introduction</a></span></li><li><span><a href=\"#append\" data-toc-modified-id=\"append-2\"><span class=\"toc-item-num\">2&nbsp;&nbsp;</span>append</a></span></li><li><span><a href=\"#print_list\" data-toc-modified-id=\"print_list-3\"><span class=\"toc-item-num\">3&nbsp;&nbsp;</span>print_list</a></span></li><li><span><a href=\"#prepend\" data-toc-modified-id=\"prepend-4\"><span class=\"toc-item-num\">4&nbsp;&nbsp;</span>prepend</a></span></li></ul></div>"
   ]
  },
  {
   "cell_type": "markdown",
   "metadata": {},
   "source": [
    "In this lesson, you will be introduced to circular linked lists and you will learn how to insert elements into a circular linked list.\n",
    "# Introduction #\n",
    "\n",
    "First of all, let’s talk about what a circular linked list is. It is very similar to a singly linked list except for the fact that the next of the tail node is the head node instead of null.\n",
    "\n",
    "Below is an illustration to help you visualize a circular linked list:\n",
    "![](photo_lib/Circular_Linked_Lists.png)\n",
    "You can see from the illustration above that the circular linked list contains the same kind of nodes as a singly linked list. As the name circular suggests, the tail node points to the head of the linked list instead of pointing to null which makes the linked list circular. Now let’s implement it in Python:"
   ]
  },
  {
   "cell_type": "code",
   "execution_count": 1,
   "metadata": {},
   "outputs": [],
   "source": [
    "class Node:\n",
    "    def __init__(self, data):\n",
    "      self.data = data\n",
    "      self.next = None\n",
    "\n",
    "\n",
    "class CircularLinkedList:\n",
    "    def __init__(self):\n",
    "      self.head = None \n",
    "\n",
    "    def prepend(self, data):\n",
    "      pass\n",
    "\n",
    "    def append(self, data):\n",
    "      pass\n",
    "\n",
    "    def print_list(self):\n",
    "      pass"
   ]
  },
  {
   "cell_type": "markdown",
   "metadata": {},
   "source": [
    "The Node class is the same as before. Also, the constructor of CircularLinkedList class is identical to the constructor of the LinkedList class. However, the methods prepend, append, and print_list will be different this time.\n",
    "# append #\n",
    "Appending to a circular linked list implies inserting the new node after the node that was previously pointing to the head of the linked list.\n",
    "\n",
    "Let’s have a look at the code below for the append method:"
   ]
  },
  {
   "cell_type": "code",
   "execution_count": 2,
   "metadata": {},
   "outputs": [],
   "source": [
    "def append(self, data):\n",
    "  if not self.head:\n",
    "      self.head = Node(data)\n",
    "      self.head.next = self.head\n",
    "  else:\n",
    "      new_node = Node(data)\n",
    "      cur = self.head\n",
    "      while cur.next != self.head:\n",
    "          cur = cur.next\n",
    "      cur.next = new_node\n",
    "      new_node.next = self.head"
   ]
  },
  {
   "cell_type": "markdown",
   "metadata": {},
   "source": [
    "One case is to append to an empty linked list. In this case, we make the new node the head of the linked list, and its next node is itself. So, we’ll check if the linked list is empty. If self.head is None, then the condition on line 2 will evaluate to true and we will initialize self.head to a new Node based on the input parameter data. As this is the append method for a circular linked list, we make the next of the head point to itself on line 4.\n",
    "\n",
    "Now let’s look at the case where the linked list is not empty. In this case, we iterate the linked list to get to the last element whose next is the head node and insert the new element after that last node. On line 6, we initialize new_node by calling the constructor of the Node class and passing data to it. Next, we have to find an appropriate position in the linked list to insert new_node. For this, we set cur to self.head on line 7 and set up a while loop on line 8 which executes until the next node of the cur does not equal self.head. cur is updated to cur.next in the body of the while loop on line 9 to help us traverse the linked list. After the while loop terminates, cur will be the node that points to the head node and we will insert new_node after cur. Hence, we set cur.next equal to new_node on line 10. As we have to complete our circular chain, we set new_node.next to point to self.head on line 11. This completes our implementation for the append method."
   ]
  },
  {
   "cell_type": "markdown",
   "metadata": {},
   "source": [
    "# print_list #\n",
    "To verify the append method, we will need to print the circular linked list. Let’s see how we would do this. Check out the code below:"
   ]
  },
  {
   "cell_type": "code",
   "execution_count": 3,
   "metadata": {},
   "outputs": [],
   "source": [
    "def print_list(self):\n",
    "  cur = self.head \n",
    "\n",
    "  while cur:\n",
    "      print(cur.data)\n",
    "      cur = cur.next\n",
    "      if cur == self.head:\n",
    "          break"
   ]
  },
  {
   "cell_type": "markdown",
   "metadata": {},
   "source": [
    "To print out the linked list, we set cur to self.head on line 2 to get a starting point. Then we set up a while loop on line 4 which will run until cur becomes None. In the while loop, we simply print cur.data on line 5 and update cur to cur.next on line 6 to proceed to the next node. Note that in a circular linked list, no node points to None. Instead, the last node points to the head of the linked list. To break the while loop, we check if we have reached the head of the linked list using an if-condition on line 7. If we have, we break out from the loop with the help of the break statement on line 8.\n",
    "\n",
    "As you can see, the print_list method was reasonably straightforward. Let’s move on to the prepend method.\n",
    "\n",
    "# prepend #\n",
    "To prepend an element to the linked list implies to make it the head of the linked list. Let’s see how we can code this functionality for circular linked lists in Python:"
   ]
  },
  {
   "cell_type": "code",
   "execution_count": 4,
   "metadata": {},
   "outputs": [],
   "source": [
    "def prepend(self, data):\n",
    "  new_node = Node(data)\n",
    "  cur = self.head \n",
    "  new_node.next = self.head\n",
    "\n",
    "  if not self.head:\n",
    "      new_node.next = new_node\n",
    "  else:\n",
    "      while cur.next != self.head:\n",
    "          cur = cur.next\n",
    "      cur.next = new_node\n",
    "  self.head = new_node"
   ]
  },
  {
   "cell_type": "markdown",
   "metadata": {},
   "source": [
    "On line 2, new_node is initialized to a new object of the Node class based on data. This new node will eventually become the head of the linked list while the current head has to be pushed ahead in the linked list. Therefore, we set new_node.next to self.head on line 4 so that the next of the new node will be the previous head of the linked list. cur is initialized to self.head on line 2 to help us with the rest of the code.\n",
    "\n",
    "Next, as with the append method, we check if the linked list in which we are about to insert is an empty linked list or not. If self.head is None, we simply set new_node.next to new_node on line 7 to give the circular effect. Otherwise, if self.head is not None, we proceed to the else part of the if-condition. In the else part, we set up a while loop on line 9 in which we update cur to cur.next on line 10. This while loop executes until cur.next is equal to self.head. This essentially means that the while loop will run until cur is the last node or the node before the head node, after which we will set the cur.next to new_node on line 11 to implement the circular chain of our linked list.\n",
    "\n",
    "Finally, we set self.head to new_node on line 12 and it becomes the head of the linked list.\n",
    "\n",
    "As we have individually covered all three methods we discussed at the beginning of the lesson, it is now time to test them. Check out the full code in the code widget below:"
   ]
  },
  {
   "cell_type": "code",
   "execution_count": 5,
   "metadata": {},
   "outputs": [
    {
     "name": "stdout",
     "output_type": "stream",
     "text": [
      "A\n",
      "B\n",
      "C\n",
      "D\n"
     ]
    }
   ],
   "source": [
    "class Node:\n",
    "    def __init__(self, data):\n",
    "        self.data = data \n",
    "        self.next = None\n",
    "\n",
    "\n",
    "class CircularLinkedList:\n",
    "    def __init__(self):\n",
    "        self.head = None \n",
    "\n",
    "    def prepend(self, data):\n",
    "        new_node = Node(data)\n",
    "        cur = self.head \n",
    "        new_node.next = self.head\n",
    "\n",
    "        if not self.head:\n",
    "            new_node.next = new_node\n",
    "        else:\n",
    "            while cur.next != self.head:\n",
    "                cur = cur.next\n",
    "            cur.next = new_node\n",
    "        self.head = new_node\n",
    "\n",
    "    def append(self, data):\n",
    "        if not self.head:\n",
    "            self.head = Node(data)\n",
    "            self.head.next = self.head\n",
    "        else:\n",
    "            new_node = Node(data)\n",
    "            cur = self.head\n",
    "            while cur.next != self.head:\n",
    "                cur = cur.next\n",
    "            cur.next = new_node\n",
    "            new_node.next = self.head\n",
    "\n",
    "    def print_list(self):\n",
    "        cur = self.head \n",
    "\n",
    "        while cur:\n",
    "            print(cur.data)\n",
    "            cur = cur.next\n",
    "            if cur == self.head:\n",
    "                break\n",
    "\n",
    "\n",
    "cllist = CircularLinkedList()\n",
    "cllist.append(\"C\")\n",
    "cllist.append(\"D\")\n",
    "cllist.prepend(\"B\")\n",
    "cllist.prepend(\"A\")\n",
    "cllist.print_list()"
   ]
  },
  {
   "cell_type": "markdown",
   "metadata": {},
   "source": [
    "In this lesson, you have been introduced to the concept of a circular linked list and its basic implementation. I hope​ you were able to easily identify the changes made from the implementation of a singly linked list. In further lessons, we’ll go over problems and challenges related to circular linked lists. Stay tuned!"
   ]
  },
  {
   "cell_type": "code",
   "execution_count": null,
   "metadata": {},
   "outputs": [],
   "source": []
  }
 ],
 "metadata": {
  "kernelspec": {
   "display_name": "Python 3",
   "language": "python",
   "name": "python3"
  },
  "language_info": {
   "codemirror_mode": {
    "name": "ipython",
    "version": 3
   },
   "file_extension": ".py",
   "mimetype": "text/x-python",
   "name": "python",
   "nbconvert_exporter": "python",
   "pygments_lexer": "ipython3",
   "version": "3.7.4"
  },
  "toc": {
   "base_numbering": 1,
   "nav_menu": {},
   "number_sections": true,
   "sideBar": true,
   "skip_h1_title": false,
   "title_cell": "Table of Contents",
   "title_sidebar": "Contents",
   "toc_cell": true,
   "toc_position": {},
   "toc_section_display": true,
   "toc_window_display": false
  }
 },
 "nbformat": 4,
 "nbformat_minor": 2
}
