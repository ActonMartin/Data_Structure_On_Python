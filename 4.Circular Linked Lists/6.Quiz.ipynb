{
 "cells": [
  {
   "cell_type": "markdown",
   "metadata": {
    "toc": true
   },
   "source": [
    "<h1>Table of Contents<span class=\"tocSkip\"></span></h1>\n",
    "<div class=\"toc\"><ul class=\"toc-item\"></ul></div>"
   ]
  },
  {
   "cell_type": "markdown",
   "metadata": {},
   "source": [
    "**Given that you have access to the head node of a circular linked list containing nn elements, what is the time complexity to search for an element?**\n",
    "\n",
    "O(n)\n",
    "\n",
    "**A linked list is a circular linked list when the tail node points to itself.**\n",
    "\n",
    "False\n",
    "\n",
    "**Given that you have access to the head node, the time complexity of removing the head node in a circular linked list containing nn elements is O(1)O(1).**\n",
    "\n",
    "False\n",
    "\n",
    "**What is the output of the following code?**\n",
    "```python\n",
    "cllist = CircularLinkedList()\n",
    "cllist.append(\"A\")\n",
    "cllist.prepend(\"B\")\n",
    "cllist.prepend(\"C\")\n",
    "cllist.append(\"D\")\n",
    " \n",
    "cllist.remove(\"A\")\n",
    "cllist.remove(\"C\")\n",
    "print(cllist.head.data)\n",
    "```\n",
    "\n",
    "B\n",
    "\n",
    "**What is the time complexity of the following method if we run it on a circular linked list containing nn elements?**\n",
    "```python\n",
    "def print_list(self):\n",
    "  cur = self.head \n",
    " \n",
    "  while cur:\n",
    "      print(cur.data)\n",
    "      cur = cur.next\n",
    "      if cur == self.head:\n",
    "          break\n",
    "```\n",
    "\n",
    "O(n)"
   ]
  },
  {
   "cell_type": "code",
   "execution_count": null,
   "metadata": {},
   "outputs": [],
   "source": []
  }
 ],
 "metadata": {
  "kernelspec": {
   "display_name": "Python 3",
   "language": "python",
   "name": "python3"
  },
  "language_info": {
   "codemirror_mode": {
    "name": "ipython",
    "version": 3
   },
   "file_extension": ".py",
   "mimetype": "text/x-python",
   "name": "python",
   "nbconvert_exporter": "python",
   "pygments_lexer": "ipython3",
   "version": "3.7.4"
  },
  "toc": {
   "base_numbering": 1,
   "nav_menu": {},
   "number_sections": true,
   "sideBar": true,
   "skip_h1_title": false,
   "title_cell": "Table of Contents",
   "title_sidebar": "Contents",
   "toc_cell": true,
   "toc_position": {},
   "toc_section_display": true,
   "toc_window_display": false
  }
 },
 "nbformat": 4,
 "nbformat_minor": 2
}
