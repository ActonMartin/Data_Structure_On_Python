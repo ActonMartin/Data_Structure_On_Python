{
 "cells": [
  {
   "cell_type": "markdown",
   "metadata": {
    "toc": true
   },
   "source": [
    "<h1>Table of Contents<span class=\"tocSkip\"></span></h1>\n",
    "<div class=\"toc\"><ul class=\"toc-item\"><li><span><a href=\"#Add-Node-After\" data-toc-modified-id=\"Add-Node-After-1\"><span class=\"toc-item-num\">1&nbsp;&nbsp;</span>Add Node After</a></span><ul class=\"toc-item\"><li><span><a href=\"#The-node-that-we-have-to-insert-after-the-new-node-is-the-last-node-in-the-doubly-linked-list-so-that-the-next-of-that-node-is-NULL.\" data-toc-modified-id=\"The-node-that-we-have-to-insert-after-the-new-node-is-the-last-node-in-the-doubly-linked-list-so-that-the-next-of-that-node-is-NULL.-1.1\"><span class=\"toc-item-num\">1.1&nbsp;&nbsp;</span><strong>The node that we have to insert after the new node is the last node in the doubly linked list so that the next of that node is NULL.</strong></a></span></li><li><span><a href=\"#The-node-that-we-have-to-insert-after-the-new-node-is-not-the-last-node-in-the-doubly-linked-list.\" data-toc-modified-id=\"The-node-that-we-have-to-insert-after-the-new-node-is-not-the-last-node-in-the-doubly-linked-list.-1.2\"><span class=\"toc-item-num\">1.2&nbsp;&nbsp;</span><strong>The node that we have to insert after the new node is not the last node in the doubly linked list.</strong></a></span></li></ul></li><li><span><a href=\"#Add-Node-Before\" data-toc-modified-id=\"Add-Node-Before-2\"><span class=\"toc-item-num\">2&nbsp;&nbsp;</span>Add Node Before</a></span><ul class=\"toc-item\"><li><span><a href=\"#We-have-to-insert-a-new-node-before-the-head-node.\" data-toc-modified-id=\"We-have-to-insert-a-new-node-before-the-head-node.-2.1\"><span class=\"toc-item-num\">2.1&nbsp;&nbsp;</span>We have to insert a new node before the head node.</a></span></li><li><span><a href=\"#We-have-to-insert-a-new-node-before-a-node-that-is-NOT-the-head-node.\" data-toc-modified-id=\"We-have-to-insert-a-new-node-before-a-node-that-is-NOT-the-head-node.-2.2\"><span class=\"toc-item-num\">2.2&nbsp;&nbsp;</span>We have to insert a new node before a node that is NOT the head node.</a></span></li></ul></li></ul></div>"
   ]
  },
  {
   "cell_type": "markdown",
   "metadata": {},
   "source": [
    "In this lesson, we consider how to add nodes either before or after a specified node in a doubly-linked list. Once we cover the concept of how to perform this action, we follow through with a Python implementation.\n",
    "\n",
    "The general approach to solve this problem would be to traverse the doubly linked list and look for the key that we have to insert the new node after or before. Once we get to the node whose value matches the input key, we update the pointers to make room for the new node and insert the new node according to the position specified."
   ]
  },
  {
   "cell_type": "markdown",
   "metadata": {},
   "source": [
    "# Add Node After #\n",
    "We’ll break up this scenario into two cases:\n",
    "\n",
    "## **The node that we have to insert after the new node is the last node in the doubly linked list so that the next of that node is NULL.** ##\n",
    "![](image/dd1.png)\n",
    "![](image/dd2.png)\n",
    "\n",
    "In the above case, we’ll make a call to the append method that we implemented in the last lesson. append will handle everything for us and perfectly works in this scenario as we have to insert the new node after the last node, which is what append method does.\n",
    "\n",
    "\n",
    "## **The node that we have to insert after the new node is not the last node in the doubly linked list.** ##\n",
    "\n",
    "Let’s look at the illustration below to check how we will handle the second case:\n",
    "\n",
    "![](image/ddnf1.png)\n",
    "![](image/ddnf2.png)\n",
    "![](image/ddnf3.png)\n",
    "![](image/ddnf4.png)\n",
    "![](image/ddnf5.png)\n",
    "![](image/ddnf6.png)\n",
    "![](image/ddnf7.png)\n",
    "![](image/ddnf8.png)\n",
    "\n",
    "\n",
    "Hope the slides above were useful for you to understand the algorithm that we are about to code in Python. Let’s go ahead and check out the code below:"
   ]
  },
  {
   "cell_type": "code",
   "execution_count": 1,
   "metadata": {},
   "outputs": [],
   "source": [
    "def add_after_node(self, key, data):\n",
    "  cur = self.head\n",
    "  while cur:\n",
    "    if cur.next is None and cur.data == key:\n",
    "      self.append(data)\n",
    "      return\n",
    "    elif cur.data == key:\n",
    "      new_node = Node(data)\n",
    "      nxt = cur.next \n",
    "      cur.next = new_node\n",
    "      new_node.next = nxt\n",
    "      new_node.prev = cur \n",
    "      nxt.prev = new_node\n",
    "      return\n",
    "    cur = cur.next"
   ]
  },
  {
   "cell_type": "markdown",
   "metadata": {},
   "source": [
    "key passed into add_after_node is the key of the node after which we have to insert the new node in the linked list while data is for the data component of the new node to be inserted.\n",
    "\n",
    "On line 2, we set cur to self.head and proceed to the while loop on line 3 which runs until cur is None. As we divided our algorithm for two cases, we have divided our code into conditions to cater to these two cases in the while loop. First, the conditions on line 4 check if key matches the data of the last node of the linked list where cur.next will be None. If it does, then we call the append method to append the new node to the linked list and return on line 6.\n",
    "\n",
    "On the other hand, the condition on line 7 will handle the second case. If we find the node after which we have to insert the new node, and it is not the last node in the linked list, then execution jumps to line 8. new_node is created based on the data argument passed to the method. Next, we store the next node of cur in a temporary variable nxt on line 9. As we have to insert new_node after cur, cur.next is set to new_node on line 10. On line 11, new_node.next is set to nxt which was previously the next node of cur. At this point, we have set all the next pointers, now let’s update the previous pointers as we are dealing with a doubly linked list.\n",
    "\n",
    "As we have inserted new_node after cur, the prev of new_node points to cur on line 12. nxt is the next node to the new_node so we update the prev of nxt to new_node on line 13. After this step, we return from the method on line 14. cur updates itself to cur.next outside the if conditions to help us traverse the linked list (line 15).\n",
    "\n",
    "# Add Node Before #\n",
    "\n",
    "Now let’s discuss how to add nodes before a specified node. We will also divide this problem into two scenarios:\n",
    "\n",
    "## We have to insert a new node before the head node. ##\n",
    "\n",
    "![](image/ddpf1.png)\n",
    "![](image/ddpf2.png)\n",
    "\n",
    "\n",
    "## We have to insert a new node before a node that is NOT the head node. ##\n",
    "\n",
    "![](image/ddmf1.png)\n",
    "![](image/ddmf2.png)\n",
    "![](image/ddmf3.png)\n",
    "![](image/ddmf4.png)\n",
    "![](image/ddmf5.png)\n",
    "![](image/ddmf6.png)\n",
    "![](image/ddmf7.png)\n",
    "![](image/ddmf8.png)"
   ]
  },
  {
   "cell_type": "markdown",
   "metadata": {},
   "source": [
    "Now let’s jump to the programming part in Python:"
   ]
  },
  {
   "cell_type": "code",
   "execution_count": 2,
   "metadata": {},
   "outputs": [],
   "source": [
    "def add_before_node(self, key, data):\n",
    "  cur = self.head \n",
    "  while cur:\n",
    "    if cur.prev is None and cur.data == key:\n",
    "      self.prepend(data)\n",
    "      return\n",
    "    elif cur.data == key:\n",
    "      new_node = Node(data)\n",
    "      prev = cur.prev\n",
    "      prev.next = new_node\n",
    "      cur.prev = new_node\n",
    "      new_node.next = cur\n",
    "      new_node.prev = prev\n",
    "      return \n",
    "    cur = cur.next"
   ]
  },
  {
   "cell_type": "markdown",
   "metadata": {},
   "source": [
    "The same arguments (self,key, data) have been passed to add_before_node method as were given to add_after_node method. key is the key of the node before which we will insert the new node that we will create using data.\n",
    "\n",
    "cur is initialized to self.head on line 2. Next, we have a while loop on line 3 in which cur updates to cur.next (line 15) until cur becomes None. Now, we check whether or not the previous node of cur is None and whether if we want to insert our new node before cur. If true, then we call the prepend method that we implemented in the last lesson which will do the necessary steps to insert the new node before the head node, after which we return (lines 5-6). However, if we don’t want to insert before the head node and find the node that we want to insert before (which is not the head node), the execution jumps to line 8. The first thing we do is create the new_node by passing in data to the constructor from the Node class. On line 9, we store the previous node of the current node in a temporary variable prev. Now we need to update all the pointers to make the insertion successful. So, on line 10, we update the next node of prev to be new_node and as we have to insert new_node before cur, we set cur.prev to new_node on line 11. Let’s also update the previous and the next pointers of new_node. As new_node is before cur, the next of new_node points to cur (line 12) and as prev is the previous node to new_node now, new_node.prev points to prev on line 13. On line 14, we return from the method after we have successfully inserted the data.\n",
    "\n",
    "That was all regarding the insertion of elements in a doubly linked list. We have a test case for you in the code widget below so that you can play around will all the insertion implementations:"
   ]
  },
  {
   "cell_type": "code",
   "execution_count": 4,
   "metadata": {},
   "outputs": [
    {
     "name": "stdout",
     "output_type": "stream",
     "text": [
      "5\n",
      "0\n",
      "1\n",
      "2\n",
      "3\n",
      "6\n",
      "9\n",
      "4\n"
     ]
    }
   ],
   "source": [
    "class Node:\n",
    "  def __init__(self, data):\n",
    "    self.data = data \n",
    "    self.next = None\n",
    "    self.prev = None\n",
    "\n",
    "\n",
    "class DoublyLinkedList:\n",
    "  def __init__(self):\n",
    "    self.head = None\n",
    "\n",
    "  def append(self, data):\n",
    "    if self.head is None:\n",
    "      new_node = Node(data)\n",
    "      new_node.prev = None\n",
    "      self.head = new_node\n",
    "      new_node = None\n",
    "\n",
    "    else:\n",
    "      new_node = Node(data)\n",
    "      cur = self.head \n",
    "      while cur.next:\n",
    "          cur = cur.next \n",
    "      cur.next = new_node \n",
    "      new_node.prev = cur \n",
    "      new_node.next = None\n",
    "\n",
    "  def prepend(self, data):\n",
    "    if self.head is None:\n",
    "        new_node = Node(data)\n",
    "        new_node.next = self.head\n",
    "        self.head = new_node\n",
    "\n",
    "    else:\n",
    "        new_node = Node(data)\n",
    "        self.head.prev = new_node\n",
    "        new_node.next = self.head\n",
    "        self.head = new_node\n",
    "\n",
    "  def add_after_node(self, key, data):\n",
    "    cur = self.head\n",
    "    while cur:\n",
    "      if cur.next is None and cur.data == key:\n",
    "        self.append(data)\n",
    "        return\n",
    "      elif cur.data == key:\n",
    "        new_node = Node(data)\n",
    "        nxt = cur.next \n",
    "        cur.next = new_node\n",
    "        new_node.next = nxt\n",
    "        new_node.prev = cur \n",
    "        nxt.prev = new_node\n",
    "        return\n",
    "      cur = cur.next\n",
    "\n",
    "  def add_before_node(self, key, data):\n",
    "    cur = self.head \n",
    "    while cur:\n",
    "      if cur.prev is None and cur.data == key:\n",
    "        self.prepend(data)\n",
    "        return\n",
    "      elif cur.data == key:\n",
    "        new_node = Node(data)\n",
    "        prev = cur.prev\n",
    "        prev.next = new_node\n",
    "        cur.prev = new_node\n",
    "        new_node.next = cur\n",
    "        new_node.prev = prev\n",
    "        return\n",
    "      cur = cur.next\n",
    "\n",
    "  def print_list(self):\n",
    "    cur = self.head \n",
    "    while cur:\n",
    "      print(cur.data)\n",
    "      cur = cur.next\n",
    "\n",
    "\n",
    "dllist = DoublyLinkedList()\n",
    "\n",
    "dllist.prepend(0)\n",
    "dllist.append(1)\n",
    "dllist.append(2)\n",
    "dllist.append(3)\n",
    "dllist.append(4)\n",
    "dllist.prepend(5)\n",
    "dllist.add_after_node(3,6)\n",
    "dllist.add_before_node(4,9)\n",
    "\n",
    "dllist.print_list()"
   ]
  },
  {
   "cell_type": "markdown",
   "metadata": {},
   "source": [
    "So far, we have covered many different methods to insert elements in a doubly linked list. Let’s learn how to remove elements from a doubly linked list in the next lesson."
   ]
  },
  {
   "cell_type": "code",
   "execution_count": null,
   "metadata": {},
   "outputs": [],
   "source": []
  }
 ],
 "metadata": {
  "kernelspec": {
   "display_name": "Python 3",
   "language": "python",
   "name": "python3"
  },
  "language_info": {
   "codemirror_mode": {
    "name": "ipython",
    "version": 3
   },
   "file_extension": ".py",
   "mimetype": "text/x-python",
   "name": "python",
   "nbconvert_exporter": "python",
   "pygments_lexer": "ipython3",
   "version": "3.7.4"
  },
  "toc": {
   "base_numbering": 1,
   "nav_menu": {},
   "number_sections": true,
   "sideBar": true,
   "skip_h1_title": false,
   "title_cell": "Table of Contents",
   "title_sidebar": "Contents",
   "toc_cell": true,
   "toc_position": {},
   "toc_section_display": true,
   "toc_window_display": false
  }
 },
 "nbformat": 4,
 "nbformat_minor": 2
}
