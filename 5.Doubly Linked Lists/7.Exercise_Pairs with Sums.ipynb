{
 "cells": [
  {
   "cell_type": "markdown",
   "metadata": {
    "toc": true
   },
   "source": [
    "<h1>Table of Contents<span class=\"tocSkip\"></span></h1>\n",
    "<div class=\"toc\"><ul class=\"toc-item\"><li><span><a href=\"#Problem\" data-toc-modified-id=\"Problem-1\"><span class=\"toc-item-num\">1&nbsp;&nbsp;</span>Problem</a></span></li><li><span><a href=\"#Coding-Time!\" data-toc-modified-id=\"Coding-Time!-2\"><span class=\"toc-item-num\">2&nbsp;&nbsp;</span>Coding Time!</a></span><ul class=\"toc-item\"><li><span><a href=\"#MY-CODE\" data-toc-modified-id=\"MY-CODE-2.1\"><span class=\"toc-item-num\">2.1&nbsp;&nbsp;</span>MY CODE</a></span></li><li><span><a href=\"#OFFICIAL-CODE\" data-toc-modified-id=\"OFFICIAL-CODE-2.2\"><span class=\"toc-item-num\">2.2&nbsp;&nbsp;</span>OFFICIAL CODE</a></span></li></ul></li></ul></div>"
   ]
  },
  {
   "cell_type": "markdown",
   "metadata": {},
   "source": [
    "Challenge yourself with an exercise in which you'll have to find pairs from a doubly linked list which sum to some number.\n",
    "\n",
    "# Problem #\n",
    "\n",
    "In this exercise, you are required to find pairs from a doubly linked list which sum to a specified number.\n",
    "\n",
    "An example is illustrated for you below.\n",
    "\n",
    "![](image/pairs1.png)\n",
    "![](image/pairs2.png)\n",
    "\n",
    "\n",
    "# Coding Time! #\n",
    "\n",
    "In the code below, pairs_with_sum is a class method of the DoublyLinkedList class. You cannot see the rest of the code as it is hidden. As pairs_with_sum is a class method, please make sure that you don’t change the indentation of the code provided to you. You are required to write your solution under the function prototype.\n",
    "\n",
    "The pairs from pairs_with_sum have to follow this condition; for a pair (a,b), a should come before b in the doubly linked list while it is traversed from the head node.\n",
    "\n",
    "For this exercise, you are required to return a Python list containing the pairs as string types in the following format:\n",
    "\n",
    "```\n",
    "(a,b)\n",
    "```\n",
    "\n",
    "For example, the pairs for the linked list shown in the illustration are as follows:\n",
    "\n",
    "```\n",
    "[\"(1,4)\",\"(2,3)\"]\n",
    "```\n",
    "\n",
    "Failure to return the answers in the required format will fail the test cases.\n",
    "\n",
    "Good luck!"
   ]
  },
  {
   "cell_type": "markdown",
   "metadata": {},
   "source": [
    "## MY CODE ##"
   ]
  },
  {
   "cell_type": "code",
   "execution_count": 1,
   "metadata": {},
   "outputs": [],
   "source": [
    "  def pairs_with_sum(self, sum_val):  \n",
    "    p = self.head\n",
    "    list1 = []\n",
    "    while p:\n",
    "      cur = self.head\n",
    "      while cur:\n",
    "        if cur.data + p.data ==sum_val:\n",
    "          one_poss = str(str('(')+str(p.data)+str(',')+str(cur.data)+str(')'))\n",
    "          list1.append(one_poss)\n",
    "        cur = cur.next\n",
    "      p = p.next\n",
    "    length = int(len(list1)/2)\n",
    "    return list1[:2]"
   ]
  },
  {
   "cell_type": "markdown",
   "metadata": {},
   "source": [
    "## OFFICIAL CODE ##\n"
   ]
  },
  {
   "cell_type": "code",
   "execution_count": null,
   "metadata": {},
   "outputs": [],
   "source": [
    "  def pairs_with_sum(self, sum_val):  \n",
    "    pairs = list()\n",
    "    p = self.head \n",
    "    q = None \n",
    "    while p:\n",
    "      q = p.next\n",
    "      while q:\n",
    "        if (p.data + q.data) == sum_val:\n",
    "          pairs.append(\"(\" + str(p.data) + \",\" + str(q.data) + \")\")\n",
    "        q = q.next\n",
    "      p = p.next\n",
    "    return pairs"
   ]
  }
 ],
 "metadata": {
  "kernelspec": {
   "display_name": "Python 3",
   "language": "python",
   "name": "python3"
  },
  "language_info": {
   "codemirror_mode": {
    "name": "ipython",
    "version": 3
   },
   "file_extension": ".py",
   "mimetype": "text/x-python",
   "name": "python",
   "nbconvert_exporter": "python",
   "pygments_lexer": "ipython3",
   "version": "3.7.4"
  },
  "toc": {
   "base_numbering": 1,
   "nav_menu": {},
   "number_sections": true,
   "sideBar": true,
   "skip_h1_title": false,
   "title_cell": "Table of Contents",
   "title_sidebar": "Contents",
   "toc_cell": true,
   "toc_position": {},
   "toc_section_display": true,
   "toc_window_display": false
  }
 },
 "nbformat": 4,
 "nbformat_minor": 2
}
