{
 "cells": [
  {
   "cell_type": "markdown",
   "metadata": {
    "toc": true
   },
   "source": [
    "<h1>Table of Contents<span class=\"tocSkip\"></span></h1>\n",
    "<div class=\"toc\"><ul class=\"toc-item\"><li><span><a href=\"#We-have-two-classes-in-the-code-above:\" data-toc-modified-id=\"We-have-two-classes-in-the-code-above:-1\"><span class=\"toc-item-num\">1&nbsp;&nbsp;</span>We have two classes in the code above:</a></span></li><li><span><a href=\"#append\" data-toc-modified-id=\"append-2\"><span class=\"toc-item-num\">2&nbsp;&nbsp;</span>append</a></span></li><li><span><a href=\"#print_list\" data-toc-modified-id=\"print_list-3\"><span class=\"toc-item-num\">3&nbsp;&nbsp;</span>print_list</a></span></li><li><span><a href=\"#prepend\" data-toc-modified-id=\"prepend-4\"><span class=\"toc-item-num\">4&nbsp;&nbsp;</span>prepend</a></span></li></ul></div>"
   ]
  },
  {
   "cell_type": "markdown",
   "metadata": {},
   "source": [
    "In this lesson, we introduce the doubly linked list data structure and code up an implementation of this data structure in Python.\n",
    "\n",
    "After that, we look at how to append (add elements to the back of the doubly linked list) and prepend (add elements to the front of the doubly linked list).\n",
    "\n",
    "Finally, we will write a print method to verify that the append and prepend methods work as expected.\n",
    "![](image/doubly.png)\n",
    "As you can see, the doubly linked list is very similar to the singly linked list except for the difference of the previous pointer. In a doubly linked list, a node is made up of the following components:<br>\n",
    "**Data**<br>\n",
    "**Next (Points to the next node)**<br>\n",
    "**Prev (Points to the previous node)**<br>\n",
    "\n",
    "As illustrated, the prev of the head node points to NULL while the next of the tail node also points to NULL.\n",
    "\n",
    "Let’s go ahead and implement the Doubly Linked List in Python:"
   ]
  },
  {
   "cell_type": "code",
   "execution_count": 1,
   "metadata": {},
   "outputs": [],
   "source": [
    "class Node:\n",
    "    def __init__(self, data):\n",
    "        self.data = data\n",
    "        self.next = None\n",
    "        self.prev = None\n",
    "\n",
    "\n",
    "class DoublyLinkedList:\n",
    "    def __init__(self):\n",
    "        self.head = None\n",
    "\n",
    "    def append(self, data):\n",
    "        pass\n",
    "\n",
    "    def prepend(self, data):\n",
    "        pass\n",
    "\n",
    "    def print_list(self):\n",
    "        pass"
   ]
  },
  {
   "cell_type": "markdown",
   "metadata": {},
   "source": [
    "# We have two classes in the code above:\n",
    "\n",
    "1.Node\n",
    "\n",
    "2.DoublyLinkedList\n",
    "\n",
    "The key difference in the Node class of the last two chapters and of this chapter is that we have another component, prev, present in the Node class for this chapter. prev will keep track of the previous node in the linked list.\n",
    "\n",
    "We also define DoublyLinkedList class and initialize its head to None. In this lesson, we will complete the implementation of the three class methods that we have specified in the code above.\n",
    "\n",
    "# append #\n",
    "Let’s go over the implementation of append:"
   ]
  },
  {
   "cell_type": "code",
   "execution_count": 2,
   "metadata": {},
   "outputs": [],
   "source": [
    "def append(self, data):\n",
    "  if self.head is None:\n",
    "    new_node = Node(data)\n",
    "    new_node.prev = None\n",
    "    self.head = new_node\n",
    "  else:\n",
    "    new_node = Node(data)\n",
    "    cur = self.head\n",
    "    while cur.next:\n",
    "      cur = cur.next\n",
    "    cur.next = new_node\n",
    "    new_node.prev = cur\n",
    "    new_node.next = None"
   ]
  },
  {
   "cell_type": "markdown",
   "metadata": {},
   "source": [
    "We have handled two cases of appending elements in the code above:<br>\n",
    "\n",
    "1.The doubly linked list is empty.\n",
    "\n",
    "2.The doubly linked list is not empty.\n",
    "\n",
    "If the doubly linked list is empty, i.e., self.head is None, then the execution jumps to line 3 and we initialize new_node based on data inputted to the method. As the new_node will be the only node in the linked list, we will set new_node.prev to None on line 4 and make it the head node on line 5.\n",
    "\n",
    "Now let’s move on to the second case. On line 7, we initialize new_node by calling the constructor of the Node class and passing data to it. Next, we need an appropriate position to locate the newly created node. Therefore, we initialize cur on line 8 to the head node to traverse the doubly linked list and reach the last node in it. This is done by the while loop in which cur updates to cur.next and the loop runs until we reach the last node where cur.next will be equal to None (lines 9-10). Once the while loop terminates, we point the next of cur to new_node on line 11. As now we have appended new_node to the linked list, we also need to care about the previous component of new_node which should now point to cur. This step is implemented on line 12 after which we also update new_node.next to None as it is our new last node."
   ]
  },
  {
   "cell_type": "markdown",
   "metadata": {},
   "source": [
    "# print_list #\n",
    "As we need some way to test the append method, we’ll go on to implement print_list:\n",
    "\n"
   ]
  },
  {
   "cell_type": "code",
   "execution_count": 3,
   "metadata": {},
   "outputs": [],
   "source": [
    "def print_list(self):\n",
    "  cur = self.head\n",
    "  while cur:\n",
    "    print(cur.data)\n",
    "    cur = cur.next"
   ]
  },
  {
   "cell_type": "markdown",
   "metadata": {},
   "source": [
    "The print_list method is pretty straightforward. cur initially points to self.head (line 2) and then keeps printing its data (line 4) and updating itself to cur.next (line 5) to traverse the entire linked list. This is it!\n",
    "# prepend #\n",
    "It’s time for us to implement the prepend method of DoublyLinkedList class. Check out the code below:"
   ]
  },
  {
   "cell_type": "code",
   "execution_count": 4,
   "metadata": {},
   "outputs": [],
   "source": [
    "def prepend(self, data):\n",
    "  if self.head is None:\n",
    "    new_node = Node(data)\n",
    "    new_node.prev = None \n",
    "    self.head = new_node\n",
    "  else:\n",
    "    new_node = Node(data)\n",
    "    self.head.prev = new_node\n",
    "    new_node.next = self.head\n",
    "    self.head = new_node\n",
    "    new_node.prev = None"
   ]
  },
  {
   "cell_type": "markdown",
   "metadata": {},
   "source": [
    "The code on lines 2-5 is pretty much the same as the code in the append method. Let’s jump to line 7 which will execute if we don’t have an empty linked list. On line 7, we create new_node using data passed into the method. Now we need to position it at the start of the linked list appropriately. As the newly created node will precede the current head node and take over the head position, the previous of the current head node should point to new_node. This is done on line 8. The next of the new_node should then also point to the current head node so, on line 9, we set new_node.next to self.head. Finally, on line 10, we update self.head to new_node and set new_node.prev equal to None (line 11) as it is the new head now. This perfects our implementation to prepend an element to a doubly linked list.\n",
    "\n",
    "Below we have the entire implementation of the DoublyLinkedList class with all the methods completely implemented along with a sample test case. Check it out!"
   ]
  },
  {
   "cell_type": "code",
   "execution_count": 5,
   "metadata": {},
   "outputs": [
    {
     "name": "stdout",
     "output_type": "stream",
     "text": [
      "5\n",
      "0\n",
      "1\n",
      "2\n",
      "3\n",
      "4\n"
     ]
    }
   ],
   "source": [
    "class Node:\n",
    "    def __init__(self, data):\n",
    "        self.data = data\n",
    "        self.next = None\n",
    "        self.prev = None\n",
    "\n",
    "\n",
    "class DoublyLinkedList:\n",
    "    def __init__(self):\n",
    "        self.head = None\n",
    "\n",
    "    def append(self, data):\n",
    "        if self.head is None:\n",
    "            new_node = Node(data)\n",
    "            new_node.prev = None\n",
    "            self.head = new_node\n",
    "        else:\n",
    "            new_node = Node(data)\n",
    "            cur = self.head\n",
    "            while cur.next:\n",
    "                cur = cur.next\n",
    "            cur.next = new_node\n",
    "            new_node.prev = cur\n",
    "            new_node.next = None\n",
    "\n",
    "    def prepend(self, data):\n",
    "        if self.head is None:\n",
    "            new_node = Node(data)\n",
    "            new_node.prev = None \n",
    "            self.head = new_node\n",
    "        else:\n",
    "            new_node = Node(data)\n",
    "            self.head.prev = new_node\n",
    "            new_node.next = self.head\n",
    "            self.head = new_node\n",
    "            new_node.prev = None\n",
    "\n",
    "    def print_list(self):\n",
    "        cur = self.head\n",
    "        while cur:\n",
    "            print(cur.data)\n",
    "            cur = cur.next\n",
    "\n",
    "\n",
    "dllist = DoublyLinkedList()\n",
    "dllist.prepend(0)\n",
    "dllist.append(1)\n",
    "dllist.append(2)\n",
    "dllist.append(3)\n",
    "dllist.append(4)\n",
    "dllist.prepend(5)\n",
    "\n",
    "dllist.print_list()"
   ]
  },
  {
   "cell_type": "code",
   "execution_count": null,
   "metadata": {},
   "outputs": [],
   "source": []
  }
 ],
 "metadata": {
  "kernelspec": {
   "display_name": "Python 3",
   "language": "python",
   "name": "python3"
  },
  "language_info": {
   "codemirror_mode": {
    "name": "ipython",
    "version": 3
   },
   "file_extension": ".py",
   "mimetype": "text/x-python",
   "name": "python",
   "nbconvert_exporter": "python",
   "pygments_lexer": "ipython3",
   "version": "3.7.4"
  },
  "toc": {
   "base_numbering": 1,
   "nav_menu": {},
   "number_sections": true,
   "sideBar": true,
   "skip_h1_title": false,
   "title_cell": "Table of Contents",
   "title_sidebar": "Contents",
   "toc_cell": true,
   "toc_position": {},
   "toc_section_display": true,
   "toc_window_display": false
  }
 },
 "nbformat": 4,
 "nbformat_minor": 2
}
